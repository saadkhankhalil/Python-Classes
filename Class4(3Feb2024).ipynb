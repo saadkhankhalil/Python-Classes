{
 "cells": [
  {
   "cell_type": "markdown",
   "id": "e343aece",
   "metadata": {},
   "source": [
    "# if statements\n",
    "# control flow\n",
    "# conditional flow "
   ]
  },
  {
   "cell_type": "code",
   "execution_count": 6,
   "id": "de101939",
   "metadata": {},
   "outputs": [
    {
     "name": "stdout",
     "output_type": "stream",
     "text": [
      "Enter your age10\n",
      "Bacha hy abhi\n"
     ]
    }
   ],
   "source": [
    "age = int(input(\"Enter your age\"))\n",
    "if age<15:\n",
    "    print(\"Bacha hy abhi\")    "
   ]
  },
  {
   "cell_type": "code",
   "execution_count": 5,
   "id": "528c8300",
   "metadata": {},
   "outputs": [
    {
     "name": "stdout",
     "output_type": "stream",
     "text": [
      "Kia hisab he45\n",
      "5kG\n"
     ]
    }
   ],
   "source": [
    "tomato_price = int(input(\"Kia hisab he\"))\n",
    "if tomato_price<50:\n",
    "    print('5kG')"
   ]
  },
  {
   "cell_type": "code",
   "execution_count": 9,
   "id": "0aec21ab",
   "metadata": {},
   "outputs": [
    {
     "name": "stdout",
     "output_type": "stream",
     "text": [
      "Kia hisab he89\n",
      "1 Kg\n"
     ]
    }
   ],
   "source": [
    "tomato_price = int(input(\"Kia hisab he\"))\n",
    "if tomato_price<50:\n",
    "    print('5kG')\n",
    "else:\n",
    "    print('1 Kg')"
   ]
  },
  {
   "cell_type": "raw",
   "id": "ec1f8253",
   "metadata": {},
   "source": [
    "Grade: A+, A,  B, C, D, E, F\n",
    "       90  80 70 60 50 40 "
   ]
  },
  {
   "cell_type": "markdown",
   "id": "ef0b17d5",
   "metadata": {},
   "source": [
    "# Multiple If statments "
   ]
  },
  {
   "cell_type": "code",
   "execution_count": 10,
   "id": "d3ee4fef",
   "metadata": {},
   "outputs": [
    {
     "name": "stdout",
     "output_type": "stream",
     "text": [
      "Enter percentage73.5\n",
      "B\n"
     ]
    }
   ],
   "source": [
    "percentage = float(input('Enter percentage'))\n",
    "\n",
    "if percentage>=90:\n",
    "    print('A+')\n",
    "elif percentage>=80:\n",
    "    print(\"A\")\n",
    "elif percentage>=70:\n",
    "    print(\"B\")\n",
    "elif percentage>=60:\n",
    "    print(\"C\")\n",
    "elif percentage>=50:\n",
    "    print(\"D\")\n",
    "elif percentage>=40:\n",
    "    print(\"E\")\n",
    "else:\n",
    "    print(\"F\")"
   ]
  },
  {
   "cell_type": "code",
   "execution_count": 30,
   "id": "6c85f970",
   "metadata": {},
   "outputs": [
    {
     "name": "stdout",
     "output_type": "stream",
     "text": [
      "Enter percentage45\n",
      "E\n"
     ]
    }
   ],
   "source": [
    "# multiple if statements \n",
    "percentage=float(input('Enter percentage'))\n",
    "if percentage <40:\n",
    "    print(\"F\")\n",
    "elif percentage<50:\n",
    "    print('E')\n",
    "elif percentage<60:\n",
    "    print('D')\n",
    "elif percentage<70:\n",
    "    print('C')\n",
    "elif percentage<80:\n",
    "    print('B')\n",
    "elif percentage<90:\n",
    "    print('A')\n",
    "else:\n",
    "    print('A+') "
   ]
  },
  {
   "cell_type": "raw",
   "id": "781383ce",
   "metadata": {},
   "source": [
    "ticket: free >>> age 5 se kam ho ya 65 se zydaa ho\n",
    "        10$ >>>  5 ya 5 se zyada ho mager 18 se kam ho\n",
    "        20 >>> 18 ya 18 se zayda ho ya 65 k baraber ho ya kam ho \n",
    "        \n",
    "       using and , or operator"
   ]
  },
  {
   "cell_type": "code",
   "execution_count": 21,
   "id": "059c94a9",
   "metadata": {},
   "outputs": [
    {
     "name": "stdout",
     "output_type": "stream",
     "text": [
      "Enter age45\n",
      "$20\n"
     ]
    }
   ],
   "source": [
    "age  = int(input('Enter age'))\n",
    "if age<5:\n",
    "    print('Free')\n",
    "elif age<18:\n",
    "    print(\"$10\")\n",
    "elif age<65:\n",
    "    print('$20')\n",
    "else:\n",
    "    print('Free')"
   ]
  },
  {
   "cell_type": "code",
   "execution_count": 29,
   "id": "5ea68c19",
   "metadata": {},
   "outputs": [
    {
     "name": "stdout",
     "output_type": "stream",
     "text": [
      "Enter age18\n",
      "20\n"
     ]
    }
   ],
   "source": [
    "age  = int(input('Enter age'))\n",
    "if age<5 or age>65:\n",
    "    print(\"Free\")\n",
    "elif age>17 and age<=65:\n",
    "    print(\"20\")\n",
    "else:\n",
    "    print('10')"
   ]
  },
  {
   "cell_type": "markdown",
   "id": "d8e2c4ff",
   "metadata": {},
   "source": [
    "# or >>> Equivalent to multiple if statements\n",
    "# and >>> Eqivalent to nested if statments "
   ]
  },
  {
   "cell_type": "code",
   "execution_count": 37,
   "id": "ce513cab",
   "metadata": {},
   "outputs": [
    {
     "name": "stdout",
     "output_type": "stream",
     "text": [
      "Do you have bonanza shirtsyes\n",
      "Do you have red coluryes\n",
      "Do you have Medium Sizeyes\n",
      "Will you me in 1000yes\n",
      "Please pack\n"
     ]
    }
   ],
   "source": [
    "brand = input(\"Do you have bonanza shirts\")\n",
    "if brand =='yes':\n",
    "    \n",
    "    color = input(\"Do you have red colur\")\n",
    "    if color =='yes':\n",
    "        \n",
    "        size  = input (\"Do you have Medium Size\")\n",
    "        if size=='yes':\n",
    "            \n",
    "            price = input(\"Will you me in 1000\")\n",
    "            if price=='yes':\n",
    "                print(\"Please pack\")\n",
    "            else:\n",
    "                print('OK thank you price are high')\n",
    "        else:\n",
    "            print('OK thank you dont have medium')\n",
    "    else:\n",
    "        print('OK thank you dont have red')\n",
    "        \n",
    "else:\n",
    "    print('OK thank you dont have bonanza')\n"
   ]
  },
  {
   "cell_type": "code",
   "execution_count": 42,
   "id": "8e9e1ac4",
   "metadata": {},
   "outputs": [
    {
     "name": "stdout",
     "output_type": "stream",
     "text": [
      "Is today elction dayyes\n",
      "Do you have CNICyes\n",
      "Name is voter listyes\n",
      "Thappa Lagao\n"
     ]
    }
   ],
   "source": [
    "election_day =input(\"Is today elction day\")\n",
    "if election_day=='yes':\n",
    "    \n",
    "    cnic =  input(\"Do you have CNIC\")\n",
    "    if cnic=='yes':\n",
    "        \n",
    "        vote_list = input(\"Name is voter list\")\n",
    "        if vote_list=='yes':\n",
    "            \n",
    "            print(\"Thappa Lagao\")\n",
    "        else:\n",
    "            print(\"Baron ko le kar aao\")\n",
    "    else:\n",
    "        print(\"CNIC lekar aoo\")\n",
    "else:\n",
    "    print(\"Cancel Election\")"
   ]
  },
  {
   "cell_type": "code",
   "execution_count": 1,
   "id": "b3fc1df4",
   "metadata": {},
   "outputs": [
    {
     "name": "stdout",
     "output_type": "stream",
     "text": [
      "Kya aap k pass paisay hy: yes\n",
      "Kya aap k pass chocolates hy: yes\n",
      "Kya aap k pass juice hy: yes\n",
      "Kya aap k pass chips hy: yes\n",
      "Ok give him Afeefa and zimal....\n"
     ]
    }
   ],
   "source": [
    "#Afeefa and zimal barby wants to buy chocolate, juice, chips, price:\n",
    "\n",
    "\n",
    "\n",
    "\n",
    "Price =  input(\"Kya aap k pass paisay hy: \")\n",
    "if Price == \"yes\":\n",
    "    Chocolate = input(\"Kya aap k pass chocolates hy: \")\n",
    "    if Chocolate == \"yes\":\n",
    "        Juice = input(\"Kya aap k pass juice hy: \")\n",
    "        if Juice == \"yes\":\n",
    "            Chips = input(\"Kya aap k pass chips hy: \")\n",
    "            if Chips == \"yes\":\n",
    "                print(\"Ok give him Afeefa and zimal....\")\n",
    "            else:\n",
    "                print(\"ok you dont have Chips!\")\n",
    "        else:\n",
    "            print(\"ok you dont have juice!\")\n",
    "    else:\n",
    "        print(\"ok you dont have money!\")\n",
    "else:\n",
    "    print(\"theek hy koyi baat nahi baad mein ajawo!\")\n",
    "    "
   ]
  },
  {
   "cell_type": "code",
   "execution_count": null,
   "id": "1999831e",
   "metadata": {},
   "outputs": [],
   "source": [
    "# correct All the MCQS:\n",
    "\n",
    "\n",
    "\n",
    "\n",
    "a=input(\"Pakistan Best Prime Menister kon hy: \")\n",
    "if a==\"Imran Khan\":\n",
    "    b=input(\"Pathaano ka kon sa province hy: \")\n",
    "    if b==\"KPK\":\n",
    "        c=input(\"world war2 mein Germany ka Army cheif kon tha: \")\n",
    "        if c == \"Hitler\":\n",
    "            d=input(\"Cricked World Cup 2023 ka winner kon tha: \")\n",
    "            if d==\"Austrailia\":\n",
    "                print(\"Congrugulation....you did a great job...\")\n",
    "            else:\n",
    "                print(\"Wrong Answer! Fail...\")\n",
    "            \n",
    "        else:\n",
    "            print(\"Wrong Answer! Fail...\")\n",
    "    else:\n",
    "        print(\"Wrong Answer! Fail...\")\n",
    "else:\n",
    "    print(\"G nahi aap fail ho gayai!\")\n",
    "print(\"App ny saray sawalo ka jawab correct hona chahiyai, agar correct howa to tum fail ho...\")"
   ]
  },
  {
   "cell_type": "code",
   "execution_count": 1,
   "id": "a8d1868d",
   "metadata": {},
   "outputs": [
    {
     "data": {
      "text/plain": [
       "1"
      ]
     },
     "execution_count": 1,
     "metadata": {},
     "output_type": "execute_result"
    }
   ],
   "source": [
    "list = [1,2,3,'apple','orange',True]\n",
    "list[0]"
   ]
  },
  {
   "cell_type": "code",
   "execution_count": 2,
   "id": "be6d95d8",
   "metadata": {},
   "outputs": [
    {
     "data": {
      "text/plain": [
       "'orange'"
      ]
     },
     "execution_count": 2,
     "metadata": {},
     "output_type": "execute_result"
    }
   ],
   "source": [
    "list[4]"
   ]
  },
  {
   "cell_type": "code",
   "execution_count": 4,
   "id": "bfd98da2",
   "metadata": {},
   "outputs": [
    {
     "data": {
      "text/plain": [
       "[1, 0, 3, 'apple', 'orange', True]"
      ]
     },
     "execution_count": 4,
     "metadata": {},
     "output_type": "execute_result"
    }
   ],
   "source": [
    "list[1]=0\n",
    "list"
   ]
  },
  {
   "cell_type": "code",
   "execution_count": 5,
   "id": "d0643bf6",
   "metadata": {},
   "outputs": [
    {
     "data": {
      "text/plain": [
       "[1, 0, 3, 'apple', 'orange', True, 'Imran Khan']"
      ]
     },
     "execution_count": 5,
     "metadata": {},
     "output_type": "execute_result"
    }
   ],
   "source": [
    "list.append('Imran Khan')\n",
    "list"
   ]
  },
  {
   "cell_type": "code",
   "execution_count": 6,
   "id": "7aedb6b1",
   "metadata": {},
   "outputs": [
    {
     "data": {
      "text/plain": [
       "[0, 3, 'apple']"
      ]
     },
     "execution_count": 6,
     "metadata": {},
     "output_type": "execute_result"
    }
   ],
   "source": [
    "list[1:4]"
   ]
  },
  {
   "cell_type": "code",
   "execution_count": 10,
   "id": "c99e7782",
   "metadata": {},
   "outputs": [
    {
     "data": {
      "text/plain": [
       "[1, 0, 3, 'apple', 'orange', True, 'Imran Khan']"
      ]
     },
     "execution_count": 10,
     "metadata": {},
     "output_type": "execute_result"
    }
   ],
   "source": [
    "list[1:2]\n",
    "list"
   ]
  },
  {
   "cell_type": "code",
   "execution_count": 11,
   "id": "84889d31",
   "metadata": {},
   "outputs": [
    {
     "data": {
      "text/plain": [
       "[1, 0, 3, 'apple', 'orange', True]"
      ]
     },
     "execution_count": 11,
     "metadata": {},
     "output_type": "execute_result"
    }
   ],
   "source": [
    "list.pop()\n",
    "list"
   ]
  },
  {
   "cell_type": "code",
   "execution_count": 12,
   "id": "3e936724",
   "metadata": {},
   "outputs": [
    {
     "data": {
      "text/plain": [
       "[1, 0, 3, 'apple', 'orange', True]"
      ]
     },
     "execution_count": 12,
     "metadata": {},
     "output_type": "execute_result"
    }
   ],
   "source": [
    "list"
   ]
  },
  {
   "cell_type": "code",
   "execution_count": 13,
   "id": "01ba56bb",
   "metadata": {},
   "outputs": [
    {
     "data": {
      "text/plain": [
       "[1, 0, 'banana', 3, 'apple', 'orange', True]"
      ]
     },
     "execution_count": 13,
     "metadata": {},
     "output_type": "execute_result"
    }
   ],
   "source": [
    "list.insert(2,'banana')\n",
    "list"
   ]
  },
  {
   "cell_type": "code",
   "execution_count": 14,
   "id": "c5e97005",
   "metadata": {},
   "outputs": [
    {
     "data": {
      "text/plain": [
       "[1, 0, 'banana', 3, 'apple', 'orange', True, 'ali']"
      ]
     },
     "execution_count": 14,
     "metadata": {},
     "output_type": "execute_result"
    }
   ],
   "source": [
    "list.append('ali')\n",
    "list"
   ]
  },
  {
   "cell_type": "code",
   "execution_count": 18,
   "id": "660386d4",
   "metadata": {},
   "outputs": [
    {
     "data": {
      "text/plain": [
       "[0, 'banana', 'apple', 'orange', True, 'ali']"
      ]
     },
     "execution_count": 18,
     "metadata": {},
     "output_type": "execute_result"
    }
   ],
   "source": [
    "list.remove(3)\n",
    "list"
   ]
  },
  {
   "cell_type": "code",
   "execution_count": 22,
   "id": "e0bbbfbe",
   "metadata": {},
   "outputs": [
    {
     "data": {
      "text/plain": [
       "[0, 'banana', 'SE', 'apple', 'Cs', 'orange', 'SE', 'SE', True, 'ali']"
      ]
     },
     "execution_count": 22,
     "metadata": {},
     "output_type": "execute_result"
    }
   ],
   "source": [
    "list.insert(4,'Cs')\n",
    "list"
   ]
  },
  {
   "cell_type": "code",
   "execution_count": 23,
   "id": "4c02287d",
   "metadata": {},
   "outputs": [
    {
     "data": {
      "text/plain": [
       "[0, 'banana', 'SE', 'apple', 'Cs', 'orange', 'SE', 'SE', True, 'ali']"
      ]
     },
     "execution_count": 23,
     "metadata": {},
     "output_type": "execute_result"
    }
   ],
   "source": [
    "list"
   ]
  },
  {
   "cell_type": "code",
   "execution_count": 24,
   "id": "436c6bdb",
   "metadata": {},
   "outputs": [
    {
     "data": {
      "text/plain": [
       "[0, 'SE', 'apple', 'Cs', 'orange', 'SE', 'SE', True, 'ali']"
      ]
     },
     "execution_count": 24,
     "metadata": {},
     "output_type": "execute_result"
    }
   ],
   "source": [
    "del list[1]\n",
    "list"
   ]
  },
  {
   "cell_type": "code",
   "execution_count": 27,
   "id": "bb5302d9",
   "metadata": {},
   "outputs": [
    {
     "data": {
      "text/plain": [
       "[]"
      ]
     },
     "execution_count": 27,
     "metadata": {},
     "output_type": "execute_result"
    }
   ],
   "source": [
    "list.clear()\n",
    "list"
   ]
  },
  {
   "cell_type": "code",
   "execution_count": 28,
   "id": "d3a13d30",
   "metadata": {},
   "outputs": [
    {
     "data": {
      "text/plain": [
       "[]"
      ]
     },
     "execution_count": 28,
     "metadata": {},
     "output_type": "execute_result"
    }
   ],
   "source": [
    "list"
   ]
  },
  {
   "cell_type": "code",
   "execution_count": 29,
   "id": "2de96593",
   "metadata": {},
   "outputs": [
    {
     "data": {
      "text/plain": [
       "[1, 2, 3, 'ali', 'uamr', 'kpk']"
      ]
     },
     "execution_count": 29,
     "metadata": {},
     "output_type": "execute_result"
    }
   ],
   "source": [
    "list=[1,2,3,'ali','uamr','kpk']\n",
    "list"
   ]
  },
  {
   "cell_type": "code",
   "execution_count": 30,
   "id": "a694b4a2",
   "metadata": {},
   "outputs": [
    {
     "data": {
      "text/plain": [
       "[1, 'Shehryar', 3, 'ali', 'uamr', 'kpk']"
      ]
     },
     "execution_count": 30,
     "metadata": {},
     "output_type": "execute_result"
    }
   ],
   "source": [
    "list[1]='Shehryar'\n",
    "list"
   ]
  },
  {
   "cell_type": "code",
   "execution_count": 31,
   "id": "959ee2ce",
   "metadata": {},
   "outputs": [
    {
     "data": {
      "text/plain": [
       "[1, 'Shehryar', 3, 'ali', 'uamr', 'kpk']"
      ]
     },
     "execution_count": 31,
     "metadata": {},
     "output_type": "execute_result"
    }
   ],
   "source": [
    "list"
   ]
  },
  {
   "cell_type": "code",
   "execution_count": 32,
   "id": "e48936d2",
   "metadata": {},
   "outputs": [
    {
     "data": {
      "text/plain": [
       "[1, 'Shehryar', 3, 'ali', 'uamr', 'kpk', 'Taj Wali']"
      ]
     },
     "execution_count": 32,
     "metadata": {},
     "output_type": "execute_result"
    }
   ],
   "source": [
    "list.append('Taj Wali')\n",
    "list"
   ]
  },
  {
   "cell_type": "code",
   "execution_count": 33,
   "id": "a9d1d558",
   "metadata": {},
   "outputs": [
    {
     "ename": "TypeError",
     "evalue": "list.count() takes exactly one argument (0 given)",
     "output_type": "error",
     "traceback": [
      "\u001b[1;31m---------------------------------------------------------------------------\u001b[0m",
      "\u001b[1;31mTypeError\u001b[0m                                 Traceback (most recent call last)",
      "Cell \u001b[1;32mIn[33], line 1\u001b[0m\n\u001b[1;32m----> 1\u001b[0m \u001b[38;5;28mlist\u001b[39m\u001b[38;5;241m.\u001b[39mcount()\n",
      "\u001b[1;31mTypeError\u001b[0m: list.count() takes exactly one argument (0 given)"
     ]
    }
   ],
   "source": [
    "list.extend()\n"
   ]
  },
  {
   "cell_type": "code",
   "execution_count": null,
   "id": "da0938ba",
   "metadata": {},
   "outputs": [],
   "source": []
  }
 ],
 "metadata": {
  "kernelspec": {
   "display_name": "Python 3 (ipykernel)",
   "language": "python",
   "name": "python3"
  },
  "language_info": {
   "codemirror_mode": {
    "name": "ipython",
    "version": 3
   },
   "file_extension": ".py",
   "mimetype": "text/x-python",
   "name": "python",
   "nbconvert_exporter": "python",
   "pygments_lexer": "ipython3",
   "version": "3.11.5"
  }
 },
 "nbformat": 4,
 "nbformat_minor": 5
}
