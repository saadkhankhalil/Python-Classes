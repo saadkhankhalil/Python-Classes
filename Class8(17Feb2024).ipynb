{
 "cells": [
  {
   "cell_type": "code",
   "execution_count": null,
   "id": "8d4f4cbd",
   "metadata": {},
   "outputs": [],
   "source": [
    "guests = []\n",
    "for a in range(10):\n",
    "    name  = input(\"Enter guest name or press q to quit\")\n",
    "    if name !='q':\n",
    "        guests.append(name)\n",
    "    else:\n",
    "        break\n",
    "print(guests)"
   ]
  },
  {
   "cell_type": "code",
   "execution_count": 3,
   "id": "d2a5a26f",
   "metadata": {},
   "outputs": [
    {
     "name": "stdout",
     "output_type": "stream",
     "text": [
      "Enter item or q to quit pizza\n",
      "Enter item or q to quit fries\n",
      "Enter item or q to quit coldrinks\n",
      "Enter item or q to quit q\n",
      "['pizza', 'fries', 'coldrinks']\n"
     ]
    }
   ],
   "source": [
    "order = []\n",
    "for a in range(10):\n",
    "    item = input(\"Enter item or q to quit \")\n",
    "    if item=='q':\n",
    "        break\n",
    "    else:\n",
    "        order.append(item)\n",
    "print(order)"
   ]
  },
  {
   "cell_type": "markdown",
   "id": "e25792bc",
   "metadata": {},
   "source": [
    "# While Loop\n",
    "    - condition"
   ]
  },
  {
   "cell_type": "code",
   "execution_count": 8,
   "id": "fbf328d6",
   "metadata": {},
   "outputs": [
    {
     "name": "stdout",
     "output_type": "stream",
     "text": [
      "1\n",
      "2\n",
      "3\n",
      "4\n",
      "5\n",
      "6\n",
      "7\n",
      "8\n",
      "9\n",
      "10\n",
      "11\n"
     ]
    }
   ],
   "source": [
    "a=0\n",
    "while a<=10:\n",
    "    a+=1 \n",
    "    print(a)"
   ]
  },
  {
   "cell_type": "code",
   "execution_count": 9,
   "id": "851ae340",
   "metadata": {},
   "outputs": [
    {
     "name": "stdout",
     "output_type": "stream",
     "text": [
      "Enter itemA\\\n",
      "Enter itemB\n",
      "Enter itemC\n",
      "Enter itemD\n",
      "Enter itemE\n",
      "Enter itemF\n",
      "Enter itemG\n",
      "Enter itemH\n",
      "Enter itemEI\n",
      "Enter itemJ\n"
     ]
    },
    {
     "data": {
      "text/plain": [
       "['A\\\\', 'B', 'C', 'D', 'E', 'F', 'G', 'H', 'EI', 'J']"
      ]
     },
     "execution_count": 9,
     "metadata": {},
     "output_type": "execute_result"
    }
   ],
   "source": [
    "a = 0 \n",
    "items=[]\n",
    "while a<10:\n",
    "    item = input(\"Enter item\")\n",
    "    items.append(item)\n",
    "    a+=1\n",
    "items"
   ]
  },
  {
   "cell_type": "code",
   "execution_count": 6,
   "id": "8673ad24",
   "metadata": {},
   "outputs": [
    {
     "name": "stdout",
     "output_type": "stream",
     "text": [
      "Enter the names: saad\n",
      "Enter the names: ali\n",
      "Enter the names: umar\n",
      "Enter the names: amir\n",
      "Enter the names: husam\n",
      "Enter the names: jamal\n",
      "Enter the names: taj wali\n",
      "Enter the names: usman\n",
      "Enter the names: fahad\n",
      "Enter the names: sadiq\n"
     ]
    },
    {
     "data": {
      "text/plain": [
       "['saad',\n",
       " 'ali',\n",
       " 'umar',\n",
       " 'amir',\n",
       " 'husam',\n",
       " 'jamal',\n",
       " 'taj wali',\n",
       " 'usman',\n",
       " 'fahad',\n",
       " 'sadiq']"
      ]
     },
     "execution_count": 6,
     "metadata": {},
     "output_type": "execute_result"
    }
   ],
   "source": [
    "a=0\n",
    "lists = []\n",
    "while a<10:\n",
    "    name= input(\"Enter the names: \")\n",
    "    lists.append(name)\n",
    "    a+=1\n",
    "lists"
   ]
  },
  {
   "cell_type": "code",
   "execution_count": 10,
   "id": "6836c068",
   "metadata": {},
   "outputs": [
    {
     "name": "stdout",
     "output_type": "stream",
     "text": [
      "Enter item or q to quitApples\n",
      "Enter item or q to quitOranges\n",
      "Enter item or q to quitq\n"
     ]
    },
    {
     "data": {
      "text/plain": [
       "['Apples', 'Oranges']"
      ]
     },
     "execution_count": 10,
     "metadata": {},
     "output_type": "execute_result"
    }
   ],
   "source": [
    "a = 0 \n",
    "items=[]\n",
    "while a<10:\n",
    "    item = input(\"Enter item or q to quit\")\n",
    "    if item=='q':\n",
    "        break\n",
    "    else:\n",
    "        items.append(item)\n",
    "    a+=1\n",
    "items"
   ]
  },
  {
   "cell_type": "code",
   "execution_count": 12,
   "id": "8526bdb8",
   "metadata": {},
   "outputs": [
    {
     "name": "stdout",
     "output_type": "stream",
     "text": [
      "Enter item or q to quitwe\n",
      "Enter item or q to quitq\n"
     ]
    },
    {
     "data": {
      "text/plain": [
       "['we']"
      ]
     },
     "execution_count": 12,
     "metadata": {},
     "output_type": "execute_result"
    }
   ],
   "source": [
    "items=[]\n",
    "flag = True\n",
    "while flag:\n",
    "    item = input(\"Enter item or q to quit\")\n",
    "    if item=='q':\n",
    "        flag=False\n",
    "    else:\n",
    "        items.append(item)\n",
    "items  \n",
    " "
   ]
  },
  {
   "cell_type": "code",
   "execution_count": null,
   "id": "4294b896",
   "metadata": {},
   "outputs": [],
   "source": [
    "items=[]\n",
    "# flag = True\n",
    "while True:\n",
    "    item = input(\"Enter item or q to quit\")\n",
    "    if item=='q':\n",
    "        break\n",
    "    else:\n",
    "        items.append(item)\n",
    "items  "
   ]
  },
  {
   "cell_type": "markdown",
   "id": "7a6c28b7",
   "metadata": {},
   "source": [
    "# in operator"
   ]
  },
  {
   "cell_type": "code",
   "execution_count": 13,
   "id": "d80f5c23",
   "metadata": {},
   "outputs": [
    {
     "data": {
      "text/plain": [
       "['pizza', 'fries', 'coldrinks']"
      ]
     },
     "execution_count": 13,
     "metadata": {},
     "output_type": "execute_result"
    }
   ],
   "source": [
    "order"
   ]
  },
  {
   "cell_type": "code",
   "execution_count": 15,
   "id": "be9d4792",
   "metadata": {},
   "outputs": [
    {
     "data": {
      "text/plain": [
       "True"
      ]
     },
     "execution_count": 15,
     "metadata": {},
     "output_type": "execute_result"
    }
   ],
   "source": [
    "'pizza' in order"
   ]
  },
  {
   "cell_type": "code",
   "execution_count": 2,
   "id": "594b6abb",
   "metadata": {},
   "outputs": [],
   "source": [
    "shop =['mobile casing','mobile chargers','data cable', 'usb','card reader', 'handsfree', 'bluetooth']"
   ]
  },
  {
   "cell_type": "code",
   "execution_count": 3,
   "id": "0935d2b1",
   "metadata": {},
   "outputs": [
    {
     "name": "stdout",
     "output_type": "stream",
     "text": [
      "Enter item or q to quitmobile\n",
      "mobile not available in shop\n",
      "Enter item or q to quitusb\n",
      "Enter item or q to quitmobile casing\n",
      "Enter item or q to quitmobile\n",
      "mobile not available in shop\n",
      "Enter item or q to quitusb\n",
      "usb already in cart\n",
      "Enter item or q to quitq\n",
      "['usb', 'mobile casing']\n"
     ]
    }
   ],
   "source": [
    "cart = []\n",
    "\n",
    "while True:\n",
    "    item = input(\"Enter item or q to quit\")\n",
    "    if item !=\"q\":\n",
    "        if item in shop:\n",
    "            if item not in cart:\n",
    "                cart.append(item)\n",
    "            else:\n",
    "                print(f\"{item} already in cart\")\n",
    "                \n",
    "        else:\n",
    "            print(f\"{item} not available in shop\")\n",
    "    else:\n",
    "        break       \n",
    "    \n",
    "print(cart)"
   ]
  },
  {
   "cell_type": "code",
   "execution_count": 4,
   "id": "c7bb9174",
   "metadata": {},
   "outputs": [],
   "source": [
    "shop =['mobile casing','mobile chargers','data cable', 'usb','card reader', 'handsfree', 'bluetooth']"
   ]
  },
  {
   "cell_type": "code",
   "execution_count": 5,
   "id": "cb0d779e",
   "metadata": {},
   "outputs": [],
   "source": [
    "cart = []"
   ]
  },
  {
   "cell_type": "code",
   "execution_count": 9,
   "id": "b0993712",
   "metadata": {},
   "outputs": [
    {
     "name": "stdout",
     "output_type": "stream",
     "text": [
      "Enter item or q to quitusb\n"
     ]
    }
   ],
   "source": [
    "item = input(\"Enter item or q to quit\")\n",
    "\n",
    "if item in shop:\n",
    "    if item not in cart:\n",
    "        cart.append(item)\n",
    "    else:\n",
    "        print(f\"{item} already in cart\")\n",
    "\n",
    "else:\n",
    "    print(f\"{item} not available in shop\")     \n"
   ]
  },
  {
   "cell_type": "code",
   "execution_count": 10,
   "id": "d49ecf25",
   "metadata": {},
   "outputs": [
    {
     "data": {
      "text/plain": [
       "['usb']"
      ]
     },
     "execution_count": 10,
     "metadata": {},
     "output_type": "execute_result"
    }
   ],
   "source": [
    "cart"
   ]
  },
  {
   "cell_type": "code",
   "execution_count": 11,
   "id": "8df92b78",
   "metadata": {},
   "outputs": [],
   "source": [
    "shop ={'mobile casing':200,'mobile chargers':300,'data cable':200, 'usb':500,'card reader':50, 'handsfree':800, 'bluetooth':3000}"
   ]
  },
  {
   "cell_type": "code",
   "execution_count": 13,
   "id": "ef615cec",
   "metadata": {},
   "outputs": [
    {
     "name": "stdout",
     "output_type": "stream",
     "text": [
      "Enter item or q to quitmobile chargers\n",
      "How many units of mobile chargers5\n",
      "Enter item or q to quithandsfree\n",
      "How many units of handsfree8\n",
      "Enter item or q to quitusb\n",
      "How many units of usb5\n",
      "Enter item or q to quitbluetooth\n",
      "How many units of bluetooth1\n",
      "Enter item or q to quitq\n",
      "['mobile chargers', 'handsfree', 'usb', 'bluetooth']\n"
     ]
    },
    {
     "data": {
      "text/plain": [
       "13400"
      ]
     },
     "execution_count": 13,
     "metadata": {},
     "output_type": "execute_result"
    }
   ],
   "source": [
    "cart = []\n",
    "grand_total =0\n",
    "while True:\n",
    "    item = input(\"Enter item or q to quit\")\n",
    "    if item !=\"q\":\n",
    "        if item in shop.keys():\n",
    "            units = int(input(f'How many units of {item}'))\n",
    "            total = shop[item] * units\n",
    "            grand_total +=total            \n",
    "            cart.append(item)\n",
    "        else:\n",
    "            print(f\"{item} not available in shop\")\n",
    "    else:\n",
    "        break       \n",
    "    \n",
    "print(cart)\n",
    "grand_total"
   ]
  },
  {
   "cell_type": "code",
   "execution_count": 8,
   "id": "bd3248ce",
   "metadata": {},
   "outputs": [
    {
     "name": "stdout",
     "output_type": "stream",
     "text": [
      "Enter the of gueat or q to quite: saad\n",
      "Enter the of gueat or q to quite: ali\n",
      "Enter the of gueat or q to quite: umar\n",
      "Enter the of gueat or q to quite: q\n"
     ]
    },
    {
     "data": {
      "text/plain": [
       "['saad', 'ali', 'umar']"
      ]
     },
     "execution_count": 8,
     "metadata": {},
     "output_type": "execute_result"
    }
   ],
   "source": [
    "\n",
    "guest=[]\n",
    "while True:\n",
    "    name=input(\"Enter the of gueat or q to quite: \")\n",
    "    if name!='q':\n",
    "        guest.append(name)\n",
    "    else:\n",
    "        break\n",
    "guest\n",
    "        "
   ]
  },
  {
   "cell_type": "code",
   "execution_count": 9,
   "id": "1f178855",
   "metadata": {},
   "outputs": [],
   "source": [
    "shop ={'mobile casing':200,'mobile chargers':300,'data cable':200, 'usb':500,'card reader':50, 'handsfree':800, 'bluetooth':3000}"
   ]
  },
  {
   "cell_type": "code",
   "execution_count": 18,
   "id": "6710a7f3",
   "metadata": {},
   "outputs": [
    {
     "name": "stdout",
     "output_type": "stream",
     "text": [
      "Enter item or q to quite: data cable\n",
      "How many units of data cableq\n"
     ]
    },
    {
     "ename": "ValueError",
     "evalue": "invalid literal for int() with base 10: 'q'",
     "output_type": "error",
     "traceback": [
      "\u001b[1;31m---------------------------------------------------------------------------\u001b[0m",
      "\u001b[1;31mValueError\u001b[0m                                Traceback (most recent call last)",
      "Cell \u001b[1;32mIn[18], line 7\u001b[0m\n\u001b[0;32m      5\u001b[0m \u001b[38;5;28;01mif\u001b[39;00m items\u001b[38;5;241m!=\u001b[39m\u001b[38;5;124m'\u001b[39m\u001b[38;5;124mq\u001b[39m\u001b[38;5;124m'\u001b[39m:\n\u001b[0;32m      6\u001b[0m     \u001b[38;5;28;01mif\u001b[39;00m items \u001b[38;5;129;01min\u001b[39;00m shop\u001b[38;5;241m.\u001b[39mkeys():\n\u001b[1;32m----> 7\u001b[0m         units \u001b[38;5;241m=\u001b[39m \u001b[38;5;28mint\u001b[39m(\u001b[38;5;28minput\u001b[39m(\u001b[38;5;124mf\u001b[39m\u001b[38;5;124m'\u001b[39m\u001b[38;5;124mHow many units of \u001b[39m\u001b[38;5;132;01m{\u001b[39;00mitems\u001b[38;5;132;01m}\u001b[39;00m\u001b[38;5;124m'\u001b[39m))\n\u001b[0;32m      8\u001b[0m         total \u001b[38;5;241m=\u001b[39m shop[items]\u001b[38;5;241m*\u001b[39munits\n\u001b[0;32m     10\u001b[0m         grand_total \u001b[38;5;241m+\u001b[39m\u001b[38;5;241m=\u001b[39mtotal\n",
      "\u001b[1;31mValueError\u001b[0m: invalid literal for int() with base 10: 'q'"
     ]
    }
   ],
   "source": [
    "cart=[]\n",
    "grand_total=0\n",
    "while True:\n",
    "    items=input(\"Enter item or q to quite: \")\n",
    "    if items!='q':\n",
    "        if items in shop.keys():\n",
    "            units = int(input(f'How many units of {items}'))\n",
    "            total = shop[items]*units\n",
    "            \n",
    "            grand_total +=total\n",
    "            cart.append(items)\n",
    "        else:\n",
    "            print(f\"Sorry! {items} are not available in shop\")\n",
    "    else:\n",
    "        break\n",
    "print(cart)\n",
    "grand_total\n",
    "            "
   ]
  },
  {
   "cell_type": "code",
   "execution_count": null,
   "id": "689362e9",
   "metadata": {},
   "outputs": [],
   "source": []
  },
  {
   "cell_type": "code",
   "execution_count": null,
   "id": "91d6a667",
   "metadata": {},
   "outputs": [],
   "source": []
  }
 ],
 "metadata": {
  "kernelspec": {
   "display_name": "Python 3 (ipykernel)",
   "language": "python",
   "name": "python3"
  },
  "language_info": {
   "codemirror_mode": {
    "name": "ipython",
    "version": 3
   },
   "file_extension": ".py",
   "mimetype": "text/x-python",
   "name": "python",
   "nbconvert_exporter": "python",
   "pygments_lexer": "ipython3",
   "version": "3.11.5"
  }
 },
 "nbformat": 4,
 "nbformat_minor": 5
}
