{
 "cells": [
  {
   "cell_type": "markdown",
   "id": "1cb0a87c",
   "metadata": {},
   "source": [
    "Operators,Variables,User input"
   ]
  },
  {
   "cell_type": "markdown",
   "id": "ce5871cf",
   "metadata": {},
   "source": [
    "## Operators\n",
    "Arithematic op:\n",
    "             + - * / // %\n",
    "Logical op: \n",
    "> <>= <==\n"
   ]
  },
  {
   "cell_type": "markdown",
   "id": "7ec73298",
   "metadata": {},
   "source": [
    "# Python Expression\n",
    "BODMAS\n",
    "PAMDAS\n"
   ]
  },
  {
   "cell_type": "code",
   "execution_count": 1,
   "id": "f48d363e",
   "metadata": {},
   "outputs": [
    {
     "data": {
      "text/plain": [
       "18"
      ]
     },
     "execution_count": 1,
     "metadata": {},
     "output_type": "execute_result"
    }
   ],
   "source": [
    "6*3"
   ]
  },
  {
   "cell_type": "code",
   "execution_count": 2,
   "id": "3c5ccb2d",
   "metadata": {},
   "outputs": [
    {
     "name": "stdout",
     "output_type": "stream",
     "text": [
      "90\n"
     ]
    }
   ],
   "source": [
    "x=34\n",
    "y=56\n",
    "z=x+y\n",
    "print(z)"
   ]
  },
  {
   "cell_type": "code",
   "execution_count": 2,
   "id": "c0fbb83b",
   "metadata": {},
   "outputs": [
    {
     "data": {
      "text/plain": [
       "177"
      ]
     },
     "execution_count": 2,
     "metadata": {},
     "output_type": "execute_result"
    }
   ],
   "source": [
    "a=44\n",
    "b=33\n",
    "c=23\n",
    "(a+b)+c+a+b\n",
    " #77+23+77\n"
   ]
  },
  {
   "cell_type": "code",
   "execution_count": 3,
   "id": "0aa6233a",
   "metadata": {},
   "outputs": [
    {
     "data": {
      "text/plain": [
       "77"
      ]
     },
     "execution_count": 3,
     "metadata": {},
     "output_type": "execute_result"
    }
   ],
   "source": [
    "44+33"
   ]
  },
  {
   "cell_type": "code",
   "execution_count": 4,
   "id": "c4c39db8",
   "metadata": {},
   "outputs": [
    {
     "data": {
      "text/plain": [
       "177"
      ]
     },
     "execution_count": 4,
     "metadata": {},
     "output_type": "execute_result"
    }
   ],
   "source": [
    "77+23+77"
   ]
  },
  {
   "cell_type": "code",
   "execution_count": null,
   "id": "8123a820",
   "metadata": {},
   "outputs": [],
   "source": []
  }
 ],
 "metadata": {
  "kernelspec": {
   "display_name": "Python 3 (ipykernel)",
   "language": "python",
   "name": "python3"
  },
  "language_info": {
   "codemirror_mode": {
    "name": "ipython",
    "version": 3
   },
   "file_extension": ".py",
   "mimetype": "text/x-python",
   "name": "python",
   "nbconvert_exporter": "python",
   "pygments_lexer": "ipython3",
   "version": "3.11.5"
  }
 },
 "nbformat": 4,
 "nbformat_minor": 5
}
