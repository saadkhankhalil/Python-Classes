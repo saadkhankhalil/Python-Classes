{
 "cells": [
  {
   "cell_type": "raw",
   "metadata": {},
   "source": [
    "1) A company decides to give bonus of \n",
    "- 20% to employee if his/her year of service is eqaul to or more than 20 years.\n",
    "- 15% to employee if his/her year of service is eqaul to or more than 15 years.\n",
    " - 10% to employee if his/her year of service is equal tomore than 10 years.\n",
    " - 5% to employee if his/her year of service is eqaul to more than 5 years.\n",
    "   else ko no bonus"
   ]
  },
  {
   "cell_type": "code",
   "execution_count": 4,
   "metadata": {},
   "outputs": [
    {
     "name": "stdout",
     "output_type": "stream",
     "text": [
      "Enter salary120000\n",
      "Enter years of service12\n",
      "Your bonus amount is 12000.0\n"
     ]
    }
   ],
   "source": [
    "salary  = int(input('Enter salary'))\n",
    "years = float(input('Enter years of service'))\n",
    "bonus_amount = 0\n",
    "if years >=20:\n",
    "    bonus_amount = salary*.20\n",
    "elif years >=15:\n",
    "    bonus_amount = salary*.15\n",
    "elif years >=10:\n",
    "    bonus_amount = salary*.10\n",
    "elif years >=5:\n",
    "    bonus_amount = salary*.05\n",
    "\n",
    "print(f\"Your bonus amount is {bonus_amount}\")"
   ]
  },
  {
   "cell_type": "markdown",
   "metadata": {},
   "source": [
    "\n",
    "2) Write a program to check whether a person is eligible for voting or not. (accept age from user) if age is greater than 17 eligible otherwise not eligible"
   ]
  },
  {
   "cell_type": "code",
   "execution_count": 2,
   "metadata": {},
   "outputs": [
    {
     "name": "stdout",
     "output_type": "stream",
     "text": [
      "Enter you Age: 18\n",
      "You are eligible for voting\n"
     ]
    }
   ],
   "source": [
    "Age = int(input(\"Enter you Age: \"))\n",
    "if Age >17:\n",
    "    print(\"You are eligible for voting\")\n",
    "else:\n",
    "    print(\"You are not eligible for voting\")"
   ]
  },
  {
   "cell_type": "markdown",
   "metadata": {},
   "source": [
    "\n",
    "3) Write a program to check whether a number entered by user is even or odd."
   ]
  },
  {
   "cell_type": "code",
   "execution_count": 7,
   "metadata": {},
   "outputs": [
    {
     "name": "stdout",
     "output_type": "stream",
     "text": [
      "Enter any Number: 2\n",
      "Even Number..\n"
     ]
    }
   ],
   "source": [
    "#Type your code here\n",
    "number = int(input(\"Enter any Number: \"))\n",
    "if number%2==0:\n",
    "    print(\"Even Number..\")\n",
    "else:\n",
    "    print(\"Odd Number\")"
   ]
  },
  {
   "cell_type": "markdown",
   "metadata": {},
   "source": [
    "4) Write a program to check whether a number is divisible by 7 or not.\n",
    "Show Answer"
   ]
  },
  {
   "cell_type": "code",
   "execution_count": 10,
   "metadata": {},
   "outputs": [
    {
     "name": "stdout",
     "output_type": "stream",
     "text": [
      "Enter any Number: 21\n",
      "divide by 7..\n"
     ]
    }
   ],
   "source": [
    "#Type your code here\n",
    "number = int(input(\"Enter any Number: \"))\n",
    "if number%7==0:\n",
    "    print(\"divide by 7..\")\n",
    "else:\n",
    "    print(\"Not divide by 7\")"
   ]
  },
  {
   "cell_type": "raw",
   "metadata": {},
   "source": [
    "5) Write a program to display \n",
    "\"Hello\" if a number entered by user is a multiple of five , otherwise print \"Bye\"."
   ]
  },
  {
   "cell_type": "code",
   "execution_count": 19,
   "metadata": {},
   "outputs": [
    {
     "name": "stdout",
     "output_type": "stream",
     "text": [
      "Enter any Number: 10\n",
      "Hello\n"
     ]
    }
   ],
   "source": [
    "#Type your code here\n",
    "number = int(input(\"Enter any Number: \"))\n",
    "if number % 5==0:\n",
    "    print(\"Hello\")\n",
    "else:\n",
    "    print(\"Bye\")\n"
   ]
  },
  {
   "cell_type": "raw",
   "metadata": {},
   "source": [
    "7) Write a program to display the last digit of a number.\n"
   ]
  },
  {
   "cell_type": "code",
   "execution_count": 13,
   "metadata": {},
   "outputs": [
    {
     "name": "stdout",
     "output_type": "stream",
     "text": [
      "Enter a number123.678\n",
      "8\n"
     ]
    },
    {
     "data": {
      "text/plain": [
       "3.6779999999999973"
      ]
     },
     "execution_count": 13,
     "metadata": {},
     "output_type": "execute_result"
    }
   ],
   "source": [
    "#Type your code here\n",
    "num = float(input(\"Enter a number\"))  # \"234456\"\n",
    "last_digit = str(num)[-1]\n",
    "print(last_digit)\n",
    "num%10"
   ]
  },
  {
   "cell_type": "raw",
   "metadata": {},
   "source": [
    "Q8. Write a program to check whether the last digit of a number( entered by user ) is \n",
    "divisible by 3 or not."
   ]
  },
  {
   "cell_type": "code",
   "execution_count": 17,
   "metadata": {},
   "outputs": [
    {
     "name": "stdout",
     "output_type": "stream",
     "text": [
      "Enter a number4556769\n"
     ]
    },
    {
     "data": {
      "text/plain": [
       "True"
      ]
     },
     "execution_count": 17,
     "metadata": {},
     "output_type": "execute_result"
    }
   ],
   "source": [
    "#Type your code here\n",
    "(int(input(\"Enter a number\"))%10)%3==0"
   ]
  },
  {
   "cell_type": "raw",
   "metadata": {},
   "source": [
    "9) Take values of length and breadth of a rectangle from user and print if it is square or rectangle."
   ]
  },
  {
   "cell_type": "code",
   "execution_count": 23,
   "metadata": {},
   "outputs": [
    {
     "name": "stdout",
     "output_type": "stream",
     "text": [
      "Enter length: 10\n",
      "Enter breadth: 10\n",
      "Square\n"
     ]
    }
   ],
   "source": [
    "#Type your code here \n",
    "#length\n",
    "#breadth\n",
    "length = int(input(\"Enter length: \"))\n",
    "breadth = int(input(\"Enter breadth: \")) \n",
    "if length == breadth:\n",
    "    print(\"Square\")\n",
    "else:\n",
    "    print(\"Rectangle\")\n",
    "                    "
   ]
  },
  {
   "cell_type": "raw",
   "metadata": {},
   "source": [
    "10) Take two int values from user and print greatest among them."
   ]
  },
  {
   "cell_type": "code",
   "execution_count": 26,
   "metadata": {},
   "outputs": [
    {
     "name": "stdout",
     "output_type": "stream",
     "text": [
      "Enter any number: 21\n",
      "Enter any number: 1\n",
      "num1 is greater then num2\n"
     ]
    }
   ],
   "source": [
    "# Type your code here\n",
    "num1 = int(input(\"Enter any number: \"))\n",
    "num2 = int(input(\"Enter any number: \"))\n",
    "if num1>num2:\n",
    "    print(\"num1 is greater then num2\")\n",
    "else:\n",
    "    print(\"num2 is greater then num1\")\n",
    "    \n"
   ]
  },
  {
   "cell_type": "raw",
   "metadata": {},
   "source": [
    "11) A shop will give discount of 10% if the cost of purchased quantity is more than 1000.\n",
    "Ask user for quantity\n",
    "Suppose, one unit will cost 100.\n",
    "Judge and print total cost for user."
   ]
  },
  {
   "cell_type": "code",
   "execution_count": 16,
   "metadata": {},
   "outputs": [],
   "source": [
    "#Type your code here"
   ]
  },
  {
   "cell_type": "raw",
   "metadata": {},
   "source": [
    "12) A school has following rules for grading system:\n",
    "\n",
    "a. Below 25 - F\n",
    "\n",
    "b. 25 to 45 - E\n",
    "\n",
    "c. 45 to 50 - D\n",
    "\n",
    "d. 50 to 60 - C\n",
    "\n",
    "e. 60 to 80 - B\n",
    "\n",
    "f. Above 80 - A\n",
    "\n",
    "Ask user to enter marks and print the corresponding grade."
   ]
  },
  {
   "cell_type": "code",
   "execution_count": 17,
   "metadata": {},
   "outputs": [],
   "source": [
    "#Type your code here"
   ]
  },
  {
   "cell_type": "raw",
   "metadata": {},
   "source": [
    "14)A student will not be allowed to sit in exam if his/her attendence is less than 75%.\n",
    "\n",
    "Take following input from user\n",
    "\n",
    "Number of classes held = 100\n",
    "\n",
    "Number of classes attended.= 50\n",
    "\n",
    "\n",
    "And print\n",
    "\n",
    "percentage of class attended\n",
    "\n",
    "Is student is allowed to sit in exam or not.\n"
   ]
  },
  {
   "cell_type": "code",
   "execution_count": 27,
   "metadata": {},
   "outputs": [
    {
     "name": "stdout",
     "output_type": "stream",
     "text": [
      "Number of classes attended: 50\n",
      "Percentage of classes attended: 50.0%\n",
      "The student is not allowed to sit in the exam due to low attendance.\n"
     ]
    }
   ],
   "source": [
    "#Type your code here\n",
    "\n",
    "classes_held = 100\n",
    "classes_attended = int(input(\"Number of classes attended: \"))\n",
    "\n",
    "\n",
    "attendance_percentage = (classes_attended / classes_held) * 100\n",
    "\n",
    "# Display percentage\n",
    "print(f\"Percentage of classes attended: {attendance_percentage}%\")\n",
    "\n",
    "# Check if the student is allowed to sit in the exam\n",
    "if attendance_percentage >= 75:\n",
    "    print(\"The student is allowed to sit in the exam.\")\n",
    "else:\n",
    "    print(\"The student is not allowed to sit in the exam due to low attendance.\")\n",
    "\n",
    "    "
   ]
  },
  {
   "cell_type": "raw",
   "metadata": {},
   "source": [
    "15) Modify the above question to allow student to sit if he/she has medical cause. Ask user if he/she has medical cause or not ( 'Y' or 'N' ) and print accordingly."
   ]
  },
  {
   "cell_type": "code",
   "execution_count": 20,
   "metadata": {},
   "outputs": [],
   "source": [
    "#Type your code here"
   ]
  },
  {
   "cell_type": "raw",
   "metadata": {},
   "source": [
    "16) Write a program to check if a year is leap year or not.\n",
    "\n",
    "If a year is divisible by 4 then it is leap year but if the year is century year like 2000, 1900, 2100 then it must be divisible by 400."
   ]
  },
  {
   "cell_type": "code",
   "execution_count": 21,
   "metadata": {},
   "outputs": [],
   "source": [
    "#Type your code here"
   ]
  },
  {
   "cell_type": "raw",
   "metadata": {},
   "source": [
    "17) Ask user to enter age, gender ( M or F ), marital status ( Y or N ) and then using following rules print their place of service.\n",
    "\n",
    "if employee is female, then she will work only in urban areas.\n",
    "\n",
    "if employee is a male and age is in between 20 to 40 then he may work in anywhere\n",
    "\n",
    "if employee is male and age is in between 40 t0 60 then he will work in urban areas only.\n",
    "\n",
    "And any other input of age should print \"ERROR\""
   ]
  },
  {
   "cell_type": "code",
   "execution_count": 2,
   "metadata": {},
   "outputs": [],
   "source": [
    "#Type your code here\n",
    "age=int(input(\"Enter your age: \"))\n",
    "gender=input(\"your gender: \")\n",
    "marital_status=input(\"your marital status: \")\n",
    "if gender==\"female\":\n",
    "    print(\"she will work only in urban areas.\")\n",
    "else:\n",
    "    print(\"Only female will work in urban areas.\")\n",
    "    \n",
    "    if age >=20 or age<=40:\n",
    "        print(\"he may work in anywhere\")\n",
    "    elif age <=60:\n",
    "        print(\"he will work in urban areas only.\")\n",
    "        else:\n",
    "            print(\"error\")\n",
    "            \n",
    "        \n",
    "    \n",
    "\n",
    "    \n",
    "    \n",
    "\n",
    "\n"
   ]
  },
  {
   "cell_type": "code",
   "execution_count": 1,
   "metadata": {},
   "outputs": [
    {
     "name": "stdout",
     "output_type": "stream",
     "text": [
      "Enter your age: 40\n",
      "your gender: female\n",
      "your marital status: yes\n",
      "he may work in anywhere\n"
     ]
    }
   ],
   "source": [
    "age=int(input(\"Enter your age: \"))\n",
    "gender=input(\"your gender: \")\n",
    "marital_status=input(\"your marital status: \")\n",
    "if age >=20 or age<=40:\n",
    "    print(\"he may work in anywhere\")\n",
    "elif age <=60:\n",
    "        print(\"he will work in urban areas only.\")\n",
    "elif gender==\"female\":\n",
    "    print(\"she will work only in urban areas.\")\n",
    "else:\n",
    "    print(\"error\")\n",
    "    \n",
    "    "
   ]
  },
  {
   "cell_type": "raw",
   "metadata": {},
   "source": [
    "6) Write a program to calculate the electricity bill (accept number of unit from user) according to the following criteria :\n",
    "     Unit                                                     Price  \n",
    "upto 100 units                                              no charge\n",
    "Next 200 units                                              Rs 5 per unit\n",
    "After 200 units                                             Rs 10 per unit\n",
    "(For example if input unit is 350 than total bill amount is Rs.3500\n",
    "(For example if input unit is 97 than total bill amount is Rs.0\n",
    "(For example if input unit is 150 than total bill amount is Rs.750\n",
    "\n"
   ]
  },
  {
   "cell_type": "code",
   "execution_count": 10,
   "metadata": {},
   "outputs": [
    {
     "name": "stdout",
     "output_type": "stream",
     "text": [
      "Total unit: 97\n",
      "total bill 0\n"
     ]
    }
   ],
   "source": [
    "unit = int(input(\"Total unit: \"))\n",
    "if unit>=350:\n",
    "    print(\"Total bill is 3500\")\n",
    "elif unit>=150:\n",
    "    print(\"Total bill is 750\")\n",
    "else:\n",
    "    print(\"total bill 0\")"
   ]
  },
  {
   "cell_type": "code",
   "execution_count": 17,
   "metadata": {},
   "outputs": [
    {
     "name": "stdout",
     "output_type": "stream",
     "text": [
      "yeh bike aap ki hy: no\n",
      "Chalo thanay chalo..\n"
     ]
    }
   ],
   "source": [
    "\n",
    "\n",
    "\n",
    "Bike = input(\"yeh bike aap ki hy: \")\n",
    "if Bike == \"yes\":\n",
    "    Paper = input(\"Bike k paper hy aap k pass: \")\n",
    "    if Paper == \"yes\":\n",
    "        License = input(\"driving license hy aap k pass: \")\n",
    "        if License ==\"yes\":\n",
    "            print(\"bach gaya sala. .\")\n",
    "        else:\n",
    "            print(\"Chalo thanay chalo.mein aap ko sabak sikata ho..\")\n",
    "    else:\n",
    "        print(\"Chalo thanay chalo..\")\n",
    "else:\n",
    "    print(\"Chalo thanay chalo..\")"
   ]
  },
  {
   "cell_type": "raw",
   "metadata": {},
   "source": [
    "13) Take input of age of 3 people by user and determine oldest and youngest among them."
   ]
  },
  {
   "cell_type": "code",
   "execution_count": 32,
   "metadata": {},
   "outputs": [
    {
     "name": "stdout",
     "output_type": "stream",
     "text": [
      "To determine the of who is young oldest and among them, what is your age: 44\n",
      "youngest\n"
     ]
    }
   ],
   "source": [
    "#Type your code here\n",
    "age = int(input(\"To determine the of who is young oldest and among them, what is your age: \"))\n",
    "if age>=60:\n",
    "    print(\"OLDEST\")\n",
    "elif age>=20 and age>=34:\n",
    "    \n",
    "    print(\"youngest\")\n",
    "else:\n",
    "        print(\"Child\")\n",
    "    "
   ]
  },
  {
   "cell_type": "code",
   "execution_count": null,
   "metadata": {},
   "outputs": [],
   "source": []
  },
  {
   "cell_type": "code",
   "execution_count": null,
   "metadata": {},
   "outputs": [],
   "source": [
    "22\n"
   ]
  }
 ],
 "metadata": {
  "kernelspec": {
   "display_name": "Python 3 (ipykernel)",
   "language": "python",
   "name": "python3"
  },
  "language_info": {
   "codemirror_mode": {
    "name": "ipython",
    "version": 3
   },
   "file_extension": ".py",
   "mimetype": "text/x-python",
   "name": "python",
   "nbconvert_exporter": "python",
   "pygments_lexer": "ipython3",
   "version": "3.11.5"
  }
 },
 "nbformat": 4,
 "nbformat_minor": 2
}
