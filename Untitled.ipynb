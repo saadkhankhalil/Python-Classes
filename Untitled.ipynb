{
 "cells": [
  {
   "cell_type": "code",
   "execution_count": 1,
   "id": "639d4925",
   "metadata": {},
   "outputs": [],
   "source": [
    "shop ={'mobile casing':200,'mobile chargers':300,'data cable':200, 'usb':500,'card reader':50, 'handsfree':800, 'bluetooth':3000}"
   ]
  },
  {
   "cell_type": "code",
   "execution_count": 13,
   "id": "c1e13073",
   "metadata": {},
   "outputs": [
    {
     "name": "stdout",
     "output_type": "stream",
     "text": [
      "Welcome Saad!\n",
      "Eneter Item name or q to quite: usb\n",
      "How many usb do you need: 1\n",
      "Eneter Item name or q to quite: data cable\n",
      "How many data cable do you need: 3\n",
      "Eneter Item name or q to quite: q\n",
      "['usb', 'data cable']\n",
      "1100\n",
      "Thank Saad for shopping....\n"
     ]
    }
   ],
   "source": [
    "def func(name):\n",
    "    print(f\"Welcome {name}!\")\n",
    "    cart=[]\n",
    "    grand_total=0\n",
    "    while True:\n",
    "        item = input(\"Eneter Item name or q to quite: \")\n",
    "        if item !='q':\n",
    "            if item in shop.keys():\n",
    "                Qty = int(input(f\"How many {item} do you need: \"))\n",
    "                total = shop[item]*Qty\n",
    "                grand_total +=total\n",
    "                cart.append(item)\n",
    "            else:\n",
    "                print(f\"{item} are not available in shop!!\")\n",
    "        else:\n",
    "            break\n",
    "    print(cart)\n",
    "    print(grand_total)\n",
    "    print(f\"Thank {name} for shopping....\")\n",
    "\n",
    "\n",
    "\n",
    "func(\"Saad\")\n",
    "\n",
    "    "
   ]
  },
  {
   "cell_type": "code",
   "execution_count": 35,
   "id": "656ab93d",
   "metadata": {},
   "outputs": [],
   "source": [
    "shop ={'mobile casing':200,'mobile chargers':300,'data cable':200, 'usb':500,'card reader':50, 'handsfree':800, 'bluetooth':3000}"
   ]
  },
  {
   "cell_type": "code",
   "execution_count": 36,
   "id": "cf451081",
   "metadata": {},
   "outputs": [],
   "source": [
    "def shopping(name):\n",
    "    print(f\"Welcome{name}\")\n",
    "    cart=[]\n",
    "    grand_total=0\n",
    "    while True:\n",
    "        item = input(\"Enetr item name or q to quite: \")\n",
    "        if item !='q':\n",
    "            if item in shop.keys():\n",
    "                Qty=int(input(f\"How {item} you need to required: \"))\n",
    "                total=shop[item]*Qty\n",
    "                grand_total+=total\n",
    "                cart.append(item)\n",
    "            else:\n",
    "                print(f\"{item} are not available in the shop..\")\n",
    "        else:\n",
    "            break\n",
    "    tax  = tax_calc(grand_total)\n",
    "    disc = discount_calc(grand_total)\n",
    "    print(f'''\n",
    "\n",
    "    Items: {cart}\n",
    "    Total_Amount: {grand_total}\n",
    "    tax_Applied: {tax}\n",
    "    Discount_Offered: {disc}\n",
    "    Bill_Payable:{grand_total-disc+tax}\n",
    "'''\n",
    ")\n",
    "\n",
    "\n"
   ]
  },
  {
   "cell_type": "code",
   "execution_count": 37,
   "id": "7923ecea",
   "metadata": {},
   "outputs": [],
   "source": [
    "def discount_calc(total_amt):\n",
    "    if total_amt >=100000:\n",
    "        disc = total_amt*.25\n",
    "    elif total_amt >=50000:\n",
    "        disc = total_amt*.20\n",
    "    elif total_amt>=25000:\n",
    "        disc = total_amt*.15\n",
    "    elif total_amt >10000:\n",
    "        disc = total_amt*.05\n",
    "    else:\n",
    "        disc = total_amt*0\n",
    "    return disc"
   ]
  },
  {
   "cell_type": "code",
   "execution_count": 38,
   "id": "ac5ef95f",
   "metadata": {},
   "outputs": [],
   "source": [
    "def tax_calc(total_amt):\n",
    "    if total_amt>=100000:\n",
    "        tax = total_amt*.10\n",
    "    elif total_amt>=50000:\n",
    "        tax= total_amt*.05\n",
    "    elif total_amt>=25000:\n",
    "        tax = total_amt*.02\n",
    "    else:\n",
    "        tax = total_amt*0\n",
    "    return tax\n"
   ]
  },
  {
   "cell_type": "code",
   "execution_count": 40,
   "id": "591b29b0",
   "metadata": {},
   "outputs": [
    {
     "name": "stdout",
     "output_type": "stream",
     "text": [
      "WelcomeMuhammad Saad\n",
      "Enetr item name or q to quite: usb\n",
      "How usb you need to required: 30\n",
      "Enetr item name or q to quite: hands free\n",
      "hands free are not available in the shop..\n",
      "Enetr item name or q to quite: handsfree\n",
      "How handsfree you need to required: 50\n",
      "Enetr item name or q to quite: data cable\n",
      "How data cable you need to required: 20\n",
      "Enetr item name or q to quite: q\n",
      "\n",
      "\n",
      "    Items: ['usb', 'handsfree', 'data cable']\n",
      "    Total_Amount: 59000\n",
      "    tax_Applied: 2950.0\n",
      "    Discount_Offered: 11800.0\n",
      "    Bill_Payable:50150.0\n",
      "\n"
     ]
    }
   ],
   "source": [
    "shopping(\"Muhammad Saad\")"
   ]
  },
  {
   "cell_type": "code",
   "execution_count": 41,
   "id": "d0cb81ef",
   "metadata": {},
   "outputs": [],
   "source": [
    "laptop={'dell':50000,'hp':60000,'lenovo':70000,'Apple':100000,'samsung':80000}"
   ]
  },
  {
   "cell_type": "code",
   "execution_count": null,
   "id": "9efa2fd5",
   "metadata": {},
   "outputs": [],
   "source": [
    "def func(name):\n",
    "    cart =[]\n",
    "    grand_total=0\n",
    "     "
   ]
  },
  {
   "cell_type": "code",
   "execution_count": 2,
   "id": "2bbed5f7",
   "metadata": {},
   "outputs": [
    {
     "name": "stdout",
     "output_type": "stream",
     "text": [
      "Enter guests names or q to quite: saad\n",
      "Enter guests names or q to quite: amir\n",
      "Enter guests names or q to quite: akmal\n",
      "Enter guests names or q to quite: ali\n",
      "Enter guests names or q to quite: q\n",
      "['saad', 'amir', 'akmal', 'ali']\n"
     ]
    }
   ],
   "source": [
    "guests = []\n",
    "for a in range(10):\n",
    "    name=input(\"Enter guests names or q to quite: \")\n",
    "    if  name!='q':\n",
    "        guests.append(name)\n",
    "    else:\n",
    "        break\n",
    "print(guests)\n",
    "        "
   ]
  },
  {
   "cell_type": "code",
   "execution_count": 3,
   "id": "eecc4c3b",
   "metadata": {},
   "outputs": [
    {
     "name": "stdout",
     "output_type": "stream",
     "text": [
      "Enter item name or q to quite: piza\n",
      "Enter item name or q to quite: kabab\n",
      "Enter item name or q to quite: chawal\n",
      "Enter item name or q to quite: rice\n",
      "Enter item name or q to quite: biryani\n",
      "Enter item name or q to quite: fruit\n",
      "Enter item name or q to quite: veg\n",
      "Enter item name or q to quite: q\n",
      "['piza', 'kabab', 'chawal', 'rice', 'biryani', 'fruit', 'veg']\n"
     ]
    }
   ],
   "source": [
    "item = []\n",
    "for a in range(10):\n",
    "    name = input(\"Enter item name or q to quite: \")\n",
    "    if name==\"q\":\n",
    "        break\n",
    "    else:\n",
    "        item.append(name)\n",
    "print(item)\n",
    "        "
   ]
  },
  {
   "cell_type": "code",
   "execution_count": 5,
   "id": "5df5371a",
   "metadata": {},
   "outputs": [
    {
     "name": "stdout",
     "output_type": "stream",
     "text": [
      "Enter name or q to quite: dj\n",
      "Enter name or q to quite: djd\n",
      "Enter name or q to quite: a\n",
      "Enter name or q to quite: wk\n",
      "Enter name or q to quite: kw\n",
      "Enter name or q to quite: wi'\n",
      "Enter name or q to quite: wu\n",
      "Enter name or q to quite: ei\n",
      "Enter name or q to quite: ien\n",
      "Enter name or q to quite: fcn\n",
      "['dj', 'djd', 'a', 'wk', 'kw', \"wi'\", 'wu', 'ei', 'ien', 'fcn']\n"
     ]
    }
   ],
   "source": [
    "a=0\n",
    "item =[]\n",
    "while a<10:\n",
    "    name = input(\"Enter name or q to quite: \")\n",
    "    if name!=\"q\":\n",
    "        item.append(name)\n",
    "    else:\n",
    "        break\n",
    "    a+=1\n",
    "print(item)"
   ]
  },
  {
   "cell_type": "code",
   "execution_count": 6,
   "id": "c54c7987",
   "metadata": {},
   "outputs": [
    {
     "name": "stdout",
     "output_type": "stream",
     "text": [
      "Ender order name or q to quite: pizza\n",
      "Ender order name or q to quite: rice\n",
      "Ender order name or q to quite: biryani\n",
      "Ender order name or q to quite: kheer\n",
      "Ender order name or q to quite: kabak\n",
      "Ender order name or q to quite: jelly\n",
      "Ender order name or q to quite: butter\n",
      "Ender order name or q to quite: lays\n",
      "Ender order name or q to quite: drinks\n",
      "Ender order name or q to quite: q\n",
      "['pizza', 'rice', 'biryani', 'kheer', 'kabak', 'jelly', 'butter', 'lays', 'drinks']\n"
     ]
    }
   ],
   "source": [
    "a=0\n",
    "order =[]\n",
    "while True:\n",
    "    name = input(\"Ender order name or q to quite: \")\n",
    "    if name!=\"q\":\n",
    "        order.append(name)\n",
    "    else:\n",
    "        break\n",
    "    a+=1\n",
    "print(order)\n",
    "    "
   ]
  },
  {
   "cell_type": "code",
   "execution_count": 7,
   "id": "0031bc4b",
   "metadata": {},
   "outputs": [],
   "source": [
    "shop =['mobile casing','mobile chargers','data cable', 'usb','card reader', 'handsfree', 'bluetooth']"
   ]
  },
  {
   "cell_type": "code",
   "execution_count": 10,
   "id": "b41563c3",
   "metadata": {},
   "outputs": [
    {
     "name": "stdout",
     "output_type": "stream",
     "text": [
      "Enter item name or q to quite: data cable\n",
      "Enter item name or q to quite: data cable\n",
      "data cable are allready available in cart...\n",
      "Enter item name or q to quite: usb\n",
      "Enter item name or q to quite: q\n"
     ]
    },
    {
     "data": {
      "text/plain": [
       "['data cable', 'usb']"
      ]
     },
     "execution_count": 10,
     "metadata": {},
     "output_type": "execute_result"
    }
   ],
   "source": [
    "cart = []\n",
    "while True:\n",
    "    item = input(\"Enter item name or q to quite: \")\n",
    "    if item !='q':\n",
    "        if item in shop:\n",
    "            if item not in cart:\n",
    "                cart.append(item)\n",
    "            else:\n",
    "                print(f\"{item} are allready available in cart...\")\n",
    "        else:\n",
    "            print(f'{item} are not available in Shop..')\n",
    "    else:\n",
    "        break\n",
    "cart\n",
    "\n",
    "    \n",
    "        \n",
    "            \n",
    "            "
   ]
  },
  {
   "cell_type": "code",
   "execution_count": 11,
   "id": "958667c4",
   "metadata": {},
   "outputs": [],
   "source": [
    "shop ={'mobile casing':200,'mobile chargers':300,'data cable':200, 'usb':500,'card reader':50, 'handsfree':800, 'bluetooth':3000}"
   ]
  },
  {
   "cell_type": "code",
   "execution_count": 16,
   "id": "b99cd07d",
   "metadata": {},
   "outputs": [
    {
     "name": "stdout",
     "output_type": "stream",
     "text": [
      "Enter item name or q to quite: usb44\n",
      "item are not available in shop\n",
      "Enter item name or q to quite: usb\n",
      "how many usb you need to required..4444\n",
      "Enter item name or q to quite: q\n"
     ]
    },
    {
     "data": {
      "text/plain": [
       "2222000"
      ]
     },
     "execution_count": 16,
     "metadata": {},
     "output_type": "execute_result"
    }
   ],
   "source": [
    "cart = []\n",
    "grand_total=0\n",
    "while True:\n",
    "    item = input(\"Enter item name or q to quite: \")\n",
    "    if item!='q':\n",
    "        if item in shop:\n",
    "            \n",
    "            unit = int(input(f\"how many {item} you need to required..\"))\n",
    "            total = shop[item]*unit\n",
    "            grand_total+=total\n",
    "            cart.append(item)\n",
    "        else:\n",
    "            print(\"item are not available in shop\")\n",
    "    else:\n",
    "        break\n",
    "cart\n",
    "grand_total\n",
    "            "
   ]
  },
  {
   "cell_type": "code",
   "execution_count": 1,
   "id": "2834b0d2",
   "metadata": {},
   "outputs": [
    {
     "name": "stdout",
     "output_type": "stream",
     "text": [
      "Enter num1: 22\n",
      "Enter num2: 22\n"
     ]
    },
    {
     "ename": "NameError",
     "evalue": "name 'num1' is not defined",
     "output_type": "error",
     "traceback": [
      "\u001b[1;31m---------------------------------------------------------------------------\u001b[0m",
      "\u001b[1;31mNameError\u001b[0m                                 Traceback (most recent call last)",
      "Cell \u001b[1;32mIn[1], line 5\u001b[0m\n\u001b[0;32m      3\u001b[0m \u001b[38;5;28;01mdef\u001b[39;00m \u001b[38;5;21madd\u001b[39m(num1,num2):\n\u001b[0;32m      4\u001b[0m     \u001b[38;5;28mprint\u001b[39m(num1\u001b[38;5;241m+\u001b[39mnum2)\n\u001b[1;32m----> 5\u001b[0m add(num1,num2)\n",
      "\u001b[1;31mNameError\u001b[0m: name 'num1' is not defined"
     ]
    }
   ],
   "source": [
    "num = int(input(\"Enter num1: \"))\n",
    "num = int(input(\"Enter num2: \"))\n",
    "def add(num1,num2):\n",
    "    print(num1+num2)\n",
    "add(num1,num2)\n",
    "\n"
   ]
  },
  {
   "cell_type": "code",
   "execution_count": 1,
   "id": "e485c476",
   "metadata": {},
   "outputs": [],
   "source": [
    "students  = ['ali', 'arif','maaz','imran', 'aman','asad','hassan','nawaz sharif', 'baber khan','hafiz muneer']"
   ]
  },
  {
   "cell_type": "code",
   "execution_count": 2,
   "id": "608e0dd2",
   "metadata": {},
   "outputs": [
    {
     "data": {
      "text/plain": [
       "'maaz'"
      ]
     },
     "execution_count": 2,
     "metadata": {},
     "output_type": "execute_result"
    }
   ],
   "source": [
    "students[2]"
   ]
  },
  {
   "cell_type": "code",
   "execution_count": 4,
   "id": "f74c48e0",
   "metadata": {},
   "outputs": [
    {
     "data": {
      "text/plain": [
       "'hafiz muneer'"
      ]
     },
     "execution_count": 4,
     "metadata": {},
     "output_type": "execute_result"
    }
   ],
   "source": [
    "students[9]"
   ]
  },
  {
   "cell_type": "code",
   "execution_count": 5,
   "id": "3fbda2fb",
   "metadata": {},
   "outputs": [
    {
     "data": {
      "text/plain": [
       "'hafiz muneer'"
      ]
     },
     "execution_count": 5,
     "metadata": {},
     "output_type": "execute_result"
    }
   ],
   "source": [
    "students[-1]"
   ]
  },
  {
   "cell_type": "code",
   "execution_count": 6,
   "id": "1d0d4a84",
   "metadata": {},
   "outputs": [
    {
     "data": {
      "text/plain": [
       "'asad'"
      ]
     },
     "execution_count": 6,
     "metadata": {},
     "output_type": "execute_result"
    }
   ],
   "source": [
    "students[-5]"
   ]
  },
  {
   "cell_type": "code",
   "execution_count": 7,
   "id": "5a558f7c",
   "metadata": {},
   "outputs": [
    {
     "data": {
      "text/plain": [
       "['ali',\n",
       " 'arif',\n",
       " 'maaz',\n",
       " 'imran',\n",
       " 'aman',\n",
       " 'asad',\n",
       " 'hassan',\n",
       " 'nawaz sharif',\n",
       " 'baber khan',\n",
       " 'hafiz muneer']"
      ]
     },
     "execution_count": 7,
     "metadata": {},
     "output_type": "execute_result"
    }
   ],
   "source": [
    "students"
   ]
  },
  {
   "cell_type": "code",
   "execution_count": 11,
   "id": "c1975b0e",
   "metadata": {},
   "outputs": [],
   "source": [
    "students.append('saad')"
   ]
  },
  {
   "cell_type": "code",
   "execution_count": 12,
   "id": "c2b0b765",
   "metadata": {},
   "outputs": [
    {
     "data": {
      "text/plain": [
       "['ali',\n",
       " 'arif',\n",
       " 'maaz',\n",
       " 'imran',\n",
       " 'aman',\n",
       " 'asad',\n",
       " 'hassan',\n",
       " 'nawaz sharif',\n",
       " 'baber khan',\n",
       " 'hafiz muneer',\n",
       " 'saad']"
      ]
     },
     "execution_count": 12,
     "metadata": {},
     "output_type": "execute_result"
    }
   ],
   "source": [
    "students"
   ]
  },
  {
   "cell_type": "code",
   "execution_count": 15,
   "id": "b6669ff4",
   "metadata": {},
   "outputs": [],
   "source": [
    "students.append(['pakistan','india'])\n"
   ]
  },
  {
   "cell_type": "code",
   "execution_count": 16,
   "id": "00cf5c7c",
   "metadata": {},
   "outputs": [
    {
     "data": {
      "text/plain": [
       "['ali',\n",
       " 'arif',\n",
       " 'maaz',\n",
       " 'imran',\n",
       " 'aman',\n",
       " 'asad',\n",
       " 'hassan',\n",
       " 'nawaz sharif',\n",
       " 'baber khan',\n",
       " 'hafiz muneer',\n",
       " 'saad',\n",
       " ['pakistan', 'india']]"
      ]
     },
     "execution_count": 16,
     "metadata": {},
     "output_type": "execute_result"
    }
   ],
   "source": [
    "students"
   ]
  },
  {
   "cell_type": "code",
   "execution_count": 18,
   "id": "5e9e89cf",
   "metadata": {},
   "outputs": [],
   "source": [
    "students.extend(['burger','pizza','rice'])"
   ]
  },
  {
   "cell_type": "code",
   "execution_count": 19,
   "id": "30424292",
   "metadata": {},
   "outputs": [
    {
     "data": {
      "text/plain": [
       "['ali',\n",
       " 'arif',\n",
       " 'maaz',\n",
       " 'imran',\n",
       " 'aman',\n",
       " 'asad',\n",
       " 'hassan',\n",
       " 'nawaz sharif',\n",
       " 'baber khan',\n",
       " 'hafiz muneer',\n",
       " 'saad',\n",
       " ['pakistan', 'india'],\n",
       " 'burger',\n",
       " 'pizza',\n",
       " 'rice']"
      ]
     },
     "execution_count": 19,
     "metadata": {},
     "output_type": "execute_result"
    }
   ],
   "source": [
    "students"
   ]
  },
  {
   "cell_type": "code",
   "execution_count": 21,
   "id": "9e2a019a",
   "metadata": {},
   "outputs": [],
   "source": [
    "students+=['saad',23]"
   ]
  },
  {
   "cell_type": "code",
   "execution_count": 22,
   "id": "e0ef8f35",
   "metadata": {},
   "outputs": [
    {
     "data": {
      "text/plain": [
       "['ali',\n",
       " 'arif',\n",
       " 'maaz',\n",
       " 'imran',\n",
       " 'aman',\n",
       " 'asad',\n",
       " 'hassan',\n",
       " 'nawaz sharif',\n",
       " 'baber khan',\n",
       " 'hafiz muneer',\n",
       " 'saad',\n",
       " ['pakistan', 'india'],\n",
       " 'burger',\n",
       " 'pizza',\n",
       " 'rice',\n",
       " 'saad',\n",
       " 23]"
      ]
     },
     "execution_count": 22,
     "metadata": {},
     "output_type": "execute_result"
    }
   ],
   "source": [
    "students"
   ]
  },
  {
   "cell_type": "code",
   "execution_count": 23,
   "id": "319d12b6",
   "metadata": {},
   "outputs": [],
   "source": [
    "lst = [1,2,3,4,5,6]"
   ]
  },
  {
   "cell_type": "code",
   "execution_count": 24,
   "id": "491c150c",
   "metadata": {},
   "outputs": [],
   "source": [
    "lst.append('8')"
   ]
  },
  {
   "cell_type": "code",
   "execution_count": 25,
   "id": "10fdb6ce",
   "metadata": {},
   "outputs": [
    {
     "data": {
      "text/plain": [
       "[1, 2, 3, 4, 5, 6, '8']"
      ]
     },
     "execution_count": 25,
     "metadata": {},
     "output_type": "execute_result"
    }
   ],
   "source": [
    "lst"
   ]
  },
  {
   "cell_type": "code",
   "execution_count": 27,
   "id": "280a43f0",
   "metadata": {},
   "outputs": [],
   "source": [
    "lst.extend([9,10])"
   ]
  },
  {
   "cell_type": "code",
   "execution_count": 28,
   "id": "9488476c",
   "metadata": {},
   "outputs": [
    {
     "data": {
      "text/plain": [
       "[1, 2, 3, 4, 5, 6, '8', 9, 10]"
      ]
     },
     "execution_count": 28,
     "metadata": {},
     "output_type": "execute_result"
    }
   ],
   "source": [
    "lst"
   ]
  },
  {
   "cell_type": "code",
   "execution_count": 29,
   "id": "7156a41e",
   "metadata": {},
   "outputs": [],
   "source": [
    "lst+=[11,12]"
   ]
  },
  {
   "cell_type": "code",
   "execution_count": 30,
   "id": "f5f735c4",
   "metadata": {},
   "outputs": [
    {
     "data": {
      "text/plain": [
       "[1, 2, 3, 4, 5, 6, '8', 9, 10, 11, 12]"
      ]
     },
     "execution_count": 30,
     "metadata": {},
     "output_type": "execute_result"
    }
   ],
   "source": [
    "lst"
   ]
  },
  {
   "cell_type": "code",
   "execution_count": 31,
   "id": "09f7e8a4",
   "metadata": {},
   "outputs": [],
   "source": [
    "del lst[2]"
   ]
  },
  {
   "cell_type": "code",
   "execution_count": 32,
   "id": "7f2d699a",
   "metadata": {},
   "outputs": [
    {
     "data": {
      "text/plain": [
       "[1, 2, 4, 5, 6, '8', 9, 10, 11, 12]"
      ]
     },
     "execution_count": 32,
     "metadata": {},
     "output_type": "execute_result"
    }
   ],
   "source": [
    "lst"
   ]
  },
  {
   "cell_type": "code",
   "execution_count": 34,
   "id": "2085a352",
   "metadata": {},
   "outputs": [],
   "source": [
    "lst.remove('8')"
   ]
  },
  {
   "cell_type": "code",
   "execution_count": 35,
   "id": "2da640a8",
   "metadata": {},
   "outputs": [
    {
     "data": {
      "text/plain": [
       "[1, 2, 4, 5, 6, 9, 10, 11, 12]"
      ]
     },
     "execution_count": 35,
     "metadata": {},
     "output_type": "execute_result"
    }
   ],
   "source": [
    "lst"
   ]
  },
  {
   "cell_type": "code",
   "execution_count": 36,
   "id": "371208a7",
   "metadata": {},
   "outputs": [],
   "source": [
    "lst.remove(1)"
   ]
  },
  {
   "cell_type": "code",
   "execution_count": 37,
   "id": "8c8daf13",
   "metadata": {},
   "outputs": [
    {
     "data": {
      "text/plain": [
       "[2, 4, 5, 6, 9, 10, 11, 12]"
      ]
     },
     "execution_count": 37,
     "metadata": {},
     "output_type": "execute_result"
    }
   ],
   "source": [
    "lst"
   ]
  },
  {
   "cell_type": "code",
   "execution_count": 38,
   "id": "cca168a4",
   "metadata": {},
   "outputs": [],
   "source": [
    "lst.clear()"
   ]
  },
  {
   "cell_type": "code",
   "execution_count": 39,
   "id": "016c80ea",
   "metadata": {},
   "outputs": [
    {
     "data": {
      "text/plain": [
       "[]"
      ]
     },
     "execution_count": 39,
     "metadata": {},
     "output_type": "execute_result"
    }
   ],
   "source": [
    "lst"
   ]
  },
  {
   "cell_type": "code",
   "execution_count": 40,
   "id": "a11d8c37",
   "metadata": {},
   "outputs": [
    {
     "data": {
      "text/plain": [
       "1"
      ]
     },
     "execution_count": 40,
     "metadata": {},
     "output_type": "execute_result"
    }
   ],
   "source": [
    "students.count('maaz')"
   ]
  },
  {
   "cell_type": "code",
   "execution_count": 41,
   "id": "69ac5384",
   "metadata": {},
   "outputs": [],
   "source": [
    "oldstudents=students"
   ]
  },
  {
   "cell_type": "code",
   "execution_count": 42,
   "id": "9a5aa6ad",
   "metadata": {},
   "outputs": [
    {
     "data": {
      "text/plain": [
       "['ali',\n",
       " 'arif',\n",
       " 'maaz',\n",
       " 'imran',\n",
       " 'aman',\n",
       " 'asad',\n",
       " 'hassan',\n",
       " 'nawaz sharif',\n",
       " 'baber khan',\n",
       " 'hafiz muneer',\n",
       " 'saad',\n",
       " ['pakistan', 'india'],\n",
       " 'burger',\n",
       " 'pizza',\n",
       " 'rice',\n",
       " 'saad',\n",
       " 23]"
      ]
     },
     "execution_count": 42,
     "metadata": {},
     "output_type": "execute_result"
    }
   ],
   "source": [
    "oldstudents"
   ]
  },
  {
   "cell_type": "code",
   "execution_count": 44,
   "id": "3b662ef8",
   "metadata": {},
   "outputs": [],
   "source": [
    "del students[11]"
   ]
  },
  {
   "cell_type": "code",
   "execution_count": 45,
   "id": "fc289ec4",
   "metadata": {},
   "outputs": [
    {
     "data": {
      "text/plain": [
       "['ali',\n",
       " 'arif',\n",
       " 'maaz',\n",
       " 'imran',\n",
       " 'aman',\n",
       " 'asad',\n",
       " 'hassan',\n",
       " 'nawaz sharif',\n",
       " 'baber khan',\n",
       " 'hafiz muneer',\n",
       " 'saad',\n",
       " 'burger',\n",
       " 'pizza',\n",
       " 'rice',\n",
       " 'saad',\n",
       " 23]"
      ]
     },
     "execution_count": 45,
     "metadata": {},
     "output_type": "execute_result"
    }
   ],
   "source": [
    "students"
   ]
  },
  {
   "cell_type": "code",
   "execution_count": 46,
   "id": "9d2eff67",
   "metadata": {},
   "outputs": [
    {
     "data": {
      "text/plain": [
       "['ali',\n",
       " 'arif',\n",
       " 'maaz',\n",
       " 'imran',\n",
       " 'aman',\n",
       " 'asad',\n",
       " 'hassan',\n",
       " 'nawaz sharif',\n",
       " 'baber khan',\n",
       " 'hafiz muneer',\n",
       " 'saad',\n",
       " 'burger',\n",
       " 'pizza',\n",
       " 'rice',\n",
       " 'saad',\n",
       " 23]"
      ]
     },
     "execution_count": 46,
     "metadata": {},
     "output_type": "execute_result"
    }
   ],
   "source": [
    "oldstudents"
   ]
  },
  {
   "cell_type": "code",
   "execution_count": 47,
   "id": "0ac7a834",
   "metadata": {},
   "outputs": [],
   "source": [
    "oldstudents.clear()"
   ]
  },
  {
   "cell_type": "code",
   "execution_count": 48,
   "id": "e790e1b7",
   "metadata": {},
   "outputs": [
    {
     "data": {
      "text/plain": [
       "[]"
      ]
     },
     "execution_count": 48,
     "metadata": {},
     "output_type": "execute_result"
    }
   ],
   "source": [
    "students"
   ]
  },
  {
   "cell_type": "code",
   "execution_count": 49,
   "id": "dbb8b99a",
   "metadata": {},
   "outputs": [],
   "source": [
    "students  = ['ali', 'arif','maaz','imran', 'aman','asad','hassan','nawaz sharif', 'baber khan','hafiz muneer']"
   ]
  },
  {
   "cell_type": "code",
   "execution_count": 50,
   "id": "dab75bec",
   "metadata": {},
   "outputs": [
    {
     "data": {
      "text/plain": [
       "['arif', 'maaz', 'imran', 'aman']"
      ]
     },
     "execution_count": 50,
     "metadata": {},
     "output_type": "execute_result"
    }
   ],
   "source": [
    "students[1:5]"
   ]
  },
  {
   "cell_type": "code",
   "execution_count": 51,
   "id": "696b91e8",
   "metadata": {},
   "outputs": [
    {
     "data": {
      "text/plain": [
       "['ali', 'arif', 'maaz', 'imran']"
      ]
     },
     "execution_count": 51,
     "metadata": {},
     "output_type": "execute_result"
    }
   ],
   "source": [
    "students[:4]"
   ]
  },
  {
   "cell_type": "code",
   "execution_count": 52,
   "id": "a815b22f",
   "metadata": {},
   "outputs": [
    {
     "data": {
      "text/plain": [
       "['arif', 'asad', 'hafiz muneer']"
      ]
     },
     "execution_count": 52,
     "metadata": {},
     "output_type": "execute_result"
    }
   ],
   "source": [
    "students[1::4]"
   ]
  },
  {
   "cell_type": "code",
   "execution_count": 53,
   "id": "b3d5466e",
   "metadata": {},
   "outputs": [
    {
     "data": {
      "text/plain": [
       "['arif', 'hassan']"
      ]
     },
     "execution_count": 53,
     "metadata": {},
     "output_type": "execute_result"
    }
   ],
   "source": [
    "students[1::5]"
   ]
  },
  {
   "cell_type": "code",
   "execution_count": 54,
   "id": "12628fa5",
   "metadata": {},
   "outputs": [
    {
     "data": {
      "text/plain": [
       "['arif']"
      ]
     },
     "execution_count": 54,
     "metadata": {},
     "output_type": "execute_result"
    }
   ],
   "source": [
    "students[1:3:7]"
   ]
  },
  {
   "cell_type": "code",
   "execution_count": 56,
   "id": "2c662ced",
   "metadata": {},
   "outputs": [
    {
     "data": {
      "text/plain": [
       "'hafiz muneer'"
      ]
     },
     "execution_count": 56,
     "metadata": {},
     "output_type": "execute_result"
    }
   ],
   "source": [
    "students.pop()"
   ]
  },
  {
   "cell_type": "code",
   "execution_count": 58,
   "id": "c48025b5",
   "metadata": {},
   "outputs": [
    {
     "data": {
      "text/plain": [
       "['ali',\n",
       " 'arif',\n",
       " 'maaz',\n",
       " 'imran',\n",
       " 'aman',\n",
       " 'asad',\n",
       " 'hassan',\n",
       " 'nawaz sharif',\n",
       " 'baber khan']"
      ]
     },
     "execution_count": 58,
     "metadata": {},
     "output_type": "execute_result"
    }
   ],
   "source": [
    "students"
   ]
  },
  {
   "cell_type": "code",
   "execution_count": 59,
   "id": "14a25708",
   "metadata": {},
   "outputs": [],
   "source": [
    "students.append('hafiz muneer')"
   ]
  },
  {
   "cell_type": "code",
   "execution_count": 60,
   "id": "1aba234d",
   "metadata": {},
   "outputs": [
    {
     "data": {
      "text/plain": [
       "['ali',\n",
       " 'arif',\n",
       " 'maaz',\n",
       " 'imran',\n",
       " 'aman',\n",
       " 'asad',\n",
       " 'hassan',\n",
       " 'nawaz sharif',\n",
       " 'baber khan',\n",
       " 'hafiz muneer']"
      ]
     },
     "execution_count": 60,
     "metadata": {},
     "output_type": "execute_result"
    }
   ],
   "source": [
    "students"
   ]
  },
  {
   "cell_type": "code",
   "execution_count": 61,
   "id": "ceebaa04",
   "metadata": {},
   "outputs": [
    {
     "data": {
      "text/plain": [
       "'hafiz muneer'"
      ]
     },
     "execution_count": 61,
     "metadata": {},
     "output_type": "execute_result"
    }
   ],
   "source": [
    "students.pop()"
   ]
  },
  {
   "cell_type": "code",
   "execution_count": 62,
   "id": "fda48952",
   "metadata": {},
   "outputs": [],
   "source": [
    "students.extend('hafiz muneer')"
   ]
  },
  {
   "cell_type": "code",
   "execution_count": 63,
   "id": "56eb0729",
   "metadata": {},
   "outputs": [
    {
     "data": {
      "text/plain": [
       "['ali',\n",
       " 'arif',\n",
       " 'maaz',\n",
       " 'imran',\n",
       " 'aman',\n",
       " 'asad',\n",
       " 'hassan',\n",
       " 'nawaz sharif',\n",
       " 'baber khan',\n",
       " 'h',\n",
       " 'a',\n",
       " 'f',\n",
       " 'i',\n",
       " 'z',\n",
       " ' ',\n",
       " 'm',\n",
       " 'u',\n",
       " 'n',\n",
       " 'e',\n",
       " 'e',\n",
       " 'r']"
      ]
     },
     "execution_count": 63,
     "metadata": {},
     "output_type": "execute_result"
    }
   ],
   "source": [
    "students"
   ]
  },
  {
   "cell_type": "code",
   "execution_count": 64,
   "id": "d1648cc5",
   "metadata": {},
   "outputs": [
    {
     "data": {
      "text/plain": [
       "'r'"
      ]
     },
     "execution_count": 64,
     "metadata": {},
     "output_type": "execute_result"
    }
   ],
   "source": [
    "students.pop()"
   ]
  },
  {
   "cell_type": "code",
   "execution_count": 65,
   "id": "18f7cbe4",
   "metadata": {},
   "outputs": [],
   "source": [
    "students.extend(['hafiz muneer'])"
   ]
  },
  {
   "cell_type": "code",
   "execution_count": 66,
   "id": "fae853b1",
   "metadata": {},
   "outputs": [
    {
     "data": {
      "text/plain": [
       "['ali',\n",
       " 'arif',\n",
       " 'maaz',\n",
       " 'imran',\n",
       " 'aman',\n",
       " 'asad',\n",
       " 'hassan',\n",
       " 'nawaz sharif',\n",
       " 'baber khan',\n",
       " 'h',\n",
       " 'a',\n",
       " 'f',\n",
       " 'i',\n",
       " 'z',\n",
       " ' ',\n",
       " 'm',\n",
       " 'u',\n",
       " 'n',\n",
       " 'e',\n",
       " 'e',\n",
       " 'hafiz muneer']"
      ]
     },
     "execution_count": 66,
     "metadata": {},
     "output_type": "execute_result"
    }
   ],
   "source": [
    "students"
   ]
  },
  {
   "cell_type": "code",
   "execution_count": 67,
   "id": "a24dff2c",
   "metadata": {},
   "outputs": [],
   "source": [
    "student1 = {'name':'Nasir', 'age':23, 'weight':60, 'height':5.8, 'Qualifcation':'matric', 'city':\"peshawar\"}\n"
   ]
  },
  {
   "cell_type": "code",
   "execution_count": 69,
   "id": "ab9f8fd6",
   "metadata": {},
   "outputs": [
    {
     "data": {
      "text/plain": [
       "{'name': 'Nasir',\n",
       " 'age': 23,\n",
       " 'weight': 60,\n",
       " 'height': 5.8,\n",
       " 'Qualifcation': 'matric',\n",
       " 'city': 'peshawar'}"
      ]
     },
     "execution_count": 69,
     "metadata": {},
     "output_type": "execute_result"
    }
   ],
   "source": [
    "student1"
   ]
  },
  {
   "cell_type": "code",
   "execution_count": 70,
   "id": "6e6080ec",
   "metadata": {},
   "outputs": [
    {
     "data": {
      "text/plain": [
       "'Nasir'"
      ]
     },
     "execution_count": 70,
     "metadata": {},
     "output_type": "execute_result"
    }
   ],
   "source": [
    "student1['name']"
   ]
  },
  {
   "cell_type": "code",
   "execution_count": 71,
   "id": "63189cc8",
   "metadata": {},
   "outputs": [
    {
     "data": {
      "text/plain": [
       "23"
      ]
     },
     "execution_count": 71,
     "metadata": {},
     "output_type": "execute_result"
    }
   ],
   "source": [
    "student1['age']"
   ]
  },
  {
   "cell_type": "code",
   "execution_count": 72,
   "id": "726ffe88",
   "metadata": {},
   "outputs": [],
   "source": [
    "student1['age']=24"
   ]
  },
  {
   "cell_type": "code",
   "execution_count": 73,
   "id": "a6db4145",
   "metadata": {},
   "outputs": [
    {
     "data": {
      "text/plain": [
       "{'name': 'Nasir',\n",
       " 'age': 24,\n",
       " 'weight': 60,\n",
       " 'height': 5.8,\n",
       " 'Qualifcation': 'matric',\n",
       " 'city': 'peshawar'}"
      ]
     },
     "execution_count": 73,
     "metadata": {},
     "output_type": "execute_result"
    }
   ],
   "source": [
    "student1"
   ]
  },
  {
   "cell_type": "code",
   "execution_count": 74,
   "id": "75e72a16",
   "metadata": {},
   "outputs": [],
   "source": [
    "student1['name']=\"Saad\""
   ]
  },
  {
   "cell_type": "code",
   "execution_count": 75,
   "id": "5f3bdbfd",
   "metadata": {},
   "outputs": [
    {
     "data": {
      "text/plain": [
       "{'name': 'Saad',\n",
       " 'age': 24,\n",
       " 'weight': 60,\n",
       " 'height': 5.8,\n",
       " 'Qualifcation': 'matric',\n",
       " 'city': 'peshawar'}"
      ]
     },
     "execution_count": 75,
     "metadata": {},
     "output_type": "execute_result"
    }
   ],
   "source": [
    "student1"
   ]
  },
  {
   "cell_type": "code",
   "execution_count": 77,
   "id": "a2914c0e",
   "metadata": {},
   "outputs": [
    {
     "data": {
      "text/plain": [
       "60"
      ]
     },
     "execution_count": 77,
     "metadata": {},
     "output_type": "execute_result"
    }
   ],
   "source": [
    "student1.pop('weight')"
   ]
  },
  {
   "cell_type": "code",
   "execution_count": 78,
   "id": "300df839",
   "metadata": {},
   "outputs": [
    {
     "data": {
      "text/plain": [
       "{'name': 'Saad',\n",
       " 'age': 24,\n",
       " 'height': 5.8,\n",
       " 'Qualifcation': 'matric',\n",
       " 'city': 'peshawar'}"
      ]
     },
     "execution_count": 78,
     "metadata": {},
     "output_type": "execute_result"
    }
   ],
   "source": [
    "student1"
   ]
  },
  {
   "cell_type": "code",
   "execution_count": 80,
   "id": "172d559e",
   "metadata": {},
   "outputs": [
    {
     "data": {
      "text/plain": [
       "('city', 'peshawar')"
      ]
     },
     "execution_count": 80,
     "metadata": {},
     "output_type": "execute_result"
    }
   ],
   "source": [
    "student1.popitem()"
   ]
  },
  {
   "cell_type": "code",
   "execution_count": 81,
   "id": "2f6cd7f0",
   "metadata": {},
   "outputs": [
    {
     "data": {
      "text/plain": [
       "{'name': 'Saad', 'age': 24, 'height': 5.8, 'Qualifcation': 'matric'}"
      ]
     },
     "execution_count": 81,
     "metadata": {},
     "output_type": "execute_result"
    }
   ],
   "source": [
    "student1"
   ]
  },
  {
   "cell_type": "code",
   "execution_count": 84,
   "id": "381ccc7e",
   "metadata": {},
   "outputs": [
    {
     "data": {
      "text/plain": [
       "dict_keys(['name', 'age', 'height', 'Qualifcation'])"
      ]
     },
     "execution_count": 84,
     "metadata": {},
     "output_type": "execute_result"
    }
   ],
   "source": [
    "student1.keys()"
   ]
  },
  {
   "cell_type": "code",
   "execution_count": 85,
   "id": "fd874834",
   "metadata": {},
   "outputs": [
    {
     "data": {
      "text/plain": [
       "dict_values(['Saad', 24, 5.8, 'matric'])"
      ]
     },
     "execution_count": 85,
     "metadata": {},
     "output_type": "execute_result"
    }
   ],
   "source": [
    "student1.values()"
   ]
  },
  {
   "cell_type": "code",
   "execution_count": 86,
   "id": "81404354",
   "metadata": {},
   "outputs": [
    {
     "ename": "TypeError",
     "evalue": "unsupported operand type(s) for +: 'int' and 'str'",
     "output_type": "error",
     "traceback": [
      "\u001b[1;31m---------------------------------------------------------------------------\u001b[0m",
      "\u001b[1;31mTypeError\u001b[0m                                 Traceback (most recent call last)",
      "Cell \u001b[1;32mIn[86], line 5\u001b[0m\n\u001b[0;32m      2\u001b[0m var2 \u001b[38;5;241m=\u001b[39m \u001b[38;5;241m2\u001b[39m\n\u001b[0;32m      3\u001b[0m var3 \u001b[38;5;241m=\u001b[39m \u001b[38;5;124m\"\u001b[39m\u001b[38;5;124m3\u001b[39m\u001b[38;5;124m\"\u001b[39m\n\u001b[1;32m----> 5\u001b[0m \u001b[38;5;28mprint\u001b[39m(var1 \u001b[38;5;241m+\u001b[39m var2 \u001b[38;5;241m+\u001b[39m var3)\n",
      "\u001b[1;31mTypeError\u001b[0m: unsupported operand type(s) for +: 'int' and 'str'"
     ]
    }
   ],
   "source": [
    "var1 = 1\n",
    "var2 = 2\n",
    "var3 = \"3\"\n",
    "\n",
    "print(var1 + var2 + var3)"
   ]
  },
  {
   "cell_type": "code",
   "execution_count": 87,
   "id": "b81bfbcc",
   "metadata": {},
   "outputs": [
    {
     "data": {
      "text/plain": [
       "182.0"
      ]
     },
     "execution_count": 87,
     "metadata": {},
     "output_type": "execute_result"
    }
   ],
   "source": [
    "36 / 4 * (3 +  2) * 4 + 2"
   ]
  },
  {
   "cell_type": "code",
   "execution_count": 88,
   "id": "14f37020",
   "metadata": {},
   "outputs": [
    {
     "name": "stdout",
     "output_type": "stream",
     "text": [
      "JamesJamesJamesJamesJamesJames\n"
     ]
    }
   ],
   "source": [
    "var = \"James\" * 2  * 3\n",
    "print(var)"
   ]
  },
  {
   "cell_type": "code",
   "execution_count": 89,
   "id": "caad983f",
   "metadata": {},
   "outputs": [
    {
     "data": {
      "text/plain": [
       "'jamesjamesjamesjamesjamesjames'"
      ]
     },
     "execution_count": 89,
     "metadata": {},
     "output_type": "execute_result"
    }
   ],
   "source": [
    "'james'*6"
   ]
  },
  {
   "cell_type": "code",
   "execution_count": 90,
   "id": "c0439bbe",
   "metadata": {},
   "outputs": [
    {
     "name": "stdout",
     "output_type": "stream",
     "text": [
      "Salary: 12000\n",
      "Salary: 8000\n"
     ]
    }
   ],
   "source": [
    "salary = 8000\n",
    "\n",
    "def printSalary():\n",
    "  salary = 12000\n",
    "  print(\"Salary:\", salary)\n",
    "  \n",
    "printSalary()\n",
    "print(\"Salary:\", salary)"
   ]
  },
  {
   "cell_type": "code",
   "execution_count": 91,
   "id": "19429ad6",
   "metadata": {},
   "outputs": [
    {
     "name": "stdout",
     "output_type": "stream",
     "text": [
      "maJ\n"
     ]
    }
   ],
   "source": [
    "var= \"James Bond\"\n",
    "print(var[2::-1])"
   ]
  },
  {
   "cell_type": "code",
   "execution_count": 92,
   "id": "40a22f7d",
   "metadata": {},
   "outputs": [
    {
     "name": "stdout",
     "output_type": "stream",
     "text": [
      "True\n",
      "False\n"
     ]
    }
   ],
   "source": [
    "listOne = [20, 40, 60, 80]\n",
    "listTwo = [20, 40, 60, 80]\n",
    "\n",
    "print(listOne == listTwo)\n",
    "print(listOne is listTwo)"
   ]
  },
  {
   "cell_type": "code",
   "execution_count": 93,
   "id": "a6c2a825",
   "metadata": {},
   "outputs": [
    {
     "ename": "UnboundLocalError",
     "evalue": "cannot access local variable 'x' where it is not associated with a value",
     "output_type": "error",
     "traceback": [
      "\u001b[1;31m---------------------------------------------------------------------------\u001b[0m",
      "\u001b[1;31mUnboundLocalError\u001b[0m                         Traceback (most recent call last)",
      "Cell \u001b[1;32mIn[93], line 6\u001b[0m\n\u001b[0;32m      3\u001b[0m     x \u001b[38;5;241m=\u001b[39m x \u001b[38;5;241m+\u001b[39m \u001b[38;5;241m1\u001b[39m\n\u001b[0;32m      4\u001b[0m     \u001b[38;5;28mprint\u001b[39m(x)\n\u001b[1;32m----> 6\u001b[0m myfunc()\n\u001b[0;32m      7\u001b[0m \u001b[38;5;28mprint\u001b[39m(x)\n",
      "Cell \u001b[1;32mIn[93], line 3\u001b[0m, in \u001b[0;36mmyfunc\u001b[1;34m()\u001b[0m\n\u001b[0;32m      2\u001b[0m \u001b[38;5;28;01mdef\u001b[39;00m \u001b[38;5;21mmyfunc\u001b[39m():\n\u001b[1;32m----> 3\u001b[0m     x \u001b[38;5;241m=\u001b[39m x \u001b[38;5;241m+\u001b[39m \u001b[38;5;241m1\u001b[39m\n\u001b[0;32m      4\u001b[0m     \u001b[38;5;28mprint\u001b[39m(x)\n",
      "\u001b[1;31mUnboundLocalError\u001b[0m: cannot access local variable 'x' where it is not associated with a value"
     ]
    }
   ],
   "source": [
    "x = 75\n",
    "def myfunc():\n",
    "    x = x + 1\n",
    "    print(x)\n",
    "\n",
    "myfunc()\n",
    "print(x)"
   ]
  },
  {
   "cell_type": "code",
   "execution_count": 94,
   "id": "6a6a5a13",
   "metadata": {},
   "outputs": [
    {
     "name": "stdout",
     "output_type": "stream",
     "text": [
      "75\n"
     ]
    }
   ],
   "source": [
    "def func1():\n",
    "    x = 50\n",
    "    return x\n",
    "func1()\n",
    "print(x)"
   ]
  },
  {
   "cell_type": "code",
   "execution_count": 95,
   "id": "48e8993a",
   "metadata": {},
   "outputs": [
    {
     "name": "stdout",
     "output_type": "stream",
     "text": [
      "<class 'int'>\n"
     ]
    }
   ],
   "source": [
    "print(type(10))"
   ]
  },
  {
   "cell_type": "code",
   "execution_count": 96,
   "id": "5c1c0ede",
   "metadata": {},
   "outputs": [],
   "source": [
    "str1 = \"\"\"Ault'Kelly\"\"\""
   ]
  },
  {
   "cell_type": "code",
   "execution_count": 97,
   "id": "184b58ad",
   "metadata": {},
   "outputs": [
    {
     "data": {
      "text/plain": [
       "\"Ault'Kelly\""
      ]
     },
     "execution_count": 97,
     "metadata": {},
     "output_type": "execute_result"
    }
   ],
   "source": [
    "str1"
   ]
  },
  {
   "cell_type": "code",
   "execution_count": 98,
   "id": "c95f2f8e",
   "metadata": {},
   "outputs": [
    {
     "name": "stdout",
     "output_type": "stream",
     "text": [
      "False True True True\n"
     ]
    }
   ],
   "source": [
    "print(bool(0), bool(3.14159), bool(-3), bool(1.0+1j))"
   ]
  },
  {
   "cell_type": "code",
   "execution_count": 99,
   "id": "e323e50c",
   "metadata": {},
   "outputs": [
    {
     "data": {
      "text/plain": [
       "False"
      ]
     },
     "execution_count": 99,
     "metadata": {},
     "output_type": "execute_result"
    }
   ],
   "source": [
    "bool(0)"
   ]
  },
  {
   "cell_type": "code",
   "execution_count": 100,
   "id": "e7927e93",
   "metadata": {},
   "outputs": [
    {
     "data": {
      "text/plain": [
       "True"
      ]
     },
     "execution_count": 100,
     "metadata": {},
     "output_type": "execute_result"
    }
   ],
   "source": [
    "bool(1)"
   ]
  },
  {
   "cell_type": "code",
   "execution_count": 101,
   "id": "88dea902",
   "metadata": {},
   "outputs": [
    {
     "data": {
      "text/plain": [
       "True"
      ]
     },
     "execution_count": 101,
     "metadata": {},
     "output_type": "execute_result"
    }
   ],
   "source": [
    "bool(2)"
   ]
  },
  {
   "cell_type": "code",
   "execution_count": 102,
   "id": "f5d6ce25",
   "metadata": {},
   "outputs": [
    {
     "data": {
      "text/plain": [
       "True"
      ]
     },
     "execution_count": 102,
     "metadata": {},
     "output_type": "execute_result"
    }
   ],
   "source": [
    "bool(-1)"
   ]
  },
  {
   "cell_type": "code",
   "execution_count": 105,
   "id": "b263c67c",
   "metadata": {},
   "outputs": [
    {
     "data": {
      "text/plain": [
       "True"
      ]
     },
     "execution_count": 105,
     "metadata": {},
     "output_type": "execute_result"
    }
   ],
   "source": [
    "bool(1+0j)"
   ]
  },
  {
   "cell_type": "code",
   "execution_count": null,
   "id": "3e16dad9",
   "metadata": {},
   "outputs": [],
   "source": [
    "lst= [1,2,3,4,5,6,7,8,9,97,,7,6,5,5,5,]"
   ]
  }
 ],
 "metadata": {
  "kernelspec": {
   "display_name": "Python 3 (ipykernel)",
   "language": "python",
   "name": "python3"
  },
  "language_info": {
   "codemirror_mode": {
    "name": "ipython",
    "version": 3
   },
   "file_extension": ".py",
   "mimetype": "text/x-python",
   "name": "python",
   "nbconvert_exporter": "python",
   "pygments_lexer": "ipython3",
   "version": "3.11.5"
  }
 },
 "nbformat": 4,
 "nbformat_minor": 5
}
