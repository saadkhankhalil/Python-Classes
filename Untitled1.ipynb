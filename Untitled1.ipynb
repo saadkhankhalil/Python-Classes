{
 "cells": [
  {
   "cell_type": "markdown",
   "id": "0717f0b5",
   "metadata": {},
   "source": [
    "two methods to I/O \n",
    ".open>> we neeed to close the file ourself\n",
    ".with open>>>>cntex manager: it closes the file itself"
   ]
  },
  {
   "cell_type": "markdown",
   "id": "cdfb177a",
   "metadata": {},
   "source": [
    "# open()"
   ]
  },
  {
   "cell_type": "code",
   "execution_count": 4,
   "id": "1a2660e7",
   "metadata": {},
   "outputs": [],
   "source": [
    "f=open('gigs.txt','r')\n"
   ]
  },
  {
   "cell_type": "code",
   "execution_count": 18,
   "id": "3d0df213",
   "metadata": {},
   "outputs": [
    {
     "ename": "ValueError",
     "evalue": "I/O operation on closed file.",
     "output_type": "error",
     "traceback": [
      "\u001b[1;31m---------------------------------------------------------------------------\u001b[0m",
      "\u001b[1;31mValueError\u001b[0m                                Traceback (most recent call last)",
      "Cell \u001b[1;32mIn[18], line 1\u001b[0m\n\u001b[1;32m----> 1\u001b[0m \u001b[38;5;28mprint\u001b[39m(f\u001b[38;5;241m.\u001b[39mread())\n",
      "\u001b[1;31mValueError\u001b[0m: I/O operation on closed file."
     ]
    }
   ],
   "source": [
    "print(f.read())"
   ]
  },
  {
   "cell_type": "code",
   "execution_count": 6,
   "id": "f3fa97e3",
   "metadata": {},
   "outputs": [
    {
     "data": {
      "text/plain": [
       "0"
      ]
     },
     "execution_count": 6,
     "metadata": {},
     "output_type": "execute_result"
    }
   ],
   "source": [
    "f.seek(0)"
   ]
  },
  {
   "cell_type": "code",
   "execution_count": 7,
   "id": "02a15c30",
   "metadata": {},
   "outputs": [
    {
     "name": "stdout",
     "output_type": "stream",
     "text": [
      "\n"
     ]
    }
   ],
   "source": [
    "print(f.read())"
   ]
  },
  {
   "cell_type": "code",
   "execution_count": 8,
   "id": "46466cfb",
   "metadata": {},
   "outputs": [],
   "source": [
    "f.close()"
   ]
  },
  {
   "cell_type": "code",
   "execution_count": 9,
   "id": "d0cd2274",
   "metadata": {},
   "outputs": [
    {
     "ename": "ValueError",
     "evalue": "I/O operation on closed file.",
     "output_type": "error",
     "traceback": [
      "\u001b[1;31m---------------------------------------------------------------------------\u001b[0m",
      "\u001b[1;31mValueError\u001b[0m                                Traceback (most recent call last)",
      "Cell \u001b[1;32mIn[9], line 1\u001b[0m\n\u001b[1;32m----> 1\u001b[0m f\u001b[38;5;241m.\u001b[39mread()\n",
      "\u001b[1;31mValueError\u001b[0m: I/O operation on closed file."
     ]
    }
   ],
   "source": [
    "f.read()"
   ]
  },
  {
   "cell_type": "code",
   "execution_count": 11,
   "id": "edcb0a75",
   "metadata": {},
   "outputs": [
    {
     "name": "stdout",
     "output_type": "stream",
     "text": [
      "GIGS:\n",
      "Welcome to my gig!\n",
      "\n",
      "I am an independent consultant with the ability to solve a wide variety of your data problems.\n",
      "\n",
      "You are in the right place if you are a business owner looking to maximize the value of your data.\n",
      "\n",
      "I am an expert in the following areas:\n",
      "1.\tData collection\n",
      "2.\tData cleaning and manipulation\n",
      "3.\tData visualization\n",
      "4.\tDescriptive and exploratory data analysis\n",
      "5.\tHypothesis testing (parametric and non-parametric)\n",
      "6.\tProbability concepts\n",
      "7.\tRegression analysis\n",
      "8.\tTime series analysis\n",
      "9.\tPredictive modeling\n",
      "\n",
      "\n"
     ]
    }
   ],
   "source": [
    "#Open with\n",
    "\n",
    "with open('gigs.txt','r') as f:\n",
    "    content = f.read()\n",
    "    print(content)"
   ]
  },
  {
   "cell_type": "code",
   "execution_count": 12,
   "id": "14c4bdf5",
   "metadata": {},
   "outputs": [
    {
     "name": "stdout",
     "output_type": "stream",
     "text": [
      "GIGS:\n",
      "\n"
     ]
    }
   ],
   "source": [
    "\n",
    "with open('gigs.txt','r') as f:\n",
    "    content = f.readline()\n",
    "    print(content)"
   ]
  },
  {
   "cell_type": "code",
   "execution_count": 13,
   "id": "e0a1ba9c",
   "metadata": {},
   "outputs": [],
   "source": [
    "\n",
    "with open('gigs.txt','r') as f:\n",
    "    all_lines = f.readlines()\n",
    "  "
   ]
  },
  {
   "cell_type": "code",
   "execution_count": 17,
   "id": "81fa1a2f",
   "metadata": {
    "scrolled": true
   },
   "outputs": [
    {
     "data": {
      "text/plain": [
       "['GIGS:\\n',\n",
       " 'Welcome to my gig!\\n',\n",
       " '\\n',\n",
       " 'I am an independent consultant with the ability to solve a wide variety of your data problems.\\n',\n",
       " '\\n',\n",
       " 'You are in the right place if you are a business owner looking to maximize the value of your data.\\n',\n",
       " '\\n',\n",
       " 'I am an expert in the following areas:\\n',\n",
       " '1.\\tData collection\\n',\n",
       " '2.\\tData cleaning and manipulation\\n',\n",
       " '3.\\tData visualization\\n',\n",
       " '4.\\tDescriptive and exploratory data analysis\\n',\n",
       " '5.\\tHypothesis testing (parametric and non-parametric)\\n',\n",
       " '6.\\tProbability concepts\\n',\n",
       " '7.\\tRegression analysis\\n',\n",
       " '8.\\tTime series analysis\\n',\n",
       " '9.\\tPredictive modeling\\n',\n",
       " '\\n']"
      ]
     },
     "execution_count": 17,
     "metadata": {},
     "output_type": "execute_result"
    }
   ],
   "source": [
    "all_lines"
   ]
  },
  {
   "cell_type": "code",
   "execution_count": 19,
   "id": "c9c9575a",
   "metadata": {},
   "outputs": [
    {
     "ename": "NameError",
     "evalue": "name 'fileNotFoundError' is not defined",
     "output_type": "error",
     "traceback": [
      "\u001b[1;31m---------------------------------------------------------------------------\u001b[0m",
      "\u001b[1;31mNameError\u001b[0m                                 Traceback (most recent call last)",
      "Cell \u001b[1;32mIn[19], line 2\u001b[0m\n\u001b[0;32m      1\u001b[0m \u001b[38;5;28;01mtry\u001b[39;00m:\n\u001b[1;32m----> 2\u001b[0m     \u001b[38;5;28;01mwith\u001b[39;00m \u001b[38;5;28mopen\u001b[39m(\u001b[38;5;124m'\u001b[39m\u001b[38;5;124mgigs1.txt\u001b[39m\u001b[38;5;124m'\u001b[39m,r) \u001b[38;5;28;01mas\u001b[39;00m f:\n\u001b[0;32m      3\u001b[0m         all_lines\u001b[38;5;241m=\u001b[39mf\u001b[38;5;241m.\u001b[39mreadlines()\n",
      "\u001b[1;31mNameError\u001b[0m: name 'r' is not defined",
      "\nDuring handling of the above exception, another exception occurred:\n",
      "\u001b[1;31mNameError\u001b[0m                                 Traceback (most recent call last)",
      "Cell \u001b[1;32mIn[19], line 4\u001b[0m\n\u001b[0;32m      2\u001b[0m     \u001b[38;5;28;01mwith\u001b[39;00m \u001b[38;5;28mopen\u001b[39m(\u001b[38;5;124m'\u001b[39m\u001b[38;5;124mgigs1.txt\u001b[39m\u001b[38;5;124m'\u001b[39m,r) \u001b[38;5;28;01mas\u001b[39;00m f:\n\u001b[0;32m      3\u001b[0m         all_lines\u001b[38;5;241m=\u001b[39mf\u001b[38;5;241m.\u001b[39mreadlines()\n\u001b[1;32m----> 4\u001b[0m \u001b[38;5;28;01mexcept\u001b[39;00m fileNotFoundError:\n\u001b[0;32m      5\u001b[0m     \u001b[38;5;28mprint\u001b[39m(\u001b[38;5;124m'\u001b[39m\u001b[38;5;124mksdsakd\u001b[39m\u001b[38;5;124m'\u001b[39m)\n",
      "\u001b[1;31mNameError\u001b[0m: name 'fileNotFoundError' is not defined"
     ]
    }
   ],
   "source": [
    "try:\n",
    "    with open('gigs1.txt',r) as f:\n",
    "        all_lines=f.readlines()\n",
    "except fileNotFoundError:\n",
    "    print('ksdsakd')"
   ]
  },
  {
   "cell_type": "markdown",
   "id": "c7cfb483",
   "metadata": {},
   "source": [
    "# File Write"
   ]
  },
  {
   "cell_type": "code",
   "execution_count": 22,
   "id": "6b53d34a",
   "metadata": {},
   "outputs": [],
   "source": [
    "with open('gigs.txt','w') as f:\n",
    "    f.write(\"Ramxan mubarak!!!!\")"
   ]
  },
  {
   "cell_type": "code",
   "execution_count": 24,
   "id": "ac4f0aac",
   "metadata": {},
   "outputs": [
    {
     "name": "stdout",
     "output_type": "stream",
     "text": [
      "enter guest name or q to quitesaad\n",
      "enter guest name or q to quiteali\n",
      "enter guest name or q to quiteamir\n",
      "enter guest name or q to quiteq\n"
     ]
    }
   ],
   "source": [
    "with open('guest.txt','w') as f:\n",
    "    while True:\n",
    "        guest_name = input(\"enter guest name or q to quite\")\n",
    "        if guest_name==\"q\":\n",
    "            break\n",
    "        else:\n",
    "            f.write(guest_name+'\\n')"
   ]
  },
  {
   "cell_type": "code",
   "execution_count": 25,
   "id": "74796411",
   "metadata": {},
   "outputs": [
    {
     "name": "stdout",
     "output_type": "stream",
     "text": [
      "saad\n",
      "ali\n",
      "amir\n",
      "\n"
     ]
    }
   ],
   "source": [
    "with open('guest.txt')as f:\n",
    "    print(f.read())"
   ]
  },
  {
   "cell_type": "markdown",
   "id": "ac64a891",
   "metadata": {},
   "source": [
    "# Append Mode"
   ]
  },
  {
   "cell_type": "code",
   "execution_count": 26,
   "id": "765c7e49",
   "metadata": {},
   "outputs": [
    {
     "name": "stdout",
     "output_type": "stream",
     "text": [
      "enter guest name or q to quiteambani\n",
      "enter guest name or q to quiteali\n",
      "enter guest name or q to quiteaqib\n",
      "enter guest name or q to quiteq\n"
     ]
    }
   ],
   "source": [
    "with open('guest.txt','a') as f:\n",
    "    while True:\n",
    "        guest_name = input(\"enter guest name or q to quite\")\n",
    "        if guest_name==\"q\":\n",
    "            break\n",
    "        else:\n",
    "            f.write(guest_name+'\\n')"
   ]
  },
  {
   "cell_type": "code",
   "execution_count": 27,
   "id": "94d7f5d6",
   "metadata": {},
   "outputs": [
    {
     "name": "stdout",
     "output_type": "stream",
     "text": [
      "Enter guest name or 'q' to quit: ali\n",
      "Enter guest name or 'q' to quit: umar\n",
      "Enter guest name or 'q' to quit: aqib\n",
      "Enter guest name or 'q' to quit: q\n"
     ]
    }
   ],
   "source": [
    "# Open the file in append mode\n",
    "with open('guest.txt', 'a') as f:\n",
    "    count = 1\n",
    "    while True:\n",
    "        guest_name = input(\"Enter guest name or 'q' to quit: \")\n",
    "        if guest_name.lower() == \"q\":\n",
    "            break\n",
    "        else:\n",
    "            # Write the guest name with a number to the file\n",
    "            f.write(f\"{count}. {guest_name}\\n\")\n",
    "            count += 1\n"
   ]
  },
  {
   "cell_type": "code",
   "execution_count": 28,
   "id": "dcfdee37",
   "metadata": {},
   "outputs": [
    {
     "name": "stdout",
     "output_type": "stream",
     "text": [
      "saad\n",
      "ali\n",
      "amir\n",
      "ambani\n",
      "ali\n",
      "aqib\n",
      "1. ali\n",
      "2. umar\n",
      "3. aqib\n",
      "\n"
     ]
    }
   ],
   "source": [
    "with open('guest.txt')as f:\n",
    "    print(f.read())"
   ]
  },
  {
   "cell_type": "code",
   "execution_count": 29,
   "id": "b693bf43",
   "metadata": {},
   "outputs": [
    {
     "name": "stdout",
     "output_type": "stream",
     "text": [
      "Enter guest name or 'q' to quit: saad\n",
      "Enter guest name or 'q' to quit: shahbaz\n",
      "Enter guest name or 'q' to quit: umar\n",
      "Enter guest name or 'q' to quit: ali\n",
      "Enter guest name or 'q' to quit: q\n"
     ]
    }
   ],
   "source": [
    "# Open the file in append mode\n",
    "with open('guests.txt', 'a') as f:\n",
    "    count = 1\n",
    "    while True:\n",
    "        guest_name = input(\"Enter guest name or 'q' to quit: \")\n",
    "        if guest_name.lower() == \"q\":\n",
    "            break\n",
    "        else:\n",
    "            # Write the guest name with a number to the file\n",
    "            f.write(f\"{count}. {guest_name}\\n\")\n",
    "            count += 1\n"
   ]
  },
  {
   "cell_type": "code",
   "execution_count": 30,
   "id": "4d31a7a1",
   "metadata": {},
   "outputs": [
    {
     "name": "stdout",
     "output_type": "stream",
     "text": [
      "1. saad\n",
      "2. shahbaz\n",
      "3. umar\n",
      "4. ali\n",
      "\n"
     ]
    }
   ],
   "source": [
    "with open('guests.txt')as f:\n",
    "    print(f.read())"
   ]
  },
  {
   "cell_type": "code",
   "execution_count": 8,
   "id": "4de123cc",
   "metadata": {},
   "outputs": [
    {
     "name": "stdout",
     "output_type": "stream",
     "text": [
      "Ramxan mubarak!!!!\n"
     ]
    }
   ],
   "source": [
    "f= open('gigs.txt','r')\n",
    "print(f.read())\n",
    "        \n"
   ]
  },
  {
   "cell_type": "code",
   "execution_count": 9,
   "id": "4796aeff",
   "metadata": {},
   "outputs": [],
   "source": [
    "f.close()"
   ]
  },
  {
   "cell_type": "code",
   "execution_count": 12,
   "id": "4c4877ff",
   "metadata": {},
   "outputs": [
    {
     "name": "stdout",
     "output_type": "stream",
     "text": [
      "Ramxan mubarak!!!!\n"
     ]
    }
   ],
   "source": [
    "with open('gigs.txt','r') as f:\n",
    "    a=f.read()\n",
    "    print(a)\n",
    "\n"
   ]
  },
  {
   "cell_type": "code",
   "execution_count": 15,
   "id": "cbedde5c",
   "metadata": {},
   "outputs": [
    {
     "name": "stdout",
     "output_type": "stream",
     "text": [
      "Ramxan mubarak!!!!\n"
     ]
    }
   ],
   "source": [
    "with open('gigs.txt','r') as f:\n",
    "    a=f.read()\n",
    "    print(a)"
   ]
  },
  {
   "cell_type": "code",
   "execution_count": 24,
   "id": "42711090",
   "metadata": {},
   "outputs": [
    {
     "name": "stdout",
     "output_type": "stream",
     "text": [
      "Enter name or q to quite: saad\n",
      "Enter name or q to quite: amir\n",
      "Enter name or q to quite: q\n"
     ]
    }
   ],
   "source": [
    "with open('my.txt','w') as f:\n",
    "    while True:\n",
    "        a = input('Enter name or q to quite: ')\n",
    "        if a =='q':\n",
    "            break\n",
    "        else:\n",
    "            f.write(a+ '/n')"
   ]
  },
  {
   "cell_type": "code",
   "execution_count": 25,
   "id": "9c1b0909",
   "metadata": {},
   "outputs": [
    {
     "name": "stdout",
     "output_type": "stream",
     "text": [
      "saad/namir/n\n"
     ]
    }
   ],
   "source": [
    "with open ('my.txt','r') as f:\n",
    "    a=f.read()\n",
    "print(a)"
   ]
  },
  {
   "cell_type": "code",
   "execution_count": 28,
   "id": "d854ebe9",
   "metadata": {},
   "outputs": [
    {
     "name": "stdout",
     "output_type": "stream",
     "text": [
      "\"select  pID, pName, pPrice, CategoryID, c.catName from Products p inner join category c on c.catID = p.CategoryID \" +\n",
      "                \"where pName like '%\" + txtSearch.Text + \"%'\";\n"
     ]
    }
   ],
   "source": [
    "with open('quetta.txt','r') as f:\n",
    "    a=f.read()\n",
    "print(a)"
   ]
  },
  {
   "cell_type": "code",
   "execution_count": 31,
   "id": "860e29a2",
   "metadata": {},
   "outputs": [],
   "source": [
    "with open('quetta.txt','w') as f:\n",
    "    a=f.write('Imran khan')\n"
   ]
  },
  {
   "cell_type": "code",
   "execution_count": 32,
   "id": "845776b0",
   "metadata": {},
   "outputs": [
    {
     "name": "stdout",
     "output_type": "stream",
     "text": [
      "Imran khan\n"
     ]
    }
   ],
   "source": [
    "with open('quetta.txt','r') as f:\n",
    "    a=f.read()\n",
    "print(a)"
   ]
  },
  {
   "cell_type": "code",
   "execution_count": 33,
   "id": "95ab5e55",
   "metadata": {},
   "outputs": [
    {
     "name": "stdout",
     "output_type": "stream",
     "text": [
      "Enter name or q to quite: saad\n",
      "Enter name or q to quite: amir\n",
      "Enter name or q to quite: umar\n",
      "Enter name or q to quite: q\n"
     ]
    }
   ],
   "source": [
    "with open('quetta.txt','w') as f:\n",
    "    while True:\n",
    "        name = input(\"Enter name or q to quite: \")\n",
    "        if name=='q':\n",
    "            break\n",
    "        else:\n",
    "            f.write(name+'\\n')"
   ]
  },
  {
   "cell_type": "code",
   "execution_count": 34,
   "id": "8e092eda",
   "metadata": {},
   "outputs": [
    {
     "name": "stdout",
     "output_type": "stream",
     "text": [
      "saad\n",
      "amir\n",
      "umar\n",
      "\n"
     ]
    }
   ],
   "source": [
    "with open('quetta.txt','r') as f:\n",
    "    a=f.read()\n",
    "print(a)"
   ]
  },
  {
   "cell_type": "code",
   "execution_count": 47,
   "id": "d79a9e12",
   "metadata": {},
   "outputs": [],
   "source": [
    "with open('quetta.txt','w') as f:\n",
    "    for a in range(2,3):\n",
    "        for b in range(1,11):\n",
    "            f.write(f\"{a}*{b}={a*b} \\n\")\n",
    "    "
   ]
  },
  {
   "cell_type": "code",
   "execution_count": 48,
   "id": "f45d6ebe",
   "metadata": {},
   "outputs": [
    {
     "name": "stdout",
     "output_type": "stream",
     "text": [
      "2*1=2 \n",
      "2*2=4 \n",
      "2*3=6 \n",
      "2*4=8 \n",
      "2*5=10 \n",
      "2*6=12 \n",
      "2*7=14 \n",
      "2*8=16 \n",
      "2*9=18 \n",
      "2*10=20 \n",
      "\n"
     ]
    }
   ],
   "source": [
    "with open('quetta.txt') as f:\n",
    "    a=f.read()\n",
    "print(a)"
   ]
  },
  {
   "cell_type": "code",
   "execution_count": 1,
   "id": "b43240ab",
   "metadata": {},
   "outputs": [
    {
     "data": {
      "text/plain": [
       "'SMIT'"
      ]
     },
     "execution_count": 1,
     "metadata": {},
     "output_type": "execute_result"
    }
   ],
   "source": [
    "class Student:\n",
    "    college='SMIT'\n",
    "    def __init__(self,name,fname,roll,course,marks):\n",
    "        self.name=name\n",
    "        self.fname=fname\n",
    "        self.roll=roll\n",
    "        self.course=course\n",
    "        self.marks=marks\n",
    "    def entry(self):\n",
    "        print(f\"{self.name} are entering the class\")\n",
    "    def attend_class(self):\n",
    "        print(f\"{self.name} are attending {self.course} class\")\n",
    "    def profile(self):\n",
    "        print(f\"\"\"\n",
    "        Name : {self.name}\n",
    "        Fname:{self.fname}\n",
    "        RollNo:{self.roll}\n",
    "        Marks:{self.marks}\n",
    "        \n",
    "        \"\"\")\n",
    "obj=Student('Muhammad Saad','Naseem Khan',44,'Python',88)\n",
    "obj.college\n"
   ]
  },
  {
   "cell_type": "code",
   "execution_count": 2,
   "id": "f56323f0",
   "metadata": {},
   "outputs": [
    {
     "name": "stdout",
     "output_type": "stream",
     "text": [
      "\n",
      "        Name : Muhammad Saad\n",
      "        Fname:Naseem Khan\n",
      "        RollNo:44\n",
      "        Marks:88\n",
      "        \n",
      "        \n"
     ]
    }
   ],
   "source": [
    "obj.profile()"
   ]
  },
  {
   "cell_type": "code",
   "execution_count": 3,
   "id": "d43078bc",
   "metadata": {},
   "outputs": [
    {
     "data": {
      "text/plain": [
       "88"
      ]
     },
     "execution_count": 3,
     "metadata": {},
     "output_type": "execute_result"
    }
   ],
   "source": [
    "obj.marks"
   ]
  },
  {
   "cell_type": "code",
   "execution_count": 4,
   "id": "a8de79fb",
   "metadata": {},
   "outputs": [
    {
     "data": {
      "text/plain": [
       "'Naseem Khan'"
      ]
     },
     "execution_count": 4,
     "metadata": {},
     "output_type": "execute_result"
    }
   ],
   "source": [
    "obj.fname"
   ]
  },
  {
   "cell_type": "code",
   "execution_count": 5,
   "id": "bce459e2",
   "metadata": {},
   "outputs": [],
   "source": [
    "obj.name='Naeem'"
   ]
  },
  {
   "cell_type": "code",
   "execution_count": 6,
   "id": "eb36879f",
   "metadata": {},
   "outputs": [
    {
     "data": {
      "text/plain": [
       "'Naeem'"
      ]
     },
     "execution_count": 6,
     "metadata": {},
     "output_type": "execute_result"
    }
   ],
   "source": [
    "obj.name"
   ]
  },
  {
   "cell_type": "code",
   "execution_count": 3,
   "id": "cd12aeba",
   "metadata": {},
   "outputs": [],
   "source": [
    "student = [\"Ali\",\"Hashir\",\"Kamran\",\"Izhar\",\"shakeel\",\"umar\",\"Naseem\",\"Saad\",\"Taj wali\"]"
   ]
  },
  {
   "cell_type": "code",
   "execution_count": 4,
   "id": "f053b5db",
   "metadata": {},
   "outputs": [
    {
     "data": {
      "text/plain": [
       "'Izhar'"
      ]
     },
     "execution_count": 4,
     "metadata": {},
     "output_type": "execute_result"
    }
   ],
   "source": [
    "student[3]"
   ]
  },
  {
   "cell_type": "code",
   "execution_count": 5,
   "id": "b17312d7",
   "metadata": {},
   "outputs": [
    {
     "data": {
      "text/plain": [
       "'Taj wali'"
      ]
     },
     "execution_count": 5,
     "metadata": {},
     "output_type": "execute_result"
    }
   ],
   "source": [
    "student[-1]"
   ]
  },
  {
   "cell_type": "code",
   "execution_count": 7,
   "id": "33ae336d",
   "metadata": {},
   "outputs": [
    {
     "data": {
      "text/plain": [
       "'Taj wali'"
      ]
     },
     "execution_count": 7,
     "metadata": {},
     "output_type": "execute_result"
    }
   ],
   "source": [
    "student[8]"
   ]
  },
  {
   "cell_type": "code",
   "execution_count": 8,
   "id": "8bdb6c4b",
   "metadata": {},
   "outputs": [
    {
     "data": {
      "text/plain": [
       "'Saad'"
      ]
     },
     "execution_count": 8,
     "metadata": {},
     "output_type": "execute_result"
    }
   ],
   "source": [
    "student[-2]\n"
   ]
  },
  {
   "cell_type": "code",
   "execution_count": 9,
   "id": "5cf90a3e",
   "metadata": {},
   "outputs": [
    {
     "data": {
      "text/plain": [
       "['Ali',\n",
       " 'Hashir',\n",
       " 'Kamran',\n",
       " 'Izhar',\n",
       " 'shakeel',\n",
       " 'umar',\n",
       " 'Naseem',\n",
       " 'Saad',\n",
       " 'Taj wali']"
      ]
     },
     "execution_count": 9,
     "metadata": {},
     "output_type": "execute_result"
    }
   ],
   "source": [
    "student\n"
   ]
  },
  {
   "cell_type": "code",
   "execution_count": 10,
   "id": "c78bd420",
   "metadata": {},
   "outputs": [
    {
     "name": "stdout",
     "output_type": "stream",
     "text": [
      "['Ali', 'Hashir', 'Kamran', 'Izhar', 'shakeel', 'umar', 'Naseem', 'Saad', 'Taj wali']\n"
     ]
    }
   ],
   "source": [
    "print(student)"
   ]
  },
  {
   "cell_type": "code",
   "execution_count": 11,
   "id": "d9fb4886",
   "metadata": {},
   "outputs": [],
   "source": [
    "student.append(\"Asad\")"
   ]
  },
  {
   "cell_type": "code",
   "execution_count": 12,
   "id": "dbd1ed2e",
   "metadata": {},
   "outputs": [
    {
     "data": {
      "text/plain": [
       "['Ali',\n",
       " 'Hashir',\n",
       " 'Kamran',\n",
       " 'Izhar',\n",
       " 'shakeel',\n",
       " 'umar',\n",
       " 'Naseem',\n",
       " 'Saad',\n",
       " 'Taj wali',\n",
       " 'Asad']"
      ]
     },
     "execution_count": 12,
     "metadata": {},
     "output_type": "execute_result"
    }
   ],
   "source": [
    "student"
   ]
  },
  {
   "cell_type": "code",
   "execution_count": 14,
   "id": "46c79d37",
   "metadata": {},
   "outputs": [],
   "source": [
    "student.append([\"Akram\",\"Uzair\"])"
   ]
  },
  {
   "cell_type": "code",
   "execution_count": 15,
   "id": "53e81cd0",
   "metadata": {},
   "outputs": [
    {
     "data": {
      "text/plain": [
       "['Ali',\n",
       " 'Hashir',\n",
       " 'Kamran',\n",
       " 'Izhar',\n",
       " 'shakeel',\n",
       " 'umar',\n",
       " 'Naseem',\n",
       " 'Saad',\n",
       " 'Taj wali',\n",
       " 'Asad',\n",
       " ['Akram', 'Uzair']]"
      ]
     },
     "execution_count": 15,
     "metadata": {},
     "output_type": "execute_result"
    }
   ],
   "source": [
    "student"
   ]
  },
  {
   "cell_type": "code",
   "execution_count": 16,
   "id": "2cf73692",
   "metadata": {},
   "outputs": [
    {
     "name": "stdout",
     "output_type": "stream",
     "text": [
      "['Ali', 'Hashir', 'Kamran', 'Izhar', 'shakeel', 'umar', 'Naseem', 'Saad', 'Taj wali', 'Asad', ['Akram', 'Uzair']]\n"
     ]
    }
   ],
   "source": [
    "print(student)"
   ]
  },
  {
   "cell_type": "code",
   "execution_count": 18,
   "id": "ebad2a5d",
   "metadata": {},
   "outputs": [],
   "source": [
    "student.extend([\"azhar\",\"sauad\"])"
   ]
  },
  {
   "cell_type": "code",
   "execution_count": 19,
   "id": "77910ce1",
   "metadata": {},
   "outputs": [
    {
     "name": "stdout",
     "output_type": "stream",
     "text": [
      "['Ali', 'Hashir', 'Kamran', 'Izhar', 'shakeel', 'umar', 'Naseem', 'Saad', 'Taj wali', 'Asad', ['Akram', 'Uzair'], 'azhar', 'sauad']\n"
     ]
    }
   ],
   "source": [
    "print(student)"
   ]
  },
  {
   "cell_type": "code",
   "execution_count": 20,
   "id": "56bb240d",
   "metadata": {},
   "outputs": [],
   "source": [
    "student.append(\"Azmat\")"
   ]
  },
  {
   "cell_type": "code",
   "execution_count": 21,
   "id": "dd704d16",
   "metadata": {},
   "outputs": [
    {
     "name": "stdout",
     "output_type": "stream",
     "text": [
      "['Ali', 'Hashir', 'Kamran', 'Izhar', 'shakeel', 'umar', 'Naseem', 'Saad', 'Taj wali', 'Asad', ['Akram', 'Uzair'], 'azhar', 'sauad', 'Azmat']\n"
     ]
    }
   ],
   "source": [
    "print(student)"
   ]
  },
  {
   "cell_type": "code",
   "execution_count": 24,
   "id": "b1941f6e",
   "metadata": {},
   "outputs": [],
   "source": [
    "student.extend([\"Arshad\"])"
   ]
  },
  {
   "cell_type": "code",
   "execution_count": 25,
   "id": "91eb7f6b",
   "metadata": {},
   "outputs": [
    {
     "name": "stdout",
     "output_type": "stream",
     "text": [
      "['Ali', 'Hashir', 'Kamran', 'Izhar', 'shakeel', 'umar', 'Naseem', 'Saad', 'Taj wali', 'Asad', ['Akram', 'Uzair'], 'azhar', 'sauad', 'Azmat', 'A', 'r', 's', 'h', 'a', 'd', 'Arshad']\n"
     ]
    }
   ],
   "source": [
    "print(student)"
   ]
  },
  {
   "cell_type": "code",
   "execution_count": 27,
   "id": "1f764778",
   "metadata": {},
   "outputs": [
    {
     "data": {
      "text/plain": [
       "'r'"
      ]
     },
     "execution_count": 27,
     "metadata": {},
     "output_type": "execute_result"
    }
   ],
   "source": [
    "student[15]"
   ]
  },
  {
   "cell_type": "code",
   "execution_count": 35,
   "id": "fa0d1367",
   "metadata": {},
   "outputs": [],
   "source": [
    "student.insert(1,\"Isamil\")"
   ]
  },
  {
   "cell_type": "code",
   "execution_count": 37,
   "id": "cbbcb70f",
   "metadata": {},
   "outputs": [
    {
     "name": "stdout",
     "output_type": "stream",
     "text": [
      "['Ali', 'Isamil', 'Hashir', 'Hashir', 'Kamran', 'Izhar', 'shakeel', 'umar', 'Naseem', 'Saad', 'Taj wali', 'Asad', ['Akram', 'Uzair'], 'azhar', 'sauad', 'Azmat', 'A', 'r', 's', 'h', 'a', 'd', 'Arshad']\n"
     ]
    }
   ],
   "source": [
    "print(student)"
   ]
  },
  {
   "cell_type": "code",
   "execution_count": 39,
   "id": "c678926a",
   "metadata": {},
   "outputs": [],
   "source": [
    "del  student[0]"
   ]
  },
  {
   "cell_type": "code",
   "execution_count": 40,
   "id": "0f4d77e1",
   "metadata": {},
   "outputs": [
    {
     "name": "stdout",
     "output_type": "stream",
     "text": [
      "['Isamil', 'Hashir', 'Hashir', 'Kamran', 'Izhar', 'shakeel', 'umar', 'Naseem', 'Saad', 'Taj wali', 'Asad', ['Akram', 'Uzair'], 'azhar', 'sauad', 'Azmat', 'A', 'r', 's', 'h', 'a', 'd', 'Arshad']\n"
     ]
    }
   ],
   "source": [
    "print(student)"
   ]
  },
  {
   "cell_type": "code",
   "execution_count": 41,
   "id": "80742f44",
   "metadata": {},
   "outputs": [],
   "source": [
    "student.remove(\"sauad\")"
   ]
  },
  {
   "cell_type": "code",
   "execution_count": 42,
   "id": "de9e330e",
   "metadata": {},
   "outputs": [
    {
     "name": "stdout",
     "output_type": "stream",
     "text": [
      "['Isamil', 'Hashir', 'Hashir', 'Kamran', 'Izhar', 'shakeel', 'umar', 'Naseem', 'Saad', 'Taj wali', 'Asad', ['Akram', 'Uzair'], 'azhar', 'Azmat', 'A', 'r', 's', 'h', 'a', 'd', 'Arshad']\n"
     ]
    }
   ],
   "source": [
    "print(student)"
   ]
  },
  {
   "cell_type": "code",
   "execution_count": 43,
   "id": "cdc1a8c5",
   "metadata": {},
   "outputs": [
    {
     "data": {
      "text/plain": [
       "'Arshad'"
      ]
     },
     "execution_count": 43,
     "metadata": {},
     "output_type": "execute_result"
    }
   ],
   "source": [
    "student.pop()"
   ]
  },
  {
   "cell_type": "code",
   "execution_count": 44,
   "id": "d381cc8d",
   "metadata": {},
   "outputs": [
    {
     "data": {
      "text/plain": [
       "['Isamil',\n",
       " 'Hashir',\n",
       " 'Hashir',\n",
       " 'Kamran',\n",
       " 'Izhar',\n",
       " 'shakeel',\n",
       " 'umar',\n",
       " 'Naseem',\n",
       " 'Saad',\n",
       " 'Taj wali',\n",
       " 'Asad',\n",
       " ['Akram', 'Uzair'],\n",
       " 'azhar',\n",
       " 'Azmat',\n",
       " 'A',\n",
       " 'r',\n",
       " 's',\n",
       " 'h',\n",
       " 'a',\n",
       " 'd']"
      ]
     },
     "execution_count": 44,
     "metadata": {},
     "output_type": "execute_result"
    }
   ],
   "source": [
    "student"
   ]
  },
  {
   "cell_type": "code",
   "execution_count": 45,
   "id": "7aabaea0",
   "metadata": {},
   "outputs": [],
   "source": [
    "student[7]=\"Naeem\""
   ]
  },
  {
   "cell_type": "code",
   "execution_count": 47,
   "id": "fff9af7e",
   "metadata": {},
   "outputs": [
    {
     "name": "stdout",
     "output_type": "stream",
     "text": [
      "['Isamil', 'Hashir', 'Hashir', 'Kamran', 'Izhar', 'shakeel', 'umar', 'Naeem', 'Saad', 'Taj wali', 'Asad', ['Akram', 'Uzair'], 'azhar', 'Azmat', 'A', 'r', 's', 'h', 'a', 'd']\n"
     ]
    }
   ],
   "source": [
    "print(student)"
   ]
  },
  {
   "cell_type": "code",
   "execution_count": 48,
   "id": "41bcb1b9",
   "metadata": {},
   "outputs": [],
   "source": [
    "student[student.index(\"Saad\")]=\"Ali\""
   ]
  },
  {
   "cell_type": "code",
   "execution_count": 49,
   "id": "c7a18e5a",
   "metadata": {},
   "outputs": [
    {
     "name": "stdout",
     "output_type": "stream",
     "text": [
      "['Isamil', 'Hashir', 'Hashir', 'Kamran', 'Izhar', 'shakeel', 'umar', 'Naeem', 'Ali', 'Taj wali', 'Asad', ['Akram', 'Uzair'], 'azhar', 'Azmat', 'A', 'r', 's', 'h', 'a', 'd']\n"
     ]
    }
   ],
   "source": [
    "print(student)"
   ]
  },
  {
   "cell_type": "code",
   "execution_count": 50,
   "id": "11ac2bf7",
   "metadata": {},
   "outputs": [],
   "source": [
    "student[student.index(\"Kamran\")]=\"Mustaq\""
   ]
  },
  {
   "cell_type": "code",
   "execution_count": 51,
   "id": "cc1b3be3",
   "metadata": {},
   "outputs": [
    {
     "name": "stdout",
     "output_type": "stream",
     "text": [
      "['Isamil', 'Hashir', 'Hashir', 'Mustaq', 'Izhar', 'shakeel', 'umar', 'Naeem', 'Ali', 'Taj wali', 'Asad', ['Akram', 'Uzair'], 'azhar', 'Azmat', 'A', 'r', 's', 'h', 'a', 'd']\n"
     ]
    }
   ],
   "source": [
    "print(student\n",
    "     )"
   ]
  },
  {
   "cell_type": "code",
   "execution_count": 52,
   "id": "e83959c6",
   "metadata": {},
   "outputs": [
    {
     "ename": "TypeError",
     "evalue": "list indices must be integers or slices, not tuple",
     "output_type": "error",
     "traceback": [
      "\u001b[1;31m---------------------------------------------------------------------------\u001b[0m",
      "\u001b[1;31mTypeError\u001b[0m                                 Traceback (most recent call last)",
      "Cell \u001b[1;32mIn[52], line 1\u001b[0m\n\u001b[1;32m----> 1\u001b[0m student[student[\u001b[38;5;124m'\u001b[39m\u001b[38;5;124mHashir\u001b[39m\u001b[38;5;124m'\u001b[39m,\u001b[38;5;124m\"\u001b[39m\u001b[38;5;124mIzhar\u001b[39m\u001b[38;5;124m\"\u001b[39m]]\u001b[38;5;241m=\u001b[39m\u001b[38;5;124m\"\u001b[39m\u001b[38;5;124mAmal\u001b[39m\u001b[38;5;124m\"\u001b[39m,\u001b[38;5;124m\"\u001b[39m\u001b[38;5;124mumar\u001b[39m\u001b[38;5;124m\"\u001b[39m\n",
      "\u001b[1;31mTypeError\u001b[0m: list indices must be integers or slices, not tuple"
     ]
    }
   ],
   "source": [
    "student[student['Hashir',\"Izhar\"]]=\"Amal\",\"umar\""
   ]
  },
  {
   "cell_type": "code",
   "execution_count": 53,
   "id": "427b32cc",
   "metadata": {},
   "outputs": [],
   "source": [
    "student.append([\"Saad\",\"sadsa\",\"ahsdy\"])"
   ]
  },
  {
   "cell_type": "code",
   "execution_count": 54,
   "id": "d4d71f10",
   "metadata": {},
   "outputs": [
    {
     "data": {
      "text/plain": [
       "['Isamil',\n",
       " 'Hashir',\n",
       " 'Hashir',\n",
       " 'Mustaq',\n",
       " 'Izhar',\n",
       " 'shakeel',\n",
       " 'umar',\n",
       " 'Naeem',\n",
       " 'Ali',\n",
       " 'Taj wali',\n",
       " 'Asad',\n",
       " ['Akram', 'Uzair'],\n",
       " 'azhar',\n",
       " 'Azmat',\n",
       " 'A',\n",
       " 'r',\n",
       " 's',\n",
       " 'h',\n",
       " 'a',\n",
       " 'd',\n",
       " ['Saad', 'sadsa', 'ahsdy']]"
      ]
     },
     "execution_count": 54,
     "metadata": {},
     "output_type": "execute_result"
    }
   ],
   "source": [
    "student"
   ]
  },
  {
   "cell_type": "code",
   "execution_count": 55,
   "id": "20dc3fe9",
   "metadata": {},
   "outputs": [],
   "source": [
    "student.extend([\"sda\",'saada'])"
   ]
  },
  {
   "cell_type": "code",
   "execution_count": 56,
   "id": "b4ea8626",
   "metadata": {},
   "outputs": [
    {
     "data": {
      "text/plain": [
       "['Isamil',\n",
       " 'Hashir',\n",
       " 'Hashir',\n",
       " 'Mustaq',\n",
       " 'Izhar',\n",
       " 'shakeel',\n",
       " 'umar',\n",
       " 'Naeem',\n",
       " 'Ali',\n",
       " 'Taj wali',\n",
       " 'Asad',\n",
       " ['Akram', 'Uzair'],\n",
       " 'azhar',\n",
       " 'Azmat',\n",
       " 'A',\n",
       " 'r',\n",
       " 's',\n",
       " 'h',\n",
       " 'a',\n",
       " 'd',\n",
       " ['Saad', 'sadsa', 'ahsdy'],\n",
       " 'sda',\n",
       " 'saada']"
      ]
     },
     "execution_count": 56,
     "metadata": {},
     "output_type": "execute_result"
    }
   ],
   "source": [
    "student"
   ]
  },
  {
   "cell_type": "code",
   "execution_count": 57,
   "id": "7ba05d3f",
   "metadata": {},
   "outputs": [
    {
     "data": {
      "text/plain": [
       "'saada'"
      ]
     },
     "execution_count": 57,
     "metadata": {},
     "output_type": "execute_result"
    }
   ],
   "source": [
    "student.pop()"
   ]
  },
  {
   "cell_type": "code",
   "execution_count": 58,
   "id": "62a688c9",
   "metadata": {},
   "outputs": [
    {
     "data": {
      "text/plain": [
       "'sda'"
      ]
     },
     "execution_count": 58,
     "metadata": {},
     "output_type": "execute_result"
    }
   ],
   "source": [
    "student.pop()\n"
   ]
  },
  {
   "cell_type": "code",
   "execution_count": 59,
   "id": "134e4f30",
   "metadata": {},
   "outputs": [
    {
     "data": {
      "text/plain": [
       "['Saad', 'sadsa', 'ahsdy']"
      ]
     },
     "execution_count": 59,
     "metadata": {},
     "output_type": "execute_result"
    }
   ],
   "source": [
    "student.pop()"
   ]
  },
  {
   "cell_type": "code",
   "execution_count": 60,
   "id": "e19833c2",
   "metadata": {},
   "outputs": [
    {
     "data": {
      "text/plain": [
       "'d'"
      ]
     },
     "execution_count": 60,
     "metadata": {},
     "output_type": "execute_result"
    }
   ],
   "source": [
    "student.pop()"
   ]
  },
  {
   "cell_type": "code",
   "execution_count": 61,
   "id": "772b29a5",
   "metadata": {},
   "outputs": [
    {
     "data": {
      "text/plain": [
       "'a'"
      ]
     },
     "execution_count": 61,
     "metadata": {},
     "output_type": "execute_result"
    }
   ],
   "source": [
    "student.pop()"
   ]
  },
  {
   "cell_type": "code",
   "execution_count": 63,
   "id": "39d96db0",
   "metadata": {},
   "outputs": [
    {
     "data": {
      "text/plain": [
       "'h'"
      ]
     },
     "execution_count": 63,
     "metadata": {},
     "output_type": "execute_result"
    }
   ],
   "source": [
    "student.pop()"
   ]
  },
  {
   "cell_type": "code",
   "execution_count": 64,
   "id": "c534081b",
   "metadata": {},
   "outputs": [
    {
     "data": {
      "text/plain": [
       "'s'"
      ]
     },
     "execution_count": 64,
     "metadata": {},
     "output_type": "execute_result"
    }
   ],
   "source": [
    "student.pop()"
   ]
  },
  {
   "cell_type": "code",
   "execution_count": 65,
   "id": "d05ed8be",
   "metadata": {},
   "outputs": [
    {
     "data": {
      "text/plain": [
       "'r'"
      ]
     },
     "execution_count": 65,
     "metadata": {},
     "output_type": "execute_result"
    }
   ],
   "source": [
    "student.pop()"
   ]
  },
  {
   "cell_type": "code",
   "execution_count": 66,
   "id": "92ab2b73",
   "metadata": {},
   "outputs": [
    {
     "data": {
      "text/plain": [
       "'A'"
      ]
     },
     "execution_count": 66,
     "metadata": {},
     "output_type": "execute_result"
    }
   ],
   "source": [
    "student.pop()"
   ]
  },
  {
   "cell_type": "code",
   "execution_count": 67,
   "id": "d4ddab04",
   "metadata": {},
   "outputs": [
    {
     "data": {
      "text/plain": [
       "['Isamil',\n",
       " 'Hashir',\n",
       " 'Hashir',\n",
       " 'Mustaq',\n",
       " 'Izhar',\n",
       " 'shakeel',\n",
       " 'umar',\n",
       " 'Naeem',\n",
       " 'Ali',\n",
       " 'Taj wali',\n",
       " 'Asad',\n",
       " ['Akram', 'Uzair'],\n",
       " 'azhar',\n",
       " 'Azmat']"
      ]
     },
     "execution_count": 67,
     "metadata": {},
     "output_type": "execute_result"
    }
   ],
   "source": [
    "student"
   ]
  },
  {
   "cell_type": "code",
   "execution_count": 68,
   "id": "ca87ef5d",
   "metadata": {},
   "outputs": [],
   "source": [
    "student[student.index(\"Taj wali\")]='Sheharyar'"
   ]
  },
  {
   "cell_type": "code",
   "execution_count": 69,
   "id": "6a58cccc",
   "metadata": {},
   "outputs": [
    {
     "data": {
      "text/plain": [
       "['Isamil',\n",
       " 'Hashir',\n",
       " 'Hashir',\n",
       " 'Mustaq',\n",
       " 'Izhar',\n",
       " 'shakeel',\n",
       " 'umar',\n",
       " 'Naeem',\n",
       " 'Ali',\n",
       " 'Sheharyar',\n",
       " 'Asad',\n",
       " ['Akram', 'Uzair'],\n",
       " 'azhar',\n",
       " 'Azmat']"
      ]
     },
     "execution_count": 69,
     "metadata": {},
     "output_type": "execute_result"
    }
   ],
   "source": [
    "student"
   ]
  },
  {
   "cell_type": "code",
   "execution_count": 71,
   "id": "991294a8",
   "metadata": {},
   "outputs": [],
   "source": [
    "student[0]=\"Saad\""
   ]
  },
  {
   "cell_type": "code",
   "execution_count": 72,
   "id": "56589988",
   "metadata": {},
   "outputs": [
    {
     "data": {
      "text/plain": [
       "['Saad',\n",
       " 'Hashir',\n",
       " 'Hashir',\n",
       " 'Mustaq',\n",
       " 'Izhar',\n",
       " 'shakeel',\n",
       " 'umar',\n",
       " 'Naeem',\n",
       " 'Ali',\n",
       " 'Sheharyar',\n",
       " 'Asad',\n",
       " ['Akram', 'Uzair'],\n",
       " 'azhar',\n",
       " 'Azmat']"
      ]
     },
     "execution_count": 72,
     "metadata": {},
     "output_type": "execute_result"
    }
   ],
   "source": [
    "student"
   ]
  },
  {
   "cell_type": "code",
   "execution_count": 73,
   "id": "1df91f54",
   "metadata": {},
   "outputs": [],
   "source": [
    "oldstudent=student"
   ]
  },
  {
   "cell_type": "code",
   "execution_count": 75,
   "id": "9fbddda3",
   "metadata": {},
   "outputs": [
    {
     "data": {
      "text/plain": [
       "['Saad',\n",
       " 'Hashir',\n",
       " 'Hashir',\n",
       " 'Mustaq',\n",
       " 'Izhar',\n",
       " 'shakeel',\n",
       " 'umar',\n",
       " 'Naeem',\n",
       " 'Ali',\n",
       " 'Sheharyar',\n",
       " 'Asad',\n",
       " ['Akram', 'Uzair'],\n",
       " 'azhar',\n",
       " 'Azmat']"
      ]
     },
     "execution_count": 75,
     "metadata": {},
     "output_type": "execute_result"
    }
   ],
   "source": [
    "oldstudent\n",
    "\n"
   ]
  },
  {
   "cell_type": "code",
   "execution_count": 80,
   "id": "db5531fa",
   "metadata": {},
   "outputs": [
    {
     "ename": "SyntaxError",
     "evalue": "cannot delete function call (1667240831.py, line 1)",
     "output_type": "error",
     "traceback": [
      "\u001b[1;36m  Cell \u001b[1;32mIn[80], line 1\u001b[1;36m\u001b[0m\n\u001b[1;33m    del student('Saad')\u001b[0m\n\u001b[1;37m        ^\u001b[0m\n\u001b[1;31mSyntaxError\u001b[0m\u001b[1;31m:\u001b[0m cannot delete function call\n"
     ]
    }
   ],
   "source": [
    "del student('Saad')"
   ]
  },
  {
   "cell_type": "code",
   "execution_count": 77,
   "id": "a6824770",
   "metadata": {},
   "outputs": [
    {
     "data": {
      "text/plain": [
       "['Saad',\n",
       " 'Hashir',\n",
       " 'Hashir',\n",
       " 'Izhar',\n",
       " 'shakeel',\n",
       " 'umar',\n",
       " 'Naeem',\n",
       " 'Ali',\n",
       " 'Sheharyar',\n",
       " 'Asad',\n",
       " ['Akram', 'Uzair'],\n",
       " 'azhar',\n",
       " 'Azmat']"
      ]
     },
     "execution_count": 77,
     "metadata": {},
     "output_type": "execute_result"
    }
   ],
   "source": [
    "student"
   ]
  },
  {
   "cell_type": "code",
   "execution_count": 81,
   "id": "2b7d8e66",
   "metadata": {},
   "outputs": [],
   "source": [
    "student.remove('Azmat')"
   ]
  },
  {
   "cell_type": "code",
   "execution_count": 82,
   "id": "47479dbd",
   "metadata": {},
   "outputs": [
    {
     "data": {
      "text/plain": [
       "['Saad',\n",
       " 'Hashir',\n",
       " 'Hashir',\n",
       " 'Izhar',\n",
       " 'shakeel',\n",
       " 'umar',\n",
       " 'Naeem',\n",
       " 'Ali',\n",
       " 'Sheharyar',\n",
       " 'Asad',\n",
       " ['Akram', 'Uzair'],\n",
       " 'azhar']"
      ]
     },
     "execution_count": 82,
     "metadata": {},
     "output_type": "execute_result"
    }
   ],
   "source": [
    "student"
   ]
  },
  {
   "cell_type": "code",
   "execution_count": 88,
   "id": "13e4a629",
   "metadata": {},
   "outputs": [
    {
     "name": "stdout",
     "output_type": "stream",
     "text": [
      "<class 'list'>\n"
     ]
    }
   ],
   "source": [
    "print(type(student))"
   ]
  },
  {
   "cell_type": "code",
   "execution_count": 89,
   "id": "9cea250e",
   "metadata": {},
   "outputs": [
    {
     "data": {
      "text/plain": [
       "['Saad',\n",
       " 'Hashir',\n",
       " 'Hashir',\n",
       " 'Izhar',\n",
       " 'shakeel',\n",
       " 'umar',\n",
       " 'Naeem',\n",
       " 'Ali',\n",
       " 'Sheharyar',\n",
       " 'Asad',\n",
       " ['Akram', 'Uzair'],\n",
       " 'azhar']"
      ]
     },
     "execution_count": 89,
     "metadata": {},
     "output_type": "execute_result"
    }
   ],
   "source": [
    "oldstudent"
   ]
  },
  {
   "cell_type": "code",
   "execution_count": 90,
   "id": "27f6d675",
   "metadata": {},
   "outputs": [],
   "source": [
    "oldstudent.append('Asad')"
   ]
  },
  {
   "cell_type": "code",
   "execution_count": 91,
   "id": "6593bd7c",
   "metadata": {},
   "outputs": [
    {
     "data": {
      "text/plain": [
       "['Saad',\n",
       " 'Hashir',\n",
       " 'Hashir',\n",
       " 'Izhar',\n",
       " 'shakeel',\n",
       " 'umar',\n",
       " 'Naeem',\n",
       " 'Ali',\n",
       " 'Sheharyar',\n",
       " 'Asad',\n",
       " ['Akram', 'Uzair'],\n",
       " 'azhar',\n",
       " 'Asad']"
      ]
     },
     "execution_count": 91,
     "metadata": {},
     "output_type": "execute_result"
    }
   ],
   "source": [
    "oldstudent"
   ]
  },
  {
   "cell_type": "code",
   "execution_count": 92,
   "id": "14b20007",
   "metadata": {},
   "outputs": [],
   "source": [
    "del student[10]"
   ]
  },
  {
   "cell_type": "code",
   "execution_count": 93,
   "id": "2b402804",
   "metadata": {},
   "outputs": [
    {
     "data": {
      "text/plain": [
       "['Saad',\n",
       " 'Hashir',\n",
       " 'Hashir',\n",
       " 'Izhar',\n",
       " 'shakeel',\n",
       " 'umar',\n",
       " 'Naeem',\n",
       " 'Ali',\n",
       " 'Sheharyar',\n",
       " 'Asad',\n",
       " 'azhar',\n",
       " 'Asad']"
      ]
     },
     "execution_count": 93,
     "metadata": {},
     "output_type": "execute_result"
    }
   ],
   "source": [
    "student\n"
   ]
  },
  {
   "cell_type": "code",
   "execution_count": 95,
   "id": "1d6f3523",
   "metadata": {},
   "outputs": [
    {
     "data": {
      "text/plain": [
       "True"
      ]
     },
     "execution_count": 95,
     "metadata": {},
     "output_type": "execute_result"
    }
   ],
   "source": [
    "\"Asad\" in student"
   ]
  },
  {
   "cell_type": "code",
   "execution_count": 96,
   "id": "ec6b3c76",
   "metadata": {},
   "outputs": [
    {
     "data": {
      "text/plain": [
       "False"
      ]
     },
     "execution_count": 96,
     "metadata": {},
     "output_type": "execute_result"
    }
   ],
   "source": [
    "'kaksdad' in student"
   ]
  },
  {
   "cell_type": "code",
   "execution_count": 98,
   "id": "e1e9939c",
   "metadata": {},
   "outputs": [
    {
     "data": {
      "text/plain": [
       "2270169478336"
      ]
     },
     "execution_count": 98,
     "metadata": {},
     "output_type": "execute_result"
    }
   ],
   "source": [
    "id(student)"
   ]
  },
  {
   "cell_type": "code",
   "execution_count": 1,
   "id": "90a4c3b5",
   "metadata": {},
   "outputs": [],
   "source": [
    "lst = [\"Umar\",\"Arshad\",\"Taj wali\",\"Saqib\",\"Hamad\",\"Ali\",\"Azmat\",\"Shehryar\",\"Wahab\"]"
   ]
  },
  {
   "cell_type": "code",
   "execution_count": 2,
   "id": "658551ba",
   "metadata": {},
   "outputs": [
    {
     "data": {
      "text/plain": [
       "'Arshad'"
      ]
     },
     "execution_count": 2,
     "metadata": {},
     "output_type": "execute_result"
    }
   ],
   "source": [
    "lst[1]"
   ]
  },
  {
   "cell_type": "code",
   "execution_count": 3,
   "id": "2d9c3eb9",
   "metadata": {},
   "outputs": [],
   "source": [
    "lst[1]=\"Asif\""
   ]
  },
  {
   "cell_type": "code",
   "execution_count": 4,
   "id": "712c9ad5",
   "metadata": {},
   "outputs": [
    {
     "data": {
      "text/plain": [
       "['Umar',\n",
       " 'Asif',\n",
       " 'Taj wali',\n",
       " 'Saqib',\n",
       " 'Hamad',\n",
       " 'Ali',\n",
       " 'Azmat',\n",
       " 'Shehryar',\n",
       " 'Wahab']"
      ]
     },
     "execution_count": 4,
     "metadata": {},
     "output_type": "execute_result"
    }
   ],
   "source": [
    "lst"
   ]
  },
  {
   "cell_type": "code",
   "execution_count": 5,
   "id": "e7147637",
   "metadata": {},
   "outputs": [
    {
     "name": "stdout",
     "output_type": "stream",
     "text": [
      "['Umar', 'Asif', 'Taj wali', 'Saqib', 'Hamad', 'Ali', 'Azmat', 'Shehryar', 'Wahab']\n"
     ]
    }
   ],
   "source": [
    "print(lst)"
   ]
  },
  {
   "cell_type": "code",
   "execution_count": 10,
   "id": "9d190470",
   "metadata": {},
   "outputs": [],
   "source": [
    "lst[lst.index(\"Taj wali\")]=\"Murad\""
   ]
  },
  {
   "cell_type": "code",
   "execution_count": 11,
   "id": "aa487ed7",
   "metadata": {},
   "outputs": [
    {
     "name": "stdout",
     "output_type": "stream",
     "text": [
      "['Umar', 'Asif', 'Murad', 'Saqib', 'Hamad', 'Ali', 'Azmat', 'Shehryar', 'Wahab']\n"
     ]
    }
   ],
   "source": [
    "print(lst)"
   ]
  },
  {
   "cell_type": "code",
   "execution_count": 12,
   "id": "9e93ec84",
   "metadata": {},
   "outputs": [],
   "source": [
    "lst.append(\"Akbar\")"
   ]
  },
  {
   "cell_type": "code",
   "execution_count": 13,
   "id": "59644c28",
   "metadata": {},
   "outputs": [
    {
     "name": "stdout",
     "output_type": "stream",
     "text": [
      "['Umar', 'Asif', 'Murad', 'Saqib', 'Hamad', 'Ali', 'Azmat', 'Shehryar', 'Wahab', 'Akbar']\n"
     ]
    }
   ],
   "source": [
    "print(lst)"
   ]
  },
  {
   "cell_type": "code",
   "execution_count": 14,
   "id": "bef5fb27",
   "metadata": {},
   "outputs": [],
   "source": [
    "lst.append([\"Ashraf\",\"Abdullah\"])"
   ]
  },
  {
   "cell_type": "code",
   "execution_count": 15,
   "id": "6c25f14c",
   "metadata": {},
   "outputs": [
    {
     "name": "stdout",
     "output_type": "stream",
     "text": [
      "['Umar', 'Asif', 'Murad', 'Saqib', 'Hamad', 'Ali', 'Azmat', 'Shehryar', 'Wahab', 'Akbar', ['Ashraf', 'Abdullah']]\n"
     ]
    }
   ],
   "source": [
    "print(lst)"
   ]
  },
  {
   "cell_type": "code",
   "execution_count": 16,
   "id": "24134dc0",
   "metadata": {},
   "outputs": [],
   "source": [
    "lst.extend([\"Ahmad\",\"Hashir\",\"Bilal\"])"
   ]
  },
  {
   "cell_type": "code",
   "execution_count": 17,
   "id": "4d7b7ca5",
   "metadata": {},
   "outputs": [
    {
     "name": "stdout",
     "output_type": "stream",
     "text": [
      "['Umar', 'Asif', 'Murad', 'Saqib', 'Hamad', 'Ali', 'Azmat', 'Shehryar', 'Wahab', 'Akbar', ['Ashraf', 'Abdullah'], 'Ahmad', 'Hashir', 'Bilal']\n"
     ]
    }
   ],
   "source": [
    "print(lst)"
   ]
  },
  {
   "cell_type": "code",
   "execution_count": 18,
   "id": "6cca4567",
   "metadata": {},
   "outputs": [],
   "source": [
    "del lst[10]"
   ]
  },
  {
   "cell_type": "code",
   "execution_count": 19,
   "id": "b8e4261d",
   "metadata": {},
   "outputs": [
    {
     "name": "stdout",
     "output_type": "stream",
     "text": [
      "['Umar', 'Asif', 'Murad', 'Saqib', 'Hamad', 'Ali', 'Azmat', 'Shehryar', 'Wahab', 'Akbar', 'Ahmad', 'Hashir', 'Bilal']\n"
     ]
    }
   ],
   "source": [
    "print(lst)"
   ]
  },
  {
   "cell_type": "code",
   "execution_count": 20,
   "id": "4a86d96c",
   "metadata": {},
   "outputs": [],
   "source": [
    "lst.remove(\"Akbar\")"
   ]
  },
  {
   "cell_type": "code",
   "execution_count": 21,
   "id": "e02333bc",
   "metadata": {},
   "outputs": [
    {
     "name": "stdout",
     "output_type": "stream",
     "text": [
      "['Umar', 'Asif', 'Murad', 'Saqib', 'Hamad', 'Ali', 'Azmat', 'Shehryar', 'Wahab', 'Ahmad', 'Hashir', 'Bilal']\n"
     ]
    }
   ],
   "source": [
    "print(lst)"
   ]
  },
  {
   "cell_type": "code",
   "execution_count": 22,
   "id": "caebf06f",
   "metadata": {},
   "outputs": [
    {
     "data": {
      "text/plain": [
       "'Bilal'"
      ]
     },
     "execution_count": 22,
     "metadata": {},
     "output_type": "execute_result"
    }
   ],
   "source": [
    "lst.pop()"
   ]
  },
  {
   "cell_type": "code",
   "execution_count": 23,
   "id": "23e184d7",
   "metadata": {},
   "outputs": [],
   "source": [
    "lst.sort()"
   ]
  },
  {
   "cell_type": "code",
   "execution_count": 24,
   "id": "0550084b",
   "metadata": {},
   "outputs": [
    {
     "name": "stdout",
     "output_type": "stream",
     "text": [
      "['Ahmad', 'Ali', 'Asif', 'Azmat', 'Hamad', 'Hashir', 'Murad', 'Saqib', 'Shehryar', 'Umar', 'Wahab']\n"
     ]
    }
   ],
   "source": [
    "print(lst)"
   ]
  },
  {
   "cell_type": "code",
   "execution_count": 25,
   "id": "0c4590e7",
   "metadata": {},
   "outputs": [
    {
     "data": {
      "text/plain": [
       "1"
      ]
     },
     "execution_count": 25,
     "metadata": {},
     "output_type": "execute_result"
    }
   ],
   "source": [
    "lst.count(\"Hashir\")"
   ]
  },
  {
   "cell_type": "code",
   "execution_count": 26,
   "id": "2101ca98",
   "metadata": {},
   "outputs": [],
   "source": [
    "lst.reverse()"
   ]
  },
  {
   "cell_type": "code",
   "execution_count": 27,
   "id": "7f82c3d2",
   "metadata": {},
   "outputs": [
    {
     "name": "stdout",
     "output_type": "stream",
     "text": [
      "['Wahab', 'Umar', 'Shehryar', 'Saqib', 'Murad', 'Hashir', 'Hamad', 'Azmat', 'Asif', 'Ali', 'Ahmad']\n"
     ]
    }
   ],
   "source": [
    "print(lst)"
   ]
  },
  {
   "cell_type": "code",
   "execution_count": 28,
   "id": "85d0686e",
   "metadata": {},
   "outputs": [],
   "source": [
    "lst.sort()"
   ]
  },
  {
   "cell_type": "code",
   "execution_count": 29,
   "id": "6efeb7c2",
   "metadata": {},
   "outputs": [
    {
     "name": "stdout",
     "output_type": "stream",
     "text": [
      "['Ahmad', 'Ali', 'Asif', 'Azmat', 'Hamad', 'Hashir', 'Murad', 'Saqib', 'Shehryar', 'Umar', 'Wahab']\n"
     ]
    }
   ],
   "source": [
    "print(lst)"
   ]
  },
  {
   "cell_type": "code",
   "execution_count": 1,
   "id": "f4f83911",
   "metadata": {},
   "outputs": [],
   "source": [
    "dic = {\"Name\":\"Saad\",\"City\":\"Peshawar\",\"Contact\":\"03030303\",\"Gender\":\"Male\"}\n"
   ]
  },
  {
   "cell_type": "code",
   "execution_count": 3,
   "id": "87df56be",
   "metadata": {},
   "outputs": [
    {
     "data": {
      "text/plain": [
       "'Saad'"
      ]
     },
     "execution_count": 3,
     "metadata": {},
     "output_type": "execute_result"
    }
   ],
   "source": [
    "dic[\"Name\"]"
   ]
  },
  {
   "cell_type": "code",
   "execution_count": 4,
   "id": "ae056bb0",
   "metadata": {},
   "outputs": [],
   "source": [
    "dic[\"Name\"]=\"Saad Khan Khali\""
   ]
  },
  {
   "cell_type": "code",
   "execution_count": 5,
   "id": "0b2e3f18",
   "metadata": {},
   "outputs": [
    {
     "name": "stdout",
     "output_type": "stream",
     "text": [
      "{'Name': 'Saad Khan Khali', 'City': 'Peshawar', 'Contact': '03030303', 'Gender': 'Male'}\n"
     ]
    }
   ],
   "source": [
    "print(dic)"
   ]
  },
  {
   "cell_type": "code",
   "execution_count": 9,
   "id": "a70fc508",
   "metadata": {},
   "outputs": [
    {
     "data": {
      "text/plain": [
       "'Saad Khan Khali'"
      ]
     },
     "execution_count": 9,
     "metadata": {},
     "output_type": "execute_result"
    }
   ],
   "source": [
    "dic.get(\"Name\")"
   ]
  },
  {
   "cell_type": "code",
   "execution_count": 8,
   "id": "4591e20c",
   "metadata": {},
   "outputs": [
    {
     "data": {
      "text/plain": [
       "{'Name': 'Saad Khan Khali',\n",
       " 'City': 'Peshawar',\n",
       " 'Contact': '03030303',\n",
       " 'Gender': 'Male'}"
      ]
     },
     "execution_count": 8,
     "metadata": {},
     "output_type": "execute_result"
    }
   ],
   "source": [
    "dic"
   ]
  },
  {
   "cell_type": "code",
   "execution_count": 12,
   "id": "a4913c7e",
   "metadata": {},
   "outputs": [
    {
     "data": {
      "text/plain": [
       "dict_items([('Name', 'Saad Khan Khali'), ('City', 'Peshawar'), ('Contact', '03030303'), ('Gender', 'Male')])"
      ]
     },
     "execution_count": 12,
     "metadata": {},
     "output_type": "execute_result"
    }
   ],
   "source": [
    "dic.items()"
   ]
  },
  {
   "cell_type": "code",
   "execution_count": 15,
   "id": "a99f887e",
   "metadata": {},
   "outputs": [
    {
     "data": {
      "text/plain": [
       "{'N': None, 'a': None, 'm': None, 'e': None}"
      ]
     },
     "execution_count": 15,
     "metadata": {},
     "output_type": "execute_result"
    }
   ],
   "source": [
    "dic.fromkeys(\"Name\")"
   ]
  },
  {
   "cell_type": "code",
   "execution_count": 16,
   "id": "a553270b",
   "metadata": {},
   "outputs": [
    {
     "data": {
      "text/plain": [
       "dict_values(['Saad Khan Khali', 'Peshawar', '03030303', 'Male'])"
      ]
     },
     "execution_count": 16,
     "metadata": {},
     "output_type": "execute_result"
    }
   ],
   "source": [
    "dic.values()"
   ]
  },
  {
   "cell_type": "code",
   "execution_count": 17,
   "id": "5dc945b8",
   "metadata": {},
   "outputs": [
    {
     "data": {
      "text/plain": [
       "('Gender', 'Male')"
      ]
     },
     "execution_count": 17,
     "metadata": {},
     "output_type": "execute_result"
    }
   ],
   "source": [
    "dic.popitem()"
   ]
  },
  {
   "cell_type": "code",
   "execution_count": 18,
   "id": "244020db",
   "metadata": {},
   "outputs": [
    {
     "data": {
      "text/plain": [
       "{'Name': 'Saad Khan Khali', 'City': 'Peshawar', 'Contact': '03030303'}"
      ]
     },
     "execution_count": 18,
     "metadata": {},
     "output_type": "execute_result"
    }
   ],
   "source": [
    "dic"
   ]
  },
  {
   "cell_type": "code",
   "execution_count": 21,
   "id": "4cc1d2be",
   "metadata": {},
   "outputs": [
    {
     "data": {
      "text/plain": [
       "'Peshawar'"
      ]
     },
     "execution_count": 21,
     "metadata": {},
     "output_type": "execute_result"
    }
   ],
   "source": [
    "dic.pop(\"City\")"
   ]
  },
  {
   "cell_type": "code",
   "execution_count": 22,
   "id": "ea8dde93",
   "metadata": {},
   "outputs": [
    {
     "data": {
      "text/plain": [
       "{'Name': 'Saad Khan Khali', 'Contact': '03030303'}"
      ]
     },
     "execution_count": 22,
     "metadata": {},
     "output_type": "execute_result"
    }
   ],
   "source": [
    "dic"
   ]
  },
  {
   "cell_type": "code",
   "execution_count": 23,
   "id": "8e971007",
   "metadata": {},
   "outputs": [],
   "source": [
    "dic[\"City\"]=\"peshawar\""
   ]
  },
  {
   "cell_type": "code",
   "execution_count": 24,
   "id": "fc271bfe",
   "metadata": {},
   "outputs": [
    {
     "data": {
      "text/plain": [
       "{'Name': 'Saad Khan Khali', 'Contact': '03030303', 'City': 'peshawar'}"
      ]
     },
     "execution_count": 24,
     "metadata": {},
     "output_type": "execute_result"
    }
   ],
   "source": [
    "dic"
   ]
  },
  {
   "cell_type": "code",
   "execution_count": 25,
   "id": "338effa8",
   "metadata": {},
   "outputs": [],
   "source": [
    "Name = {\"Saad\",\"Saad\",\"arshad\",\"azmat\",\"Azmat\",\"Umar\"}"
   ]
  },
  {
   "cell_type": "code",
   "execution_count": 26,
   "id": "0836da14",
   "metadata": {},
   "outputs": [
    {
     "data": {
      "text/plain": [
       "{'Azmat', 'Saad', 'Umar', 'arshad', 'azmat'}"
      ]
     },
     "execution_count": 26,
     "metadata": {},
     "output_type": "execute_result"
    }
   ],
   "source": [
    "Name\n"
   ]
  },
  {
   "cell_type": "code",
   "execution_count": 27,
   "id": "b02f4e23",
   "metadata": {},
   "outputs": [
    {
     "data": {
      "text/plain": [
       "{'Azmat', 'Saad', 'Umar', 'arshad', 'azmat'}"
      ]
     },
     "execution_count": 27,
     "metadata": {},
     "output_type": "execute_result"
    }
   ],
   "source": [
    "Name.intersection()"
   ]
  },
  {
   "cell_type": "code",
   "execution_count": 30,
   "id": "b1bc72d1",
   "metadata": {},
   "outputs": [
    {
     "data": {
      "text/plain": [
       "{'Azmat', 'S', 'Saad', 'Umar', 'a', 'arshad', 'azmat', 'd'}"
      ]
     },
     "execution_count": 30,
     "metadata": {},
     "output_type": "execute_result"
    }
   ],
   "source": [
    "Name.symmetric_difference(\"Saad\")"
   ]
  },
  {
   "cell_type": "code",
   "execution_count": 32,
   "id": "f4ee4a59",
   "metadata": {},
   "outputs": [],
   "source": [
    "Name.add('Azmat')"
   ]
  },
  {
   "cell_type": "code",
   "execution_count": 33,
   "id": "518358dc",
   "metadata": {},
   "outputs": [
    {
     "data": {
      "text/plain": [
       "{'Azmat', 'Saad', 'Umar', 'arshad', 'azmat'}"
      ]
     },
     "execution_count": 33,
     "metadata": {},
     "output_type": "execute_result"
    }
   ],
   "source": [
    "Name"
   ]
  },
  {
   "cell_type": "code",
   "execution_count": 34,
   "id": "7a18e366",
   "metadata": {},
   "outputs": [],
   "source": [
    "Name.add(\"lalal\")"
   ]
  },
  {
   "cell_type": "code",
   "execution_count": 35,
   "id": "afad060b",
   "metadata": {},
   "outputs": [
    {
     "data": {
      "text/plain": [
       "{'Azmat', 'Saad', 'Umar', 'arshad', 'azmat', 'lalal'}"
      ]
     },
     "execution_count": 35,
     "metadata": {},
     "output_type": "execute_result"
    }
   ],
   "source": [
    "Name"
   ]
  },
  {
   "cell_type": "code",
   "execution_count": 38,
   "id": "ce0d631b",
   "metadata": {},
   "outputs": [],
   "source": [
    "Name.update()"
   ]
  },
  {
   "cell_type": "code",
   "execution_count": 39,
   "id": "7d426624",
   "metadata": {},
   "outputs": [
    {
     "data": {
      "text/plain": [
       "{'Azmat', 'S', 'Saad', 'Umar', 'a', 'arshad', 'azmat', 'd', 'lalal'}"
      ]
     },
     "execution_count": 39,
     "metadata": {},
     "output_type": "execute_result"
    }
   ],
   "source": [
    "Name"
   ]
  },
  {
   "cell_type": "code",
   "execution_count": null,
   "id": "ee9517dc",
   "metadata": {},
   "outputs": [],
   "source": []
  }
 ],
 "metadata": {
  "kernelspec": {
   "display_name": "Python 3 (ipykernel)",
   "language": "python",
   "name": "python3"
  },
  "language_info": {
   "codemirror_mode": {
    "name": "ipython",
    "version": 3
   },
   "file_extension": ".py",
   "mimetype": "text/x-python",
   "name": "python",
   "nbconvert_exporter": "python",
   "pygments_lexer": "ipython3",
   "version": "3.11.5"
  }
 },
 "nbformat": 4,
 "nbformat_minor": 5
}
