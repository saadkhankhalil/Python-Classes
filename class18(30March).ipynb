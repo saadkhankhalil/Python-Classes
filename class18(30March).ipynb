{
 "cells": [
  {
   "cell_type": "markdown",
   "id": "74a4562d",
   "metadata": {},
   "source": [
    "# Object Oriented Programming"
   ]
  },
  {
   "cell_type": "markdown",
   "id": "4b60bcae",
   "metadata": {},
   "source": [
    "#What is an object\n",
    "- any thing that has some characteristics and behavior is object"
   ]
  },
  {
   "cell_type": "code",
   "execution_count": 1,
   "id": "e1439de6",
   "metadata": {},
   "outputs": [],
   "source": [
    "class Car:\n",
    "    pass"
   ]
  },
  {
   "cell_type": "code",
   "execution_count": 2,
   "id": "39f3a8c4",
   "metadata": {},
   "outputs": [],
   "source": [
    "car1 = Car()"
   ]
  },
  {
   "cell_type": "code",
   "execution_count": 3,
   "id": "8af59f74",
   "metadata": {},
   "outputs": [],
   "source": [
    "car2 = Car()"
   ]
  },
  {
   "cell_type": "code",
   "execution_count": 4,
   "id": "19137a2d",
   "metadata": {},
   "outputs": [
    {
     "name": "stdout",
     "output_type": "stream",
     "text": [
      "<class '__main__.Car'>\n"
     ]
    }
   ],
   "source": [
    "print(type(car1))"
   ]
  },
  {
   "cell_type": "code",
   "execution_count": 5,
   "id": "2b1c6564",
   "metadata": {},
   "outputs": [
    {
     "name": "stdout",
     "output_type": "stream",
     "text": [
      "<class 'str'>\n"
     ]
    }
   ],
   "source": [
    "name = \"saad\"\n",
    "print(type(name))"
   ]
  },
  {
   "cell_type": "code",
   "execution_count": 6,
   "id": "5b956596",
   "metadata": {},
   "outputs": [],
   "source": [
    "class Car:\n",
    "    wheels = 4\n",
    "    seets = 6\n",
    "    color = \"black\"\n",
    "    engine = '1000cc'\n",
    "    model = 'toyota'\n",
    "    owner_name= \"Saad\"\n",
    "    #methods/function/behaivior\n",
    "    def ignite():\n",
    "        print(\"vormmmmmmm\")"
   ]
  },
  {
   "cell_type": "code",
   "execution_count": 7,
   "id": "e423aa43",
   "metadata": {},
   "outputs": [],
   "source": [
    "car1 = Car()"
   ]
  },
  {
   "cell_type": "code",
   "execution_count": 8,
   "id": "9c58cd00",
   "metadata": {},
   "outputs": [
    {
     "data": {
      "text/plain": [
       "'black'"
      ]
     },
     "execution_count": 8,
     "metadata": {},
     "output_type": "execute_result"
    }
   ],
   "source": [
    "car1.color"
   ]
  },
  {
   "cell_type": "code",
   "execution_count": 9,
   "id": "1d4dba09",
   "metadata": {},
   "outputs": [
    {
     "data": {
      "text/plain": [
       "'toyota'"
      ]
     },
     "execution_count": 9,
     "metadata": {},
     "output_type": "execute_result"
    }
   ],
   "source": [
    "car1.model"
   ]
  },
  {
   "cell_type": "code",
   "execution_count": 11,
   "id": "291b4d0e",
   "metadata": {},
   "outputs": [
    {
     "data": {
      "text/plain": [
       "6"
      ]
     },
     "execution_count": 11,
     "metadata": {},
     "output_type": "execute_result"
    }
   ],
   "source": [
    "car1.seets"
   ]
  },
  {
   "cell_type": "code",
   "execution_count": 12,
   "id": "9a222f37",
   "metadata": {},
   "outputs": [],
   "source": [
    "car1.color = 'yellow'"
   ]
  },
  {
   "cell_type": "code",
   "execution_count": 13,
   "id": "74a18b4b",
   "metadata": {},
   "outputs": [
    {
     "data": {
      "text/plain": [
       "'yellow'"
      ]
     },
     "execution_count": 13,
     "metadata": {},
     "output_type": "execute_result"
    }
   ],
   "source": [
    "car1.color"
   ]
  },
  {
   "cell_type": "code",
   "execution_count": 23,
   "id": "63930cd8",
   "metadata": {},
   "outputs": [],
   "source": [
    "class student:\n",
    "    def __init__(self,name,age,CNIC,email,address):\n",
    "        self.name=name\n",
    "        self.age=age\n",
    "        self.CNIC=CNIC\n",
    "        self.email=email\n",
    "        self.address=address\n",
    "    def func(self):\n",
    "        print(f\"I am {self.name}, I am {self.age}, My CNIC number is {self.CNIC}, My email is {self.email},and my home address is {self.address}..\")\n",
    "    def Profile(self):\n",
    "        print(f\"\"\"\n",
    "        Name: {self.name}\n",
    "        age : {self.age}\n",
    "        Cnic :{self.CNIC}\n",
    "        email:{self.email}\n",
    "        Address:{self.address}\n",
    "        \"\"\")\n",
    "\n"
   ]
  },
  {
   "cell_type": "code",
   "execution_count": 28,
   "id": "90c9fda9",
   "metadata": {},
   "outputs": [
    {
     "name": "stdout",
     "output_type": "stream",
     "text": [
      "\n",
      "        Name: Muhammad Saad\n",
      "        age : 23\n",
      "        Cnic :1730179952531\n",
      "        email:saadkhancsit@gmail.com\n",
      "        Address:Peshawar\n",
      "        \n"
     ]
    }
   ],
   "source": [
    "obj1 = student(\"Muhammad Saad\",23,1730179952531,\"saadkhancsit@gmail.com\",\"Peshawar\")\n",
    "obj1.Profile()"
   ]
  },
  {
   "cell_type": "code",
   "execution_count": 29,
   "id": "307c8958",
   "metadata": {},
   "outputs": [
    {
     "data": {
      "text/plain": [
       "23"
      ]
     },
     "execution_count": 29,
     "metadata": {},
     "output_type": "execute_result"
    }
   ],
   "source": [
    "obj1.age"
   ]
  },
  {
   "cell_type": "code",
   "execution_count": 31,
   "id": "3798e560",
   "metadata": {},
   "outputs": [
    {
     "data": {
      "text/plain": [
       "'saadkhancsit@gmail.com'"
      ]
     },
     "execution_count": 31,
     "metadata": {},
     "output_type": "execute_result"
    }
   ],
   "source": [
    "obj1.email"
   ]
  },
  {
   "cell_type": "code",
   "execution_count": 34,
   "id": "98cd2af0",
   "metadata": {},
   "outputs": [],
   "source": [
    "obj2=student('ALi',22,1233123,\"abc@gmail.com\",\"lahore\")"
   ]
  },
  {
   "cell_type": "code",
   "execution_count": 35,
   "id": "dc43dd32",
   "metadata": {},
   "outputs": [
    {
     "name": "stdout",
     "output_type": "stream",
     "text": [
      "\n",
      "        Name: ALi\n",
      "        age : 22\n",
      "        Cnic :1233123\n",
      "        email:abc@gmail.com\n",
      "        Address:lahore\n",
      "        \n"
     ]
    }
   ],
   "source": [
    "obj2.Profile()"
   ]
  },
  {
   "cell_type": "code",
   "execution_count": 36,
   "id": "32541ad8",
   "metadata": {},
   "outputs": [
    {
     "name": "stdout",
     "output_type": "stream",
     "text": [
      "I am ALi, I am 22, My CNIC number is 1233123, My email is abc@gmail.com,and my home address is lahore..\n"
     ]
    }
   ],
   "source": [
    "obj2.func()"
   ]
  },
  {
   "cell_type": "code",
   "execution_count": 40,
   "id": "116a1a5b",
   "metadata": {},
   "outputs": [
    {
     "data": {
      "text/plain": [
       "4"
      ]
     },
     "execution_count": 40,
     "metadata": {},
     "output_type": "execute_result"
    }
   ],
   "source": [
    "class Dog:\n",
    "    def __init__(self,name,age):\n",
    "        self.name=name\n",
    "        self.age=age\n",
    "    def func(self):\n",
    "        print(f\"my dog name is {self.name} and he is {self.age} year old\")\n",
    "    def gtc(self):\n",
    "        print(\"he is playing with ball mera kuta bohat wafadar hy..\")\n",
    "    def A(self):\n",
    "        print(f\"\"\"\n",
    "        Name:{self.name}\n",
    "        age:{self.age}\n",
    "        \"\"\")\n",
    "obj1=Dog('Puppy',4)\n",
    "obj1.age"
   ]
  },
  {
   "cell_type": "code",
   "execution_count": 41,
   "id": "5ebd32d4",
   "metadata": {},
   "outputs": [
    {
     "name": "stdout",
     "output_type": "stream",
     "text": [
      "he is playing with ball mera kuta bohat wafadar hy..\n"
     ]
    }
   ],
   "source": [
    "obj1.gtc()"
   ]
  },
  {
   "cell_type": "code",
   "execution_count": 42,
   "id": "c24084b9",
   "metadata": {},
   "outputs": [
    {
     "name": "stdout",
     "output_type": "stream",
     "text": [
      "\n",
      "        Name:Puppy\n",
      "        age:4\n",
      "        \n"
     ]
    }
   ],
   "source": [
    "obj1.A()"
   ]
  },
  {
   "cell_type": "markdown",
   "id": "5029942f",
   "metadata": {},
   "source": [
    "Restaurant: Make a class called Restaurant. The __init__() method for\n",
    "Restaurant should store two attributes: a restaurant_name and a cuisine_type.\n",
    "Make a method called describe_restaurant() that prints these two pieces of\n",
    "information, and a method called open_restaurant() that prints a message indicating\n",
    "that the restaurant is open.\n",
    "Make an instance called restaurant from your class. Print the two attributes\n",
    "individually, and then call both methods.\n"
   ]
  },
  {
   "cell_type": "code",
   "execution_count": 43,
   "id": "eaa17f41",
   "metadata": {},
   "outputs": [
    {
     "data": {
      "text/plain": [
       "'PC'"
      ]
     },
     "execution_count": 43,
     "metadata": {},
     "output_type": "execute_result"
    }
   ],
   "source": [
    "class Restaurent:\n",
    "    def __init__(self,name,cuisine_type):\n",
    "        self.name=name\n",
    "        self.cuisine_type=cuisine_type\n",
    "    def describe_restaurant(self):\n",
    "        print(\"these two pieces ofinformation\")\n",
    "    def open_restaurant(self):\n",
    "        print(\"a message indicatingthat the restaurant is open.\")\n",
    "obj = Restaurent(\"PC\",\"Dragon\")\n",
    "obj.name"
   ]
  },
  {
   "cell_type": "code",
   "execution_count": 44,
   "id": "aa1e1943",
   "metadata": {},
   "outputs": [
    {
     "data": {
      "text/plain": [
       "'Dragon'"
      ]
     },
     "execution_count": 44,
     "metadata": {},
     "output_type": "execute_result"
    }
   ],
   "source": [
    "obj.cuisine_type"
   ]
  },
  {
   "cell_type": "code",
   "execution_count": 45,
   "id": "f727f488",
   "metadata": {},
   "outputs": [
    {
     "name": "stdout",
     "output_type": "stream",
     "text": [
      "these two pieces ofinformation\n"
     ]
    }
   ],
   "source": [
    "obj.describe_restaurant()"
   ]
  },
  {
   "cell_type": "code",
   "execution_count": 46,
   "id": "b13d2595",
   "metadata": {},
   "outputs": [
    {
     "name": "stdout",
     "output_type": "stream",
     "text": [
      "a message indicatingthat the restaurant is open.\n"
     ]
    }
   ],
   "source": [
    "obj.open_restaurant()"
   ]
  },
  {
   "cell_type": "code",
   "execution_count": null,
   "id": "21098b56",
   "metadata": {},
   "outputs": [],
   "source": []
  }
 ],
 "metadata": {
  "kernelspec": {
   "display_name": "Python 3 (ipykernel)",
   "language": "python",
   "name": "python3"
  },
  "language_info": {
   "codemirror_mode": {
    "name": "ipython",
    "version": 3
   },
   "file_extension": ".py",
   "mimetype": "text/x-python",
   "name": "python",
   "nbconvert_exporter": "python",
   "pygments_lexer": "ipython3",
   "version": "3.11.5"
  }
 },
 "nbformat": 4,
 "nbformat_minor": 5
}
