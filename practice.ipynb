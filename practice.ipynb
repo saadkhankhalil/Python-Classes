{
 "cells": [
  {
   "cell_type": "code",
   "execution_count": 1,
   "id": "e8664336",
   "metadata": {},
   "outputs": [
    {
     "name": "stdout",
     "output_type": "stream",
     "text": [
      "5\n"
     ]
    }
   ],
   "source": [
    "print (5)"
   ]
  },
  {
   "cell_type": "code",
   "execution_count": 2,
   "id": "71454a3c",
   "metadata": {},
   "outputs": [
    {
     "name": "stdout",
     "output_type": "stream",
     "text": [
      "islamia vision high school\n"
     ]
    }
   ],
   "source": [
    "print (\"islamia vision high school\")"
   ]
  },
  {
   "cell_type": "code",
   "execution_count": 3,
   "id": "673cf254",
   "metadata": {},
   "outputs": [
    {
     "name": "stdout",
     "output_type": "stream",
     "text": [
      "gdsdhjasgfgewfgfhafhjgjahfgjhfg\n",
      "djdsfgsdjgsdjgfhdgfhjdgfj\n"
     ]
    }
   ],
   "source": [
    "print (\"\"\"gdsdhjasgfgewfgfhafhjgjahfgjhfg\n",
    "djdsfgsdjgsdjgfhdgfhjdgfj\"\"\")"
   ]
  },
  {
   "cell_type": "code",
   "execution_count": 4,
   "id": "33bab165",
   "metadata": {},
   "outputs": [
    {
     "name": "stdout",
     "output_type": "stream",
     "text": [
      "my name is wajid\n",
      "       and from peshawar \n",
      "       and famous player\n"
     ]
    }
   ],
   "source": [
    "print (\"\"\"my name is wajid\n",
    "       and from peshawar \n",
    "       and famous player\"\"\")"
   ]
  },
  {
   "cell_type": "code",
   "execution_count": 5,
   "id": "e28c6546",
   "metadata": {},
   "outputs": [
    {
     "name": "stdout",
     "output_type": "stream",
     "text": [
      "my name is saad \n",
      " and i am from peshawar\n"
     ]
    }
   ],
   "source": [
    "print(\"my name is saad \\n and i am from peshawar\")"
   ]
  },
  {
   "cell_type": "code",
   "execution_count": 6,
   "id": "4a81a870",
   "metadata": {},
   "outputs": [
    {
     "name": "stdout",
     "output_type": "stream",
     "text": [
      "wajid saad\n"
     ]
    }
   ],
   "source": [
    "print(\"wajid\",\"saad\")"
   ]
  },
  {
   "cell_type": "code",
   "execution_count": 7,
   "id": "98d4d634",
   "metadata": {},
   "outputs": [
    {
     "name": "stdout",
     "output_type": "stream",
     "text": [
      "hello how are you \n",
      " i am from peshawar\n"
     ]
    }
   ],
   "source": [
    "print (\"hello how are you \\n i am from peshawar\")"
   ]
  },
  {
   "cell_type": "code",
   "execution_count": 8,
   "id": "3c2499d1",
   "metadata": {},
   "outputs": [
    {
     "name": "stdout",
     "output_type": "stream",
     "text": [
      "hello how are you \t i am from peshawar\n"
     ]
    }
   ],
   "source": [
    "print (\"hello how are you \\t i am from peshawar\")"
   ]
  },
  {
   "cell_type": "code",
   "execution_count": 9,
   "id": "ebc9fa75",
   "metadata": {},
   "outputs": [
    {
     "name": "stdout",
     "output_type": "stream",
     "text": [
      "hello how are you, i am fine \r",
      " i am from peshawar\n"
     ]
    }
   ],
   "source": [
    "print (\"hello how are you, i am fine \\r i am from peshawar\")"
   ]
  },
  {
   "cell_type": "code",
   "execution_count": 10,
   "id": "21547174",
   "metadata": {},
   "outputs": [
    {
     "name": "stdout",
     "output_type": "stream",
     "text": [
      "hello how are you \\ i am from peshawar\n"
     ]
    }
   ],
   "source": [
    "print (\"hello how are you \\\\ i am from peshawar\")"
   ]
  },
  {
   "cell_type": "code",
   "execution_count": 11,
   "id": "87a8eb84",
   "metadata": {},
   "outputs": [
    {
     "name": "stdout",
     "output_type": "stream",
     "text": [
      "hello how are you \f",
      "i am from peshawar\n"
     ]
    }
   ],
   "source": [
    "print (\"hello how are you \\fi am from peshawar\")"
   ]
  },
  {
   "cell_type": "code",
   "execution_count": 12,
   "id": "cb6cd720",
   "metadata": {},
   "outputs": [
    {
     "name": "stdout",
     "output_type": "stream",
     "text": [
      "hello how are you \bi am from peshawar\n"
     ]
    }
   ],
   "source": [
    "print (\"hello how are you \\bi am from peshawar\")"
   ]
  },
  {
   "cell_type": "code",
   "execution_count": 13,
   "id": "89d170ab",
   "metadata": {},
   "outputs": [
    {
     "name": "stdout",
     "output_type": "stream",
     "text": [
      "hello how are you ' i am from peshawar\n"
     ]
    }
   ],
   "source": [
    "print (\"hello how are you \\' i am from peshawar\")"
   ]
  },
  {
   "cell_type": "code",
   "execution_count": 14,
   "id": "4fe3a613",
   "metadata": {},
   "outputs": [
    {
     "name": "stdout",
     "output_type": "stream",
     "text": [
      "hello how are you \r",
      " i am from peshawar\n"
     ]
    }
   ],
   "source": [
    "print (\"hello how are you \\r i am from peshawar\")"
   ]
  },
  {
   "cell_type": "code",
   "execution_count": 15,
   "id": "6ea49a33",
   "metadata": {},
   "outputs": [
    {
     "name": "stdout",
     "output_type": "stream",
     "text": [
      "[[2 2 3]\n",
      " [1 3 4]]\n"
     ]
    }
   ],
   "source": [
    "import numpy as np\n",
    "x=np.array([[2,2,3],[1,3,4]])\n",
    "print(x)"
   ]
  },
  {
   "cell_type": "code",
   "execution_count": 16,
   "id": "8bce1662",
   "metadata": {},
   "outputs": [
    {
     "name": "stdout",
     "output_type": "stream",
     "text": [
      "Do you have bonanza shirtsyes\n",
      "Do you have red coluryes\n",
      "Do you have Medium Sizeyes\n",
      "Will you me in 1000yes\n",
      "Please pack\n"
     ]
    }
   ],
   "source": [
    "brand = input(\"Do you have bonanza shirts\")\n",
    "if brand =='yes':\n",
    "    \n",
    "    color = input(\"Do you have red colur\")\n",
    "    if color =='yes':\n",
    "        \n",
    "        size  = input (\"Do you have Medium Size\")\n",
    "        if size=='yes':\n",
    "            \n",
    "            price = input(\"Will you me in 1000\")\n",
    "            if price=='yes':\n",
    "                print(\"Please pack\")\n",
    "            else:\n",
    "                print('OK thank you price are high')\n",
    "        else:\n",
    "            print('OK thank you dont have medium')\n",
    "    else:\n",
    "        print('OK thank you dont have red')\n",
    "        \n",
    "else:\n",
    "    print('OK thank you dont have bonanza')"
   ]
  },
  {
   "cell_type": "code",
   "execution_count": 1,
   "id": "6c5c70f0",
   "metadata": {},
   "outputs": [
    {
     "name": "stdout",
     "output_type": "stream",
     "text": [
      "saad\n"
     ]
    }
   ],
   "source": [
    "print(\"saad\")"
   ]
  },
  {
   "cell_type": "code",
   "execution_count": 2,
   "id": "7ab128cf",
   "metadata": {},
   "outputs": [
    {
     "name": "stdout",
     "output_type": "stream",
     "text": [
      "Jimi Hendrix\n"
     ]
    }
   ],
   "source": [
    "def get_formatted_name(first_name, last_name):\n",
    " \"\"\"Return a full name, neatly formatted.\"\"\"\n",
    " full_name = first_name + ' ' + last_name\n",
    " return full_name.title()\n",
    "musician = get_formatted_name('jimi', 'hendrix')\n",
    "print(musician)"
   ]
  },
  {
   "cell_type": "code",
   "execution_count": 13,
   "id": "7cd5a6f2",
   "metadata": {},
   "outputs": [
    {
     "name": "stdout",
     "output_type": "stream",
     "text": [
      "Muhammad Saad\n"
     ]
    }
   ],
   "source": [
    "def func(f_Name,L_Name):\n",
    "    \"\"\"Return a full name , neatly formatted\"\"\"\n",
    "    Full_Name = f_Name + ' ' + L_Name\n",
    "    return Full_Name.title()\n",
    "x =func(\"muhammad\",\"Saad\")\n",
    "print(x)\n",
    "    "
   ]
  },
  {
   "cell_type": "code",
   "execution_count": 16,
   "id": "b58b1963",
   "metadata": {},
   "outputs": [
    {
     "name": "stdout",
     "output_type": "stream",
     "text": [
      "Taj Wali\n"
     ]
    }
   ],
   "source": [
    "def func(F_name,L_name):\n",
    "    Full_name = F_name + ' ' + L_name\n",
    "    return Full_name.title()\n",
    "x=func(\"taj\",'wali')\n",
    "print(x)"
   ]
  },
  {
   "cell_type": "code",
   "execution_count": 18,
   "id": "97cdc077",
   "metadata": {},
   "outputs": [
    {
     "name": "stdout",
     "output_type": "stream",
     "text": [
      "Muhammad Saad\n"
     ]
    }
   ],
   "source": [
    "def func(F_name,L_name):\n",
    "    print(F_name.title(),L_name.title())\n",
    "func(\"muhammad\",\"saad\")"
   ]
  },
  {
   "cell_type": "code",
   "execution_count": 23,
   "id": "d78ecbcd",
   "metadata": {},
   "outputs": [
    {
     "name": "stdout",
     "output_type": "stream",
     "text": [
      "enter any nuber: 50\n",
      "enter any nuber: 40\n",
      "90\n",
      "10\n",
      "2000\n",
      "1.25\n"
     ]
    }
   ],
   "source": [
    "def func(a,b):\n",
    "    a=int(input(\"enter any nuber: \"))\n",
    "    b=int(input(\"enter any nuber: \"))\n",
    "    print(a+b)\n",
    "    print(a-b)\n",
    "    print(a*b)\n",
    "    print(a/b)\n",
    "func(10,20)"
   ]
  },
  {
   "cell_type": "code",
   "execution_count": 24,
   "id": "91b8a823",
   "metadata": {},
   "outputs": [
    {
     "name": "stdout",
     "output_type": "stream",
     "text": [
      "80\n"
     ]
    }
   ],
   "source": [
    "def func(a,b):\n",
    "    c=a+b\n",
    "    return c\n",
    "x = func(30,50)\n",
    "print(x)"
   ]
  },
  {
   "cell_type": "code",
   "execution_count": 26,
   "id": "59cf3096",
   "metadata": {},
   "outputs": [
    {
     "name": "stdout",
     "output_type": "stream",
     "text": [
      "Saad Khan Khalil\n"
     ]
    }
   ],
   "source": [
    "def func(f_name,m_name,l_name):\n",
    "    full_name = f_name +' '+m_name +' '+l_name\n",
    "    return full_name.title()\n",
    "x=func('saad','khan','khalil')\n",
    "print(x)"
   ]
  },
  {
   "cell_type": "code",
   "execution_count": 30,
   "id": "f2665810",
   "metadata": {},
   "outputs": [
    {
     "ename": "NameError",
     "evalue": "name 'middle_name' is not defined",
     "output_type": "error",
     "traceback": [
      "\u001b[1;31m---------------------------------------------------------------------------\u001b[0m",
      "\u001b[1;31mNameError\u001b[0m                                 Traceback (most recent call last)",
      "Cell \u001b[1;32mIn[30], line 3\u001b[0m\n\u001b[0;32m      1\u001b[0m \u001b[38;5;28;01mdef\u001b[39;00m \u001b[38;5;21mget_formatted_name\u001b[39m(first_name, last_name, middle_name\u001b[38;5;241m=\u001b[39m\u001b[38;5;124m'\u001b[39m\u001b[38;5;124m'\u001b[39m):\n\u001b[0;32m      2\u001b[0m \u001b[38;5;250m    \u001b[39m\u001b[38;5;124;03m\"\"\"Return a full name, neatly formatted.\"\"\"\u001b[39;00m\n\u001b[1;32m----> 3\u001b[0m \u001b[38;5;28;01mif\u001b[39;00m middle_name:\n\u001b[0;32m      5\u001b[0m     full_name \u001b[38;5;241m=\u001b[39m first_name \u001b[38;5;241m+\u001b[39m \u001b[38;5;124m'\u001b[39m\u001b[38;5;124m \u001b[39m\u001b[38;5;124m'\u001b[39m \u001b[38;5;241m+\u001b[39m middle_name \u001b[38;5;241m+\u001b[39m \u001b[38;5;124m'\u001b[39m\u001b[38;5;124m \u001b[39m\u001b[38;5;124m'\u001b[39m \u001b[38;5;241m+\u001b[39m last_name\n\u001b[0;32m      6\u001b[0m \u001b[38;5;28;01melse\u001b[39;00m:\n",
      "\u001b[1;31mNameError\u001b[0m: name 'middle_name' is not defined"
     ]
    }
   ],
   "source": [
    "def get_formatted_name(first_name, last_name, middle_name=''):\n",
    "    \"\"\"Return a full name, neatly formatted.\"\"\"\n",
    "if middle_name:\n",
    "    \n",
    "    full_name = first_name + ' ' + middle_name + ' ' + last_name\n",
    "else:\n",
    "    full_name = first_name + ' ' + last_name\n",
    "return full_name.title()\n",
    "musician = get_formatted_name('jimi', 'hendrix')\n",
    "print(musician)\n",
    "musician = get_formatted_"
   ]
  },
  {
   "cell_type": "code",
   "execution_count": null,
   "id": "83276ae6",
   "metadata": {},
   "outputs": [],
   "source": [
    "def get_formatted_name(first_name, last_name, middle_name=''):\n",
    "    if midle_name:\n",
    "        full_name=first_name+' '+midle_name+' '+last_name\n",
    "        else:\n",
    "            full_name=first_name+' '+last_name\n",
    "            return full_name.title()\n",
    "        x=get_formatted_name('saad','khalil')\n",
    "        print(x)\n",
    "        x=g\n",
    "    "
   ]
  },
  {
   "cell_type": "code",
   "execution_count": 9,
   "id": "88e30a91",
   "metadata": {},
   "outputs": [
    {
     "name": "stdout",
     "output_type": "stream",
     "text": [
      "Reykjavik is in IceLand\n",
      "Lahore is in Pakistan\n",
      "Dehli is in India\n",
      "Dhaka default country is in Default Country\n"
     ]
    }
   ],
   "source": [
    "def describe_city(city,country=\"Default Country\"):\n",
    "    print(f\"{city} is in {country}\")\n",
    "describe_city(\"Reykjavik\",\"IceLand\")\n",
    "describe_city(\"Lahore\",\"Pakistan\")\n",
    "describe_city(\"Dehli\",\"India\")\n",
    "describe_city(\"Dhaka default country\")\n",
    "    "
   ]
  },
  {
   "cell_type": "code",
   "execution_count": 7,
   "id": "cdb75d3e",
   "metadata": {},
   "outputs": [
    {
     "name": "stdout",
     "output_type": "stream",
     "text": [
      "Reykjavik is in Iceland.\n",
      "New York is in Default Country.\n",
      "Tokyo is in Japan.\n"
     ]
    }
   ],
   "source": [
    "def describe_city(city, country=\"Default Country\"):\n",
    "    print(f\"{city} is in {country}.\")\n",
    "\n",
    "# Calling the function for three different cities\n",
    "describe_city(\"Reykjavik\", \"Iceland\")\n",
    "describe_city(\"New York\")  # Using the default country\n",
    "describe_city(\"Tokyo\", \"Japan\")\n"
   ]
  },
  {
   "cell_type": "code",
   "execution_count": 10,
   "id": "49a8e9ba",
   "metadata": {},
   "outputs": [
    {
     "name": "stdout",
     "output_type": "stream",
     "text": [
      "Muhammad Saad\n"
     ]
    }
   ],
   "source": [
    "def func(f_name,l_name):\n",
    "    full_name=f_name+' '+l_name\n",
    "    return full_name\n",
    "x=func('Muhammad','Saad')\n",
    "print(x)"
   ]
  },
  {
   "cell_type": "code",
   "execution_count": 11,
   "id": "4c0f461c",
   "metadata": {},
   "outputs": [
    {
     "name": "stdout",
     "output_type": "stream",
     "text": [
      "Jimi Hendrix\n",
      "John Lee Hooker\n"
     ]
    }
   ],
   "source": [
    "def get_formatted_name(first_name, last_name, middle_name=''):\n",
    "    if middle_name:\n",
    "        \n",
    "        full_name = first_name + ' ' + middle_name + ' ' + last_name\n",
    "    else:\n",
    "        full_name = first_name + ' ' + last_name\n",
    "    return full_name.title()\n",
    "musician = get_formatted_name('jimi', 'hendrix')\n",
    "print(musician)\n",
    "\n",
    "musician = get_formatted_name('john', 'hooker', 'lee')\n",
    "print(musician)\n",
    "        \n",
    "    "
   ]
  },
  {
   "cell_type": "code",
   "execution_count": 10,
   "id": "829a1bca",
   "metadata": {},
   "outputs": [
    {
     "ename": "SyntaxError",
     "evalue": "invalid syntax (3617196318.py, line 3)",
     "output_type": "error",
     "traceback": [
      "\u001b[1;36m  Cell \u001b[1;32mIn[10], line 3\u001b[1;36m\u001b[0m\n\u001b[1;33m    msg = \"Hello!\"+name.title()+\u001b[0m\n\u001b[1;37m                                ^\u001b[0m\n\u001b[1;31mSyntaxError\u001b[0m\u001b[1;31m:\u001b[0m invalid syntax\n"
     ]
    }
   ],
   "source": [
    "def user_name(names):\n",
    "    for name in names:\n",
    "        msg = \"Hello!\"+name.title()+\n",
    "        print(msg)\n",
    "username = ['saad','ali','taj wali']\n",
    "user_name(username)"
   ]
  },
  {
   "cell_type": "code",
   "execution_count": null,
   "id": "fb848ef6",
   "metadata": {},
   "outputs": [],
   "source": []
  },
  {
   "cell_type": "code",
   "execution_count": 19,
   "id": "c8545f08",
   "metadata": {},
   "outputs": [
    {
     "name": "stdout",
     "output_type": "stream",
     "text": [
      "hello, Saad!\n",
      "hello, Ali!\n",
      "hello, Taj Wali!\n"
     ]
    }
   ],
   "source": [
    "\n",
    "def greet_users(names):\n",
    "    for name in names:\n",
    "        msg = \"hello, \"+name.title()+ \"!\"\n",
    "        print(msg)\n",
    "usernames=[\"saad\",\"ali\",\"taj wali\"]\n",
    "greet_users(usernames)"
   ]
  },
  {
   "cell_type": "code",
   "execution_count": 21,
   "id": "9bd00538",
   "metadata": {},
   "outputs": [
    {
     "name": "stdout",
     "output_type": "stream",
     "text": [
      "Hello, Hannah!\n",
      "Hello, Ty!\n",
      "Hello, Margot!\n"
     ]
    }
   ],
   "source": [
    "def greet_users(names):\n",
    "    \n",
    "    \"\"\"Print a simple greeting to each user in the list.\"\"\"\n",
    "    for name in names:\n",
    "        msg = \"Hello, \" + name.title() + \"!\"\n",
    "        print(msg)\n",
    "names = ['hannah', 'ty', 'margot']\n",
    "greet_users(names)"
   ]
  },
  {
   "cell_type": "code",
   "execution_count": 22,
   "id": "f81ee8b4",
   "metadata": {},
   "outputs": [
    {
     "name": "stdout",
     "output_type": "stream",
     "text": [
      "Hello, Dog!\n",
      "Hello, Cat!\n",
      "Hello, Loin!\n"
     ]
    }
   ],
   "source": [
    "def Animals(names):\n",
    "    for name in names:\n",
    "        msg = \"Hello, \"+name.title()+\"!\"\n",
    "        print(msg)\n",
    "names = [\"dog\",\"cat\",\"loin\"]\n",
    "Animals(names)"
   ]
  },
  {
   "cell_type": "markdown",
   "id": "0534d95d",
   "metadata": {},
   "source": [
    "# Spelling Checker"
   ]
  },
  {
   "cell_type": "code",
   "execution_count": 58,
   "id": "fd82c031",
   "metadata": {},
   "outputs": [],
   "source": [
    "import tkinter "
   ]
  },
  {
   "cell_type": "code",
   "execution_count": 59,
   "id": "26d9a73f",
   "metadata": {},
   "outputs": [],
   "source": [
    "from tkinter import*"
   ]
  },
  {
   "cell_type": "code",
   "execution_count": 60,
   "id": "65e8e0de",
   "metadata": {},
   "outputs": [],
   "source": [
    "from textblob import TextBlob"
   ]
  },
  {
   "cell_type": "code",
   "execution_count": 61,
   "id": "c5b46c62",
   "metadata": {},
   "outputs": [],
   "source": [
    "from tkinter import Tk\n",
    "\n",
    "root = Tk()\n",
    "root.title(\"Spelling Checker\")\n",
    "root.geometry(\"700x400\")\n",
    "root.config(background=\"#dae6f6\")\n",
    "def check_spelling():\n",
    "    word=enter_text.get()\n",
    "    a=TextBlob(word)\n",
    "    right=str(a.correct())\n",
    "    cs = Label(root,text=\"Correct text is :\",font=(\"poppins\",20),bg=\"#dae6f6\",fg=\"#364971\")\n",
    "    cs.place(x=100,y=250)\n",
    "    spell.config(text=right)\n",
    "heading = Label(root,text=\"Spelling Checker\",font=(\"Trebuchet MS\",30,\"bold\"),bg=\"#dae6f6\",fg=\"#364971\")\n",
    "heading.pack(pady=(50,0))\n",
    "enter_text=Entry(root,justify=\"center\",width=30,font=(\"poppins\",25),bg=\"white\",border=2)\n",
    "enter_text.pack(pady=10)\n",
    "enter_text.focus()\n",
    "button = Button(root,text=\"check\",font=(\"ariel\",20,\"bold\"),fg=\"white\",bg=\"grey\",command=check_spelling)\n",
    "button.pack()\n",
    "\n",
    "spell = Label(root,font=(\"poppins\",20),bg=\"#dae6f6\",fg=\"#364971\")\n",
    "\n",
    "\n",
    "spell.place(x=350,y=250)\n",
    "\n",
    "root.mainloop()\n"
   ]
  },
  {
   "cell_type": "code",
   "execution_count": 9,
   "id": "3ca2f3b1",
   "metadata": {},
   "outputs": [],
   "source": [
    "from tkinter import Tk, Label, Entry, Button, messagebox\n",
    "\n",
    "def validate_login():\n",
    "    entered_username = entry_username.get()\n",
    "    entered_password = entry_password.get()\n",
    "\n",
    "    if entered_username == \"saad\" and entered_password == \"123\":\n",
    "        messagebox.showinfo(\"Login Successful\", \"Welcome, Saad!\")\n",
    "    else:\n",
    "        messagebox.showerror(\"Login Failed\", \"Invalid username or password\")\n",
    "\n",
    "# Create main window\n",
    "root = Tk()\n",
    "root.title(\"Login Form\")\n",
    "\n",
    "# Username Label and Entry\n",
    "label_username = Label(root, text=\"Username:\")\n",
    "label_username.pack(pady=10)\n",
    "entry_username = Entry(root)\n",
    "entry_username.pack(pady=10)\n",
    "\n",
    "# Password Label and Entry\n",
    "label_password = Label(root, text=\"Password:\")\n",
    "label_password.pack(pady=10)\n",
    "entry_password = Entry(root, show=\"*\")  # 'show' attribute hides the password characters\n",
    "entry_password.pack(pady=10)\n",
    "\n",
    "# Login Button\n",
    "login_button = Button(root, text=\"Login\", command=validate_login)\n",
    "login_button.pack(pady=20)\n",
    "\n",
    "# Start the main event loop\n",
    "root.mainloop()\n"
   ]
  },
  {
   "cell_type": "markdown",
   "id": "7c596994",
   "metadata": {},
   "source": [
    "# CRUD Operation Form"
   ]
  },
  {
   "cell_type": "code",
   "execution_count": 44,
   "id": "7344fc00",
   "metadata": {},
   "outputs": [],
   "source": [
    "import tkinter as tk\n",
    "from tkinter import ttk\n",
    "\n",
    "# Function to handle insert operation\n",
    "def insert_data():\n",
    "    name = entry_name.get()\n",
    "    age = entry_age.get()\n",
    "\n",
    "    if name and age:\n",
    "        tree.insert('', 'end', values=(name, age))\n",
    "        clear_entries()\n",
    "    else:\n",
    "        tk.messagebox.showwarning(\"Incomplete Data\", \"Please enter both name and age.\")\n",
    "\n",
    "# Function to handle delete operation\n",
    "def delete_data():\n",
    "    selected_item = tree.selection()\n",
    "    if selected_item:\n",
    "        tree.delete(selected_item)\n",
    "        clear_entries()\n",
    "    else:\n",
    "        tk.messagebox.showwarning(\"No Selection\", \"Please select a row to delete.\")\n",
    "\n",
    "# Function to handle update operation\n",
    "def update_data():\n",
    "    selected_item = tree.selection()\n",
    "    if selected_item:\n",
    "        name = entry_name.get()\n",
    "        age = entry_age.get()\n",
    "\n",
    "        if name and age:\n",
    "            tree.item(selected_item, values=(name, age))\n",
    "            clear_entries()\n",
    "        else:\n",
    "            tk.messagebox.showwarning(\"Incomplete Data\", \"Please enter both name and age.\")\n",
    "    else:\n",
    "        tk.messagebox.showwarning(\"No Selection\", \"Please select a row to update.\")\n",
    "\n",
    "# Function to handle select operation\n",
    "def select_data(event):\n",
    "    selected_item = tree.selection()\n",
    "    if selected_item:\n",
    "        item_values = tree.item(selected_item, 'values')\n",
    "        entry_name.delete(0, 'end')\n",
    "        entry_name.insert(0, item_values[0])\n",
    "        entry_age.delete(0, 'end')\n",
    "        entry_age.insert(0, item_values[1])\n",
    "\n",
    "# Function to clear entry fields\n",
    "def clear_entries():\n",
    "    entry_name.delete(0, 'end')\n",
    "    entry_age.delete(0, 'end')\n",
    "\n",
    "# Create main window\n",
    "root = tk.Tk()\n",
    "root.title(\"CRUD Operation Form\")\n",
    "root.geometry(\"500x300\")\n",
    "root.config(background=\"grey\")\n",
    "\n",
    "# Entry fields\n",
    "label_name = tk.Label(root, text=\"Name:\")\n",
    "label_name.grid(row=0, column=0, padx=10, pady=10)\n",
    "entry_name = tk.Entry(root)\n",
    "entry_name.grid(row=0, column=1, padx=10, pady=10)\n",
    "\n",
    "label_age = tk.Label(root, text=\"Age:\")\n",
    "label_age.grid(row=1, column=0, padx=10, pady=10)\n",
    "entry_age = tk.Entry(root)\n",
    "entry_age.grid(row=1, column=1, padx=10, pady=10)\n",
    "\n",
    "# Buttons\n",
    "insert_button = tk.Button(root, text=\"Insert\", command=insert_data)\n",
    "insert_button.grid(row=2, column=0, padx=10, pady=10)\n",
    "\n",
    "delete_button = tk.Button(root, text=\"Delete\", command=delete_data)\n",
    "delete_button.grid(row=2, column=1, padx=10, pady=10)\n",
    "\n",
    "update_button = tk.Button(root, text=\"Update\", command=update_data)\n",
    "update_button.grid(row=2, column=2, padx=10, pady=10)\n",
    "\n",
    "# Treeview (Table to display data)\n",
    "columns = ('Name', 'Age')\n",
    "tree = ttk.Treeview(root, columns=columns, show='headings')\n",
    "tree.grid(row=3, column=0, columnspan=3, padx=10, pady=10)\n",
    "\n",
    "for col in columns:\n",
    "    tree.heading(col, text=col)\n",
    "    tree.column(col, width=100)\n",
    "\n",
    "# Bind select_data function to item selection event\n",
    "tree.bind('<ButtonRelease-1>', select_data)\n",
    "\n",
    "# Start the main event loop\n",
    "root.mainloop()\n"
   ]
  },
  {
   "cell_type": "code",
   "execution_count": 21,
   "id": "50c6e983",
   "metadata": {},
   "outputs": [],
   "source": [
    "class Student:\n",
    "    def __init__(self,name,roll,marks):\n",
    "        self._name = name\n",
    "        self._roll=roll\n",
    "        self._marks=marks\n",
    "    def attend_class(self):\n",
    "        print(f\"{self.name} are attending the class\")\n",
    "    def profile(self):\n",
    "        print(f\"\"\"\n",
    "        Name = {self.name}\n",
    "        Roll = {self.roll}\n",
    "        Marks= {self.marks}\n",
    "        \"\"\")\n",
    "    def get_name(self):\n",
    "        return self._name\n",
    "    def set_name(self,newname):\n",
    "        lst = ['saad','amir','umer','asim','ali']\n",
    "        if newname in lst:\n",
    "            self._name = newname\n",
    "        else:\n",
    "            print(\" Not available in the list...\")\n",
    "    def get_marks(self):\n",
    "        return self._marks\n",
    "    def set_marks(self,newmarks):\n",
    "        if newmarks > 100:\n",
    "            print(\"Marks should be less or equal 100.\")\n",
    "        else:\n",
    "            self._marks=newmarks\n",
    "\n",
    "        \n",
    "        "
   ]
  },
  {
   "cell_type": "code",
   "execution_count": 22,
   "id": "03fe5aed",
   "metadata": {},
   "outputs": [],
   "source": [
    "obj = Student('kabeer',22,78)"
   ]
  },
  {
   "cell_type": "code",
   "execution_count": 23,
   "id": "59950740",
   "metadata": {},
   "outputs": [
    {
     "data": {
      "text/plain": [
       "78"
      ]
     },
     "execution_count": 23,
     "metadata": {},
     "output_type": "execute_result"
    }
   ],
   "source": [
    "obj.get_marks()"
   ]
  },
  {
   "cell_type": "code",
   "execution_count": 24,
   "id": "8fdddc6e",
   "metadata": {},
   "outputs": [
    {
     "name": "stdout",
     "output_type": "stream",
     "text": [
      "Marks should be less or equal 100.\n"
     ]
    }
   ],
   "source": [
    "obj.set_marks(101)"
   ]
  },
  {
   "cell_type": "code",
   "execution_count": 25,
   "id": "92ed1d52",
   "metadata": {},
   "outputs": [],
   "source": [
    "obj.set_marks(80)"
   ]
  },
  {
   "cell_type": "code",
   "execution_count": 26,
   "id": "53ce4d43",
   "metadata": {},
   "outputs": [
    {
     "data": {
      "text/plain": [
       "80"
      ]
     },
     "execution_count": 26,
     "metadata": {},
     "output_type": "execute_result"
    }
   ],
   "source": [
    "obj.get_marks()"
   ]
  },
  {
   "cell_type": "code",
   "execution_count": 27,
   "id": "794de61c",
   "metadata": {},
   "outputs": [
    {
     "data": {
      "text/plain": [
       "'kabeer'"
      ]
     },
     "execution_count": 27,
     "metadata": {},
     "output_type": "execute_result"
    }
   ],
   "source": [
    "obj.get_name()"
   ]
  },
  {
   "cell_type": "code",
   "execution_count": 28,
   "id": "408c4a9b",
   "metadata": {},
   "outputs": [
    {
     "name": "stdout",
     "output_type": "stream",
     "text": [
      " Not available in the list...\n"
     ]
    }
   ],
   "source": [
    "obj.set_name('shakeel')"
   ]
  },
  {
   "cell_type": "code",
   "execution_count": 29,
   "id": "3b9929e9",
   "metadata": {},
   "outputs": [],
   "source": [
    "obj.set_name('ali')"
   ]
  },
  {
   "cell_type": "code",
   "execution_count": 30,
   "id": "e26ee09c",
   "metadata": {},
   "outputs": [
    {
     "data": {
      "text/plain": [
       "'ali'"
      ]
     },
     "execution_count": 30,
     "metadata": {},
     "output_type": "execute_result"
    }
   ],
   "source": [
    "obj.get_name()"
   ]
  },
  {
   "cell_type": "code",
   "execution_count": 61,
   "id": "753e20cd",
   "metadata": {},
   "outputs": [],
   "source": [
    "class PSL:\n",
    "    def __init__(self,team,captain,owner,sponser):\n",
    "        self._team=team\n",
    "        self._captain=captain\n",
    "        self._owner=owner\n",
    "        self._sponser=sponser\n",
    "    def practice(self):\n",
    "        print('player are doing practice in the ground..')\n",
    "    def playing(self):\n",
    "        print(\"players are playing match..\")\n",
    "    def get_team(self):\n",
    "        return self._team\n",
    "    def set_team(self,newteam):\n",
    "        t_lst = ['peshawar zalmi','karach king','islamabad united','lahore qalandar','multan sultan','quetta gladiator']\n",
    "        if newteam in t_lst:\n",
    "            self._team = newteam\n",
    "        else:\n",
    "            print('This team is not include in the list..')\n",
    "    def get_captain(self):\n",
    "        return self._captain\n",
    "    def set_captain(self,newcaptain):\n",
    "        c_lst=['Babar Azam','Rizwan','Rossow','Shan masood','Shahdab','shaheen']\n",
    "        if newcaptain in c_lst:\n",
    "            self._captain=newcaptain\n",
    "        \n",
    "        else:\n",
    "            print(' Not available in the list')\n",
    "obj = PSL('Peshawar zalmi','Babar Azam','javaid afridi','Hier')\n"
   ]
  },
  {
   "cell_type": "code",
   "execution_count": 62,
   "id": "e8af5448",
   "metadata": {},
   "outputs": [
    {
     "data": {
      "text/plain": [
       "'Babar Azam'"
      ]
     },
     "execution_count": 62,
     "metadata": {},
     "output_type": "execute_result"
    }
   ],
   "source": [
    "obj.get_captain()"
   ]
  },
  {
   "cell_type": "code",
   "execution_count": 63,
   "id": "6ca4baa9",
   "metadata": {},
   "outputs": [
    {
     "data": {
      "text/plain": [
       "'Peshawar zalmi'"
      ]
     },
     "execution_count": 63,
     "metadata": {},
     "output_type": "execute_result"
    }
   ],
   "source": [
    "obj.get_team()"
   ]
  },
  {
   "cell_type": "code",
   "execution_count": 64,
   "id": "f4a44266",
   "metadata": {},
   "outputs": [],
   "source": [
    "obj.set_team('karach king')"
   ]
  },
  {
   "cell_type": "code",
   "execution_count": 65,
   "id": "c2d5ebff",
   "metadata": {},
   "outputs": [
    {
     "data": {
      "text/plain": [
       "'karach king'"
      ]
     },
     "execution_count": 65,
     "metadata": {},
     "output_type": "execute_result"
    }
   ],
   "source": [
    "obj.get_team()"
   ]
  },
  {
   "cell_type": "code",
   "execution_count": 66,
   "id": "285662aa",
   "metadata": {},
   "outputs": [],
   "source": [
    "obj.set_captain('Shan masood')"
   ]
  },
  {
   "cell_type": "code",
   "execution_count": 67,
   "id": "d207cd6e",
   "metadata": {},
   "outputs": [
    {
     "data": {
      "text/plain": [
       "'Shan masood'"
      ]
     },
     "execution_count": 67,
     "metadata": {},
     "output_type": "execute_result"
    }
   ],
   "source": [
    "obj.get_captain()"
   ]
  },
  {
   "cell_type": "code",
   "execution_count": 68,
   "id": "c8014d78",
   "metadata": {},
   "outputs": [
    {
     "name": "stdout",
     "output_type": "stream",
     "text": [
      " Not available in the list\n"
     ]
    }
   ],
   "source": [
    "obj.set_captain('fahad')"
   ]
  },
  {
   "cell_type": "markdown",
   "id": "81d0aa27",
   "metadata": {},
   "source": [
    "Start with your class from Exercise 9-1. Create three\n",
    "different instances from the class, and call describe_restaurant() for each\n",
    "instance."
   ]
  },
  {
   "cell_type": "code",
   "execution_count": 69,
   "id": "5a654079",
   "metadata": {},
   "outputs": [],
   "source": [
    "class Restaurant:\n",
    "    def __init__(self,name,address,Open_time):\n",
    "        self.name=name\n",
    "        self.address=address\n",
    "        self.Open_time=Open_time\n",
    "    def describe_restaurant(self):\n",
    "        print(f\"\"\"\n",
    "        Name: {self.name}\n",
    "        Address:{self.address}\n",
    "        Timing:{self.Open_time}\n",
    "        \"\"\")\n",
    "obj = Restaurant('Kabeer','Peshawar Ring Road','11:00 am to 12:00 pm')\n"
   ]
  },
  {
   "cell_type": "code",
   "execution_count": 70,
   "id": "d75b811c",
   "metadata": {},
   "outputs": [
    {
     "name": "stdout",
     "output_type": "stream",
     "text": [
      "\n",
      "        Name: Kabeer\n",
      "        Address:Peshawar Ring Road\n",
      "        Timing:11:00 am to 12:00 pm\n",
      "        \n"
     ]
    }
   ],
   "source": [
    "obj.describe_restaurant()"
   ]
  },
  {
   "cell_type": "code",
   "execution_count": 71,
   "id": "56eff1c5",
   "metadata": {},
   "outputs": [
    {
     "data": {
      "text/plain": [
       "'Kabeer'"
      ]
     },
     "execution_count": 71,
     "metadata": {},
     "output_type": "execute_result"
    }
   ],
   "source": [
    "obj.name"
   ]
  },
  {
   "cell_type": "code",
   "execution_count": 72,
   "id": "3ae0a9e2",
   "metadata": {},
   "outputs": [
    {
     "data": {
      "text/plain": [
       "'Peshawar Ring Road'"
      ]
     },
     "execution_count": 72,
     "metadata": {},
     "output_type": "execute_result"
    }
   ],
   "source": [
    "obj.address"
   ]
  },
  {
   "cell_type": "code",
   "execution_count": 73,
   "id": "e5c2f719",
   "metadata": {},
   "outputs": [
    {
     "data": {
      "text/plain": [
       "'11:00 am to 12:00 pm'"
      ]
     },
     "execution_count": 73,
     "metadata": {},
     "output_type": "execute_result"
    }
   ],
   "source": [
    "obj.Open_time"
   ]
  },
  {
   "cell_type": "markdown",
   "id": "32330ff0",
   "metadata": {},
   "source": [
    "Make a class called User. Create two attributes called first_name\n",
    "and last_name, and then create several other attributes that are typically stored\n",
    "in a user profile. Make a method called describe_user() that prints a summary\n",
    "of the user’s information. Make another method called greet_user() that prints\n",
    "a personalized greeting to the user.\n",
    "Create several instances representing different users, and call both methods\n",
    "for each user."
   ]
  },
  {
   "cell_type": "code",
   "execution_count": 77,
   "id": "36a27513",
   "metadata": {},
   "outputs": [],
   "source": [
    "class User:\n",
    "    def __init__(self,first_name,last_name):\n",
    "        self.first_name=first_name\n",
    "        self.last_name=last_name\n",
    "    def describe_user(self):\n",
    "        print(f\"My firstname is {self.first_name} and my lastname is {self.last_name}\")\n",
    "    def greet_user(self):\n",
    "        print(f\"I am {self.first_name+self.last_name}. I am the student of SUIT i have done my fsc from PMDC in 2019. i am software engineer. my favorite programming langauge is python.\")\n",
    "obj = User('Muhammad','Saad')"
   ]
  },
  {
   "cell_type": "code",
   "execution_count": 78,
   "id": "0a81b6da",
   "metadata": {},
   "outputs": [
    {
     "name": "stdout",
     "output_type": "stream",
     "text": [
      "My firstname is Muhammad and my lastname is Saad\n"
     ]
    }
   ],
   "source": [
    "obj.describe_user()"
   ]
  },
  {
   "cell_type": "code",
   "execution_count": 79,
   "id": "09c31d12",
   "metadata": {},
   "outputs": [
    {
     "name": "stdout",
     "output_type": "stream",
     "text": [
      "I am MuhammadSaad. I am the student of SUIT i have done my fsc from PMDC in 2019. i am software engineer. my favorite programming langauge is python.\n"
     ]
    }
   ],
   "source": [
    "obj.greet_user()"
   ]
  },
  {
   "cell_type": "code",
   "execution_count": 80,
   "id": "00968b06",
   "metadata": {},
   "outputs": [
    {
     "name": "stdout",
     "output_type": "stream",
     "text": [
      "2016 Audi A4\n"
     ]
    }
   ],
   "source": [
    "class Car():\n",
    "    def __init__(self, make, model, year):\n",
    "        self.make = make\n",
    "        self.model = model\n",
    "        self.year = year\n",
    "    def get_descriptive_name(self):\n",
    "        \n",
    "        \"\"\"Return a neatly formatted descriptive name.\"\"\"\n",
    "        long_name = str(self.year) + ' ' + self.make + ' ' + self.model\n",
    "        return long_name.title()\n",
    "my_new_car = Car('audi', 'a4', 2016)\n",
    "print(my_new_car.get_descriptive_name())\n",
    "\n",
    "\n"
   ]
  },
  {
   "cell_type": "code",
   "execution_count": 83,
   "id": "267673e8",
   "metadata": {},
   "outputs": [
    {
     "name": "stdout",
     "output_type": "stream",
     "text": [
      "a4 2016 Audi\n"
     ]
    }
   ],
   "source": [
    "class Car:\n",
    "    def __init__(self,make,model,year):\n",
    "        self.make=make\n",
    "        self.model=model\n",
    "        self.year=year\n",
    "    def get_descriptive_name(self):\n",
    "        print(f\"{self.year} {self.make} {self.model}\")\n",
    "obj=Car(2016,'Audi','a4')\n",
    "obj.get_descriptive_name()"
   ]
  },
  {
   "cell_type": "code",
   "execution_count": 5,
   "id": "5de9d8fd",
   "metadata": {},
   "outputs": [],
   "source": [
    "class School:\n",
    "    def __init__(self,name,address,teachers=[]):\n",
    "        self._name=name\n",
    "        self._address=address\n",
    "        self._teachers=teachers\n",
    "    def Profile(self):\n",
    "        print(f\"\"\"\n",
    "        Name:{self._name}\n",
    "        Address:{self._address}\n",
    "        Teachers:{self._teachers}\n",
    "        \n",
    "        \"\"\")\n",
    "    def get_teachers(self):\n",
    "        return self._teachers\n",
    "    def set_teachers(self,newteachers):\n",
    "        if newteachers in self._teachers:\n",
    "            self._teachers=newteachers\n",
    "        else:\n",
    "            print(f'{newteachers} is not in School..')\n",
    "obj = School('WMSC','warsak road',['Abid',\"sir shan\",'amir iqbal','khalid','ishfaq'])\n",
    "\n"
   ]
  },
  {
   "cell_type": "code",
   "execution_count": 6,
   "id": "7d940bf3",
   "metadata": {},
   "outputs": [
    {
     "name": "stdout",
     "output_type": "stream",
     "text": [
      "\n",
      "        Name:WMSC\n",
      "        Address:warsak road\n",
      "        Teachers:['Abid', 'sir shan', 'amir iqbal', 'khalid', 'ishfaq']\n",
      "        \n",
      "        \n"
     ]
    }
   ],
   "source": [
    "obj.Profile()"
   ]
  },
  {
   "cell_type": "code",
   "execution_count": 7,
   "id": "cd78b208",
   "metadata": {},
   "outputs": [
    {
     "data": {
      "text/plain": [
       "['Abid', 'sir shan', 'amir iqbal', 'khalid', 'ishfaq']"
      ]
     },
     "execution_count": 7,
     "metadata": {},
     "output_type": "execute_result"
    }
   ],
   "source": [
    "obj.get_teachers()"
   ]
  },
  {
   "cell_type": "code",
   "execution_count": 8,
   "id": "4e1fafee",
   "metadata": {},
   "outputs": [
    {
     "name": "stdout",
     "output_type": "stream",
     "text": [
      "ali is not in School..\n"
     ]
    }
   ],
   "source": [
    "obj.set_teachers('ali')"
   ]
  },
  {
   "cell_type": "code",
   "execution_count": 10,
   "id": "ca9ac613",
   "metadata": {},
   "outputs": [],
   "source": [
    "obj.set_teachers('Abid')"
   ]
  },
  {
   "cell_type": "code",
   "execution_count": 11,
   "id": "2c953f7d",
   "metadata": {},
   "outputs": [
    {
     "data": {
      "text/plain": [
       "'Abid'"
      ]
     },
     "execution_count": 11,
     "metadata": {},
     "output_type": "execute_result"
    }
   ],
   "source": [
    "obj.get_teachers()"
   ]
  },
  {
   "cell_type": "code",
   "execution_count": 25,
   "id": "deebacb2",
   "metadata": {},
   "outputs": [
    {
     "name": "stdout",
     "output_type": "stream",
     "text": [
      "2016 Audi A4\n"
     ]
    }
   ],
   "source": [
    "class Car:\n",
    "    def __init__(self,make,model,year):\n",
    "        self.make=make\n",
    "        self.model=model\n",
    "        self.year=year\n",
    "    def func(self):\n",
    "        long_name = str(self.year) + ' '+ self.make+' '+self.model\n",
    "        #return long_name.title()\n",
    "        print(long_name.title())\n",
    "obj = Car('audi','a4',2016)\n",
    "obj.func()"
   ]
  },
  {
   "cell_type": "code",
   "execution_count": 31,
   "id": "3ed4b0cc",
   "metadata": {},
   "outputs": [
    {
     "data": {
      "text/plain": [
       "'Muhammad 23 7084 Canal Road Abdara Male'"
      ]
     },
     "execution_count": 31,
     "metadata": {},
     "output_type": "execute_result"
    }
   ],
   "source": [
    "class student:\n",
    "    def __init__(self,name,age,Id,address,gender):\n",
    "        self.name=name\n",
    "        self.age=age\n",
    "        self.Id=Id\n",
    "        self.address=address\n",
    "        self.gender=gender\n",
    "    def func(self):\n",
    "        x = self.name +' '+ str(self.age) +' '+ str(self.Id) +' '+ self.address +' '+ self.gender\n",
    "        return x.title()\n",
    "    def Profile(self):\n",
    "        print(f\"\"\"\n",
    "        Name:    {self.name}\n",
    "        Age:     {self.age}\n",
    "        ID:      {self.Id}\n",
    "        Adderess:{self.address}\n",
    "        Gender:  {self.gender}\n",
    "        \"\"\")\n",
    "obj=student(\"Muhammad\",23,7084,\"Canal Road abdara\",\"Male\")\n",
    "obj.func()"
   ]
  },
  {
   "cell_type": "code",
   "execution_count": 32,
   "id": "3c05dc78",
   "metadata": {},
   "outputs": [
    {
     "name": "stdout",
     "output_type": "stream",
     "text": [
      "\n",
      "        Name:    Muhammad\n",
      "        Age:     23\n",
      "        ID:      7084\n",
      "        Adderess:Canal Road abdara\n",
      "        Gender:  Male\n",
      "        \n"
     ]
    }
   ],
   "source": [
    "obj.Profile()"
   ]
  },
  {
   "cell_type": "code",
   "execution_count": 34,
   "id": "282924c4",
   "metadata": {},
   "outputs": [
    {
     "name": "stdout",
     "output_type": "stream",
     "text": [
      "2016 Audi A4\n",
      "this car has only 0 miles..\n"
     ]
    }
   ],
   "source": [
    "class Car:\n",
    "    def __init__(self,make,model,year):\n",
    "        self.make=make\n",
    "        self.model=model\n",
    "        self.year=year\n",
    "        self.odometer_reading=0\n",
    "    def func(self):\n",
    "        long_name = str(self.year) + ' '+ self.make+' '+self.model\n",
    "        #return long_name.title()\n",
    "        print(long_name.title())\n",
    "    def read_odometer(self):\n",
    "        print(f\"this car has only {self.odometer_reading} miles..\")\n",
    "obj = Car('audi','a4',2016)\n",
    "obj.func()\n",
    "obj.read_odometer()"
   ]
  },
  {
   "cell_type": "markdown",
   "id": "e5a3c582",
   "metadata": {},
   "source": [
    "Make a class called Restaurant. The __init__() method for\n",
    "Restaurant should store two attributes: a restaurant_name and a cuisine_type.\n",
    "Make a method called describe_restaurant() that prints these two pieces of\n",
    "information, and a method called open_restaurant() that prints a message indicating\n",
    "that the restaurant is open.\n",
    "Make an instance called restaurant from your class. Print the two attributes\n",
    "individually, and then call both methods.\n",
    "Add an attribute called number_served with a default value of 0. Create an\n",
    "instance called restaurant from this class. Print the number of customers the\n",
    "restaurant has served, and then change this value and print it again.\n",
    "Add a method called set_number_served() that lets you set the number\n",
    "of customers that have been served. Call this method with a new number and\n",
    "print the value again.\n",
    "Add a method called increment_number_served() that lets you increment\n",
    "the number of customers who’ve been served. Call this method with any number\n",
    "you like that could represent how many customers were served in, say, a\n",
    "day of business.\n"
   ]
  },
  {
   "cell_type": "code",
   "execution_count": 53,
   "id": "2e16d287",
   "metadata": {},
   "outputs": [
    {
     "data": {
      "text/plain": [
       "0"
      ]
     },
     "execution_count": 53,
     "metadata": {},
     "output_type": "execute_result"
    }
   ],
   "source": [
    "class restaurent:\n",
    "    def __init__(self,R_name,C_type,N_served):\n",
    "        self.R_name=R_name\n",
    "        self.C_type=C_type\n",
    "        self._N_served=N_served=0\n",
    "    def customer_served(self):\n",
    "        print(f'{self._N_served} have been served today')\n",
    "    def get_customer_served(self):\n",
    "        return self._N_served\n",
    "       \n",
    "    def set_customer_served(self,newnumber):\n",
    "         self._N_served=newnumber\n",
    "         \n",
    "            \n",
    "obj=restaurent('PC','Dragon',0)\n",
    "obj.get_customer_served()\n",
    "\n",
    "    \n",
    "    \n",
    "    "
   ]
  },
  {
   "cell_type": "code",
   "execution_count": 55,
   "id": "d53bee6d",
   "metadata": {},
   "outputs": [
    {
     "data": {
      "text/plain": [
       "0"
      ]
     },
     "execution_count": 55,
     "metadata": {},
     "output_type": "execute_result"
    }
   ],
   "source": [
    "obj.get_customer_served()"
   ]
  },
  {
   "cell_type": "code",
   "execution_count": 56,
   "id": "c5153ee7",
   "metadata": {},
   "outputs": [],
   "source": [
    "obj.set_customer_served(100)"
   ]
  },
  {
   "cell_type": "code",
   "execution_count": 57,
   "id": "21b10ebf",
   "metadata": {},
   "outputs": [
    {
     "data": {
      "text/plain": [
       "100"
      ]
     },
     "execution_count": 57,
     "metadata": {},
     "output_type": "execute_result"
    }
   ],
   "source": [
    "obj.get_customer_served()"
   ]
  },
  {
   "cell_type": "markdown",
   "id": "6e6cf20b",
   "metadata": {},
   "source": [
    "Make a class called User. Create two attributes called first_name\n",
    "and last_name, and then create several other attributes that are typically stored\n",
    "in a user profile. Make a method called describe_user() that prints a summary\n",
    "of the user’s information. Make another method called greet_user() that prints\n",
    "a personalized greeting to the user.\n",
    "Create several instances representing different users, and call both methods\n",
    "for each user.\n",
    "\n",
    "\n",
    "Add an attribute called login_attempts to your User\n",
    "Write a method called increment_\n",
    "login_attempts() that increments the value of login_attempts by 1. Write\n",
    "another method called reset_login_attempts() that resets the value of login_\n",
    "attempts to 0.\n",
    "Make an instance of the User class and call increment_login_attempts()\n",
    "several times. Print the value of login_attempts to make sure it was incremented\n",
    "properly, and then call reset_login_attempts(). Print login_attempts again to\n",
    "make sure it was reset to 0."
   ]
  },
  {
   "cell_type": "code",
   "execution_count": 62,
   "id": "4de55ea4",
   "metadata": {},
   "outputs": [],
   "source": [
    "class stationary:\n",
    "    def __init__(self,book,pens,pencil):\n",
    "        self.book=book\n",
    "        self.pens=pens\n",
    "        self.pencil=pencil\n",
    "    def func(self):\n",
    "        print(\"\"\"\n",
    "       Book: Python\n",
    "       pens: dollar\n",
    "       pencil: piano\n",
    "        \"\"\")\n",
    "obj = stationary(\"python\",\"Dollar\",\"piano\")\n"
   ]
  },
  {
   "cell_type": "code",
   "execution_count": 63,
   "id": "1a2bf10c",
   "metadata": {},
   "outputs": [
    {
     "data": {
      "text/plain": [
       "'python'"
      ]
     },
     "execution_count": 63,
     "metadata": {},
     "output_type": "execute_result"
    }
   ],
   "source": [
    "obj.book"
   ]
  },
  {
   "cell_type": "code",
   "execution_count": 64,
   "id": "5aeea9d9",
   "metadata": {},
   "outputs": [
    {
     "data": {
      "text/plain": [
       "'Dollar'"
      ]
     },
     "execution_count": 64,
     "metadata": {},
     "output_type": "execute_result"
    }
   ],
   "source": [
    "obj.pens"
   ]
  },
  {
   "cell_type": "code",
   "execution_count": 65,
   "id": "6d7abf51",
   "metadata": {},
   "outputs": [
    {
     "data": {
      "text/plain": [
       "'piano'"
      ]
     },
     "execution_count": 65,
     "metadata": {},
     "output_type": "execute_result"
    }
   ],
   "source": [
    "obj.pencil"
   ]
  },
  {
   "cell_type": "code",
   "execution_count": 67,
   "id": "d8726c37",
   "metadata": {},
   "outputs": [
    {
     "ename": "AttributeError",
     "evalue": "'stationary' object has no attribute 'pen'",
     "output_type": "error",
     "traceback": [
      "\u001b[1;31m---------------------------------------------------------------------------\u001b[0m",
      "\u001b[1;31mAttributeError\u001b[0m                            Traceback (most recent call last)",
      "Cell \u001b[1;32mIn[67], line 1\u001b[0m\n\u001b[1;32m----> 1\u001b[0m \u001b[38;5;28mprint\u001b[39m(obj\u001b[38;5;241m.\u001b[39mfunc())\n",
      "Cell \u001b[1;32mIn[62], line 9\u001b[0m, in \u001b[0;36mstationary.func\u001b[1;34m(self)\u001b[0m\n\u001b[0;32m      6\u001b[0m \u001b[38;5;28;01mdef\u001b[39;00m \u001b[38;5;21mfunc\u001b[39m(\u001b[38;5;28mself\u001b[39m):\n\u001b[0;32m      7\u001b[0m     \u001b[38;5;28mprint\u001b[39m(\u001b[38;5;124mf\u001b[39m\u001b[38;5;124m\"\"\"\u001b[39m\n\u001b[0;32m      8\u001b[0m \u001b[38;5;124m    book: \u001b[39m\u001b[38;5;132;01m{\u001b[39;00m\u001b[38;5;28mself\u001b[39m\u001b[38;5;241m.\u001b[39mbook\u001b[38;5;132;01m}\u001b[39;00m\n\u001b[1;32m----> 9\u001b[0m \u001b[38;5;124m    pen: \u001b[39m\u001b[38;5;132;01m{\u001b[39;00m\u001b[38;5;28mself\u001b[39m\u001b[38;5;241m.\u001b[39mpen\u001b[38;5;132;01m}\u001b[39;00m\n\u001b[0;32m     10\u001b[0m \u001b[38;5;124m    pencil:\u001b[39m\u001b[38;5;132;01m{\u001b[39;00m\u001b[38;5;28mself\u001b[39m\u001b[38;5;241m.\u001b[39mpencil\u001b[38;5;132;01m}\u001b[39;00m\n\u001b[0;32m     11\u001b[0m \u001b[38;5;124m    \u001b[39m\u001b[38;5;124m\"\"\"\u001b[39m)\n",
      "\u001b[1;31mAttributeError\u001b[0m: 'stationary' object has no attribute 'pen'"
     ]
    }
   ],
   "source": [
    "print(obj.func())"
   ]
  },
  {
   "cell_type": "code",
   "execution_count": 71,
   "id": "82797598",
   "metadata": {},
   "outputs": [],
   "source": [
    "class student:\n",
    "    def __init__(self,name,age,marks):\n",
    "        self.name=name\n",
    "        self.age=age\n",
    "        self.marks=marks\n",
    "    def func(self):\n",
    "        print(f\"\"\"\n",
    "        name: {self.name}\n",
    "        age:{self.age}\n",
    "        marks:{self.marks}\n",
    "        \n",
    "        \"\"\")\n",
    "obj=student(\"wajid\",23,100)"
   ]
  },
  {
   "cell_type": "code",
   "execution_count": 72,
   "id": "31a1da52",
   "metadata": {},
   "outputs": [
    {
     "data": {
      "text/plain": [
       "'wajid'"
      ]
     },
     "execution_count": 72,
     "metadata": {},
     "output_type": "execute_result"
    }
   ],
   "source": [
    "obj.name"
   ]
  },
  {
   "cell_type": "code",
   "execution_count": 73,
   "id": "aac4d392",
   "metadata": {},
   "outputs": [
    {
     "data": {
      "text/plain": [
       "23"
      ]
     },
     "execution_count": 73,
     "metadata": {},
     "output_type": "execute_result"
    }
   ],
   "source": [
    "obj.age"
   ]
  },
  {
   "cell_type": "code",
   "execution_count": 74,
   "id": "cdcc77dd",
   "metadata": {},
   "outputs": [
    {
     "data": {
      "text/plain": [
       "100"
      ]
     },
     "execution_count": 74,
     "metadata": {},
     "output_type": "execute_result"
    }
   ],
   "source": [
    "obj.marks"
   ]
  },
  {
   "cell_type": "code",
   "execution_count": 76,
   "id": "df31bf76",
   "metadata": {},
   "outputs": [
    {
     "name": "stdout",
     "output_type": "stream",
     "text": [
      "\n",
      "        name: wajid\n",
      "        age:23\n",
      "        marks:100\n",
      "        \n",
      "        \n"
     ]
    }
   ],
   "source": [
    "obj.func()"
   ]
  },
  {
   "cell_type": "code",
   "execution_count": null,
   "id": "f8f09008",
   "metadata": {},
   "outputs": [],
   "source": []
  }
 ],
 "metadata": {
  "kernelspec": {
   "display_name": "Python 3 (ipykernel)",
   "language": "python",
   "name": "python3"
  },
  "language_info": {
   "codemirror_mode": {
    "name": "ipython",
    "version": 3
   },
   "file_extension": ".py",
   "mimetype": "text/x-python",
   "name": "python",
   "nbconvert_exporter": "python",
   "pygments_lexer": "ipython3",
   "version": "3.11.5"
  }
 },
 "nbformat": 4,
 "nbformat_minor": 5
}
