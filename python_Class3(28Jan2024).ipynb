{
 "cells": [
  {
   "cell_type": "markdown",
   "id": "77afa85d",
   "metadata": {},
   "source": [
    "#string Formating"
   ]
  },
  {
   "cell_type": "code",
   "execution_count": 4,
   "id": "8d268a98",
   "metadata": {},
   "outputs": [
    {
     "name": "stdout",
     "output_type": "stream",
     "text": [
      "Enter age22\n",
      "enter namesaad\n",
      "your name is saad and your age 22 is\n"
     ]
    }
   ],
   "source": [
    "age =int( input(\"Enter age\"))\n",
    "name = input(\"enter name\")\n",
    "print(f\"your name is {name} and your age {age} is\")"
   ]
  },
  {
   "cell_type": "code",
   "execution_count": 5,
   "id": "3bf89b6f",
   "metadata": {},
   "outputs": [
    {
     "data": {
      "text/plain": [
       "44"
      ]
     },
     "execution_count": 5,
     "metadata": {},
     "output_type": "execute_result"
    }
   ],
   "source": [
    "age+22"
   ]
  },
  {
   "cell_type": "markdown",
   "id": "68621674",
   "metadata": {},
   "source": [
    "# Logical Operator\n",
    ".and\n",
    ".or\n",
    ".not"
   ]
  },
  {
   "cell_type": "code",
   "execution_count": 6,
   "id": "98fdf572",
   "metadata": {},
   "outputs": [
    {
     "data": {
      "text/plain": [
       "True"
      ]
     },
     "execution_count": 6,
     "metadata": {},
     "output_type": "execute_result"
    }
   ],
   "source": [
    "12>10 and 10>5\n",
    "#true      true\n"
   ]
  },
  {
   "cell_type": "raw",
   "id": "baba01b5",
   "metadata": {},
   "source": [
    "############AND############# Remind as multiplication\n",
    "exp1   and  exp2            Result\n",
    "ture         true           true\n",
    "true         false          false\n",
    "false        true           false\n",
    "false        false          false\n",
    "\n",
    "##########OR######## remind as +\n",
    "exp1   or  exp2            Result\n",
    "ture         true           true\n",
    "true         false          true\n",
    "false        true           true\n",
    "false        false          false\n",
    "\n",
    "########## NOT ##########\n",
    "Not(true)>>>>false\n",
    "\n"
   ]
  },
  {
   "cell_type": "markdown",
   "id": "e0275399",
   "metadata": {},
   "source": [
    "#Truthy Faslsy"
   ]
  },
  {
   "cell_type": "code",
   "execution_count": 8,
   "id": "eec55747",
   "metadata": {},
   "outputs": [
    {
     "data": {
      "text/plain": [
       "True"
      ]
     },
     "execution_count": 8,
     "metadata": {},
     "output_type": "execute_result"
    }
   ],
   "source": [
    "bool(1) #is truthy"
   ]
  },
  {
   "cell_type": "code",
   "execution_count": 9,
   "id": "49678c19",
   "metadata": {},
   "outputs": [
    {
     "data": {
      "text/plain": [
       "False"
      ]
     },
     "execution_count": 9,
     "metadata": {},
     "output_type": "execute_result"
    }
   ],
   "source": [
    "bool(0)# is falsy"
   ]
  },
  {
   "cell_type": "code",
   "execution_count": 12,
   "id": "9829be8c",
   "metadata": {},
   "outputs": [],
   "source": [
    "a=10\n",
    "b=a*3-1  #29\n",
    "c=b+a*2  #49\n",
    "d=c+b-5  #73"
   ]
  },
  {
   "cell_type": "code",
   "execution_count": 13,
   "id": "04ab76b1",
   "metadata": {},
   "outputs": [
    {
     "data": {
      "text/plain": [
       "True"
      ]
     },
     "execution_count": 13,
     "metadata": {},
     "output_type": "execute_result"
    }
   ],
   "source": [
    "a>b or b<c or c>d"
   ]
  },
  {
   "cell_type": "code",
   "execution_count": 15,
   "id": "78eda737",
   "metadata": {},
   "outputs": [
    {
     "data": {
      "text/plain": [
       "(True, True, True, False)"
      ]
     },
     "execution_count": 15,
     "metadata": {},
     "output_type": "execute_result"
    }
   ],
   "source": [
    "# whenever a vlaue it will be truthy \n",
    "# No value its falsy\n",
    "bool(122),bool(\"saad\"),bool(9.00), bool(\"\")"
   ]
  },
  {
   "cell_type": "code",
   "execution_count": 16,
   "id": "dad10bdd",
   "metadata": {},
   "outputs": [
    {
     "data": {
      "text/plain": [
       "300"
      ]
     },
     "execution_count": 16,
     "metadata": {},
     "output_type": "execute_result"
    }
   ],
   "source": [
    "a=100\n",
    "b=200\n",
    "c=300\n",
    "a and b and c"
   ]
  },
  {
   "cell_type": "code",
   "execution_count": 18,
   "id": "bd545582",
   "metadata": {},
   "outputs": [
    {
     "data": {
      "text/plain": [
       "False"
      ]
     },
     "execution_count": 18,
     "metadata": {},
     "output_type": "execute_result"
    }
   ],
   "source": [
    "import math\n",
    "x=-100\n",
    "y=(x>10) and math.sqrt(x)\n",
    "y"
   ]
  },
  {
   "cell_type": "markdown",
   "id": "afb7e4e9",
   "metadata": {},
   "source": [
    "#STring\n",
    "is immutable (not changing)\n",
    "is iterable (easily access)"
   ]
  },
  {
   "cell_type": "code",
   "execution_count": null,
   "id": "1670a113",
   "metadata": {},
   "outputs": [],
   "source": [
    "name = \"saad\""
   ]
  },
  {
   "cell_type": "code",
   "execution_count": 19,
   "id": "fd993aa0",
   "metadata": {},
   "outputs": [
    {
     "data": {
      "text/plain": [
       "'SAAD'"
      ]
     },
     "execution_count": 19,
     "metadata": {},
     "output_type": "execute_result"
    }
   ],
   "source": [
    "name.upper()"
   ]
  },
  {
   "cell_type": "code",
   "execution_count": 20,
   "id": "f53f8935",
   "metadata": {},
   "outputs": [
    {
     "data": {
      "text/plain": [
       "'saad'"
      ]
     },
     "execution_count": 20,
     "metadata": {},
     "output_type": "execute_result"
    }
   ],
   "source": [
    "name = \"SAAD\"\n",
    "name.lower()"
   ]
  },
  {
   "cell_type": "code",
   "execution_count": 21,
   "id": "9488cda1",
   "metadata": {},
   "outputs": [
    {
     "data": {
      "text/plain": [
       "'SAAD'"
      ]
     },
     "execution_count": 21,
     "metadata": {},
     "output_type": "execute_result"
    }
   ],
   "source": [
    "name"
   ]
  },
  {
   "cell_type": "code",
   "execution_count": null,
   "id": "1b124d6e",
   "metadata": {},
   "outputs": [],
   "source": [
    "name = \"saad khan\""
   ]
  },
  {
   "cell_type": "code",
   "execution_count": 22,
   "id": "8f9894ef",
   "metadata": {},
   "outputs": [
    {
     "data": {
      "text/plain": [
       "'Saad'"
      ]
     },
     "execution_count": 22,
     "metadata": {},
     "output_type": "execute_result"
    }
   ],
   "source": [
    "name.title()"
   ]
  },
  {
   "cell_type": "code",
   "execution_count": 25,
   "id": "dd1d8852",
   "metadata": {},
   "outputs": [
    {
     "data": {
      "text/plain": [
       "0"
      ]
     },
     "execution_count": 25,
     "metadata": {},
     "output_type": "execute_result"
    }
   ],
   "source": [
    "name.count(\"d\")"
   ]
  },
  {
   "cell_type": "code",
   "execution_count": null,
   "id": "f1981405",
   "metadata": {},
   "outputs": [],
   "source": []
  }
 ],
 "metadata": {
  "kernelspec": {
   "display_name": "Python 3 (ipykernel)",
   "language": "python",
   "name": "python3"
  },
  "language_info": {
   "codemirror_mode": {
    "name": "ipython",
    "version": 3
   },
   "file_extension": ".py",
   "mimetype": "text/x-python",
   "name": "python",
   "nbconvert_exporter": "python",
   "pygments_lexer": "ipython3",
   "version": "3.11.5"
  }
 },
 "nbformat": 4,
 "nbformat_minor": 5
}
